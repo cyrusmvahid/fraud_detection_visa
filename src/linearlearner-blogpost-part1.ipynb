{
 "cells": [
  {
   "cell_type": "markdown",
   "metadata": {},
   "source": [
    "# Blog post 1: Linear regression and binary classification, a friendly introduction"
   ]
  },
  {
   "cell_type": "markdown",
   "metadata": {},
   "source": [
    "# Assumptions and Disclaimers\n",
    "This blogpost assumes that you have already completed the following tutorials from Amazon SageMaker documentation!:\n",
    "- [Setting up](https://docs.aws.amazon.com/sagemaker/latest/dg/gs-set-up.html)\n",
    "- [Create am Amazon SageMaker Notebook Instance](https://docs.aws.amazon.com/sagemaker/latest/dg/gs-setup-working-env.html)\n",
    "- I have included 'sagemaker' in the name of my S3 bucket, \"cyrusmv-sagemaker-demos' and have chosen to let any SageMaker notebook instance to access any S3 bucket with the term 'sagemaker' included in the name. This is however is not a recommended security option for production and is only useful for simplifying the flow of the blog.\n",
    "- In this blog I am using [Titanic dataset](https://github.com/agconti/kaggle-titanic). I have put the dataset in an S3 bucket. You should also download the dataset and upload the data onto S3 otherwise you shall receive errors.\n",
    "\n"
   ]
  },
  {
   "cell_type": "markdown",
   "metadata": {},
   "source": [
    "# Introduction\n",
    "Surprisingly, many problems in the real-world can be approximated to a linear problem, meaning that a linear polynomial can provide a good output approximation to an n-dimensional input vector. Linear regression is perhaps the most applied and simplest of all machine learning models.\n",
    "\n",
    "With this in mind, we have implemented a scalable linear regression model as a part of Amazon Algorithms that can be used in Amazon SageMaker. . I have put together a three-part series of blog posts that explain our scalable linear regression model.\n",
    "\n",
    "In this blog post, which is blog post one, I provide an easy and intuitive introduction to linear regression. I also provide references to implement your own linear regression, both from scratch and using MXNet and Gluon.\n",
    "\n",
    "In blog post two, “Getting Hands-On with Linear Learner and Amazon SageMaker,” I walk you through an entire process for data pre-processing, training, and deployment of a model as a live endpoint. I use the Visa Credit Card Fraud dataset from Kaggle, pre-process the data, and use Amazon Linear Learner to predict fraudulent transactions.  I observe that using default values of LinearLearner yields an impressive precision of near certainty. However, the recall on the fraudulent transactions is 80 percent.\n",
    "\n",
    "In blog post three, “Excel in tuning models using Amazon Linear Learner algorithm,” I attempt to fine-tune the model on the Visa dataset to see whether or not the recall could be improved. \n",
    "\n",
    "# Prerequisites\n",
    "For this series of blog posts, I assume that you have already completed the following tutorials from Amazon SageMaker documentation:\n",
    "\n",
    "- [Setting up](https://docs.aws.amazon.com/sagemaker/latest/dg/gs-set-up.html) \n",
    "- [Create an Amazon SageMaker Notebook Instance](https://docs.aws.amazon.com/sagemaker/latest/dg/gs-setup-working-env.html)\n",
    "\n",
    "I have included “sagemaker” in the name of my S3 bucket, \"cyrusmv-sagemaker-demos' and have chosen to let any SageMaker notebook instance access any Amazon S3 bucket with the term “sagemaker” included in the name. Note: This is not a recommended security option for production and is only useful for simplifying the flow of the blog.\n",
    "In this blog I am using the Titanic dataset from Kaggle (https://www.kaggle.com/c/titanic/data). I have put the dataset in an Amazon S3 bucket. You should also download the dataset and upload the data to Amazon S3, otherwise you will receive errors.\n",
    "\n"
   ]
  },
  {
   "cell_type": "markdown",
   "metadata": {},
   "source": [
    "# An introduction to linear regression\n",
    "Let’s consider a dataset composed of discrete values scattered around in a way that a straight line can pass through them, meaning that most of the data are within a certain distance from the line.\n",
    "\n",
    "## The theory\n",
    "Remembering from high-school math, we know that in a two-dimensional space a straight line can be represented as a function, formalized as the following:\n",
    "\n",
    "$$f:\\mathcal{D} \\rightarrow \\mathcal{R}$$\n",
    "$$y = f(x) = ax + b$$\n",
    "Now if $\\mathcal{D}=\\left\\{0,1, 2, 3, ..., 49\\right\\}$, then for $a=2$ and $b=1$, $\\mathcal{R}$ is a set including all positive odd numbers that are less than $100$.\n",
    "\n",
    "In the following code we create such data and plot the function."
   ]
  },
  {
   "cell_type": "code",
   "execution_count": 12,
   "metadata": {},
   "outputs": [],
   "source": [
    "import numpy as np #a library for array operations\n",
    "import matplotlib.pyplot as plt #Python 2D plotting library\n",
    "import random as rnd\n",
    "import seaborn as sns           #Plotting library based on matplotlib that can take pandas.DataFrame inputs\n",
    "import pandas as pd             #tabular data structure with SQL-like function support\n",
    "#import boto3                    #Python SDK for AWS services\n",
    "import os"
   ]
  },
  {
   "cell_type": "code",
   "execution_count": 13,
   "metadata": {},
   "outputs": [],
   "source": [
    "range_start = 0\n",
    "range_end = 49"
   ]
  },
  {
   "cell_type": "code",
   "execution_count": 14,
   "metadata": {},
   "outputs": [
    {
     "data": {
      "image/png": "[encoded data removed]",
      "text/plain": [
       "<Figure size 432x288 with 1 Axes>"
      ]
     },
     "metadata": {},
     "output_type": "display_data"
    }
   ],
   "source": [
    "d = np.arange(range_start, range_end)\n",
    "r = list(map(lambda x: 2 * x + 1, d)) #function y = 2x+1 for domain d, returning the range as a list\n",
    "plt.scatter(d, r, )\n",
    "plt.show()"
   ]
  },
  {
   "cell_type": "markdown",
   "metadata": {},
   "source": [
    "**Adding Noise:**\n",
    "The problem is that the data in real life is noisy and almost never follows a perfect line. In many cases, however the distribution of data permits us to approximate the data to a line that represents the distribution with some error. The following code synthesizes a dataset based on the same function, except that the domain will be a random normal distribution with some random noise between 0 and 1."
   ]
  },
  {
   "cell_type": "code",
   "execution_count": 15,
   "metadata": {},
   "outputs": [
    {
     "data": {
      "image/png": "[encoded data removed]",
      "text/plain": [
       "<Figure size 432x288 with 1 Axes>"
      ]
     },
     "metadata": {},
     "output_type": "display_data"
    }
   ],
   "source": [
    "rnd.seed(42)\n",
    "noise_factor = lambda x: rnd.random() * x\n",
    "np.random.seed(13)\n",
    "d = np.random.normal(loc=range_start, scale=1, size=range_end + 1)\n",
    "r = list(map(lambda x: 2 * x + 1 + rnd.random()* noise_factor(3), d))\n",
    "plt.scatter(d, r, )\n",
    "plt.show()"
   ]
  },
  {
   "cell_type": "markdown",
   "metadata": {},
   "source": [
    "It is noticeable that a straight line can provide a good approximation for the data distribution. in a multi-dimensional world, where the function variable is a vector such as `<age, income, postal district, ...>`, our function would be:\n",
    "$$f:{V} \\subseteq \\mathbb{R}^n  \\rightarrow \\mathcal{R} \\subseteq \\mathbb{R}\n",
    "\\\\ \n",
    "y = f(V) = V.W + b\n",
    "$$\n",
    "In this case, V is the input feature vector, w is a parameter or weight vector, and b is bias. The task of linear regression is to find optimal w and b in order to approximate the data to a line.\n",
    "\n",
    "In the following graph we use a seaborn library to find the optimal line that approximates our distribution (the green line).\n",
    "\n",
    "Suppose we have a 4D input space $$V=[inv_1=gender, v_2=age, v_3=education, v_4=postal\\_district]$$ \n",
    "We want to predict income. Since the range of the function is $\\mathbb {R}$ and $V$ has a dimension of $1 \\times 4$, we should find $W_{4 \\times 1}$ and scalar $b$ to solve the linear regression problem.\n",
    "\n",
    "$$\n",
    "f: \\mathbb{R^4} \\rightarrow \\mathbb{R} \\\\ \n",
    "f(V) = \\left[\\begin{array}{cc} v_1 & v_2 & v_3 & v_4 \\end{array}\\right]_{1 \\times 4} \\ \n",
    "\\left[\\begin{array}{cc} w_1\\\\ w_2\\\\ w_3\\\\ w_4 \\end{array}\\right]_{4 \\times 1} \\\n",
    "+ b  = y \\ \\epsilon \\ \\mathbb {R}\n",
    "$$\n",
    "\n",
    "In machine learning the input space is nearly always multi-dimensional, but in our examples and plots we have used 1D synthetic data in order to simplify the presentation.\n",
    "\n",
    "*Challenge: You can change the shape and noise of the data and check the results.*\n"
   ]
  },
  {
   "cell_type": "code",
   "execution_count": 36,
   "metadata": {},
   "outputs": [
    {
     "data": {
      "text/plain": [
       "{'axes.facecolor': '#EAEAF2',\n",
       " 'axes.edgecolor': 'white',\n",
       " 'axes.grid': True,\n",
       " 'axes.axisbelow': True,\n",
       " 'axes.labelcolor': '.15',\n",
       " 'figure.facecolor': 'white',\n",
       " 'grid.color': 'white',\n",
       " 'grid.linestyle': '-',\n",
       " 'text.color': '.15',\n",
       " 'xtick.color': '.15',\n",
       " 'ytick.color': '.15',\n",
       " 'xtick.direction': 'out',\n",
       " 'ytick.direction': 'out',\n",
       " 'lines.solid_capstyle': 'round',\n",
       " 'patch.edgecolor': 'w',\n",
       " 'image.cmap': 'rocket',\n",
       " 'font.family': ['sans-serif'],\n",
       " 'font.sans-serif': ['Arial',\n",
       "  'DejaVu Sans',\n",
       "  'Liberation Sans',\n",
       "  'Bitstream Vera Sans',\n",
       "  'sans-serif'],\n",
       " 'patch.force_edgecolor': True,\n",
       " 'xtick.bottom': False,\n",
       " 'xtick.top': False,\n",
       " 'ytick.left': False,\n",
       " 'ytick.right': False,\n",
       " 'axes.spines.left': True,\n",
       " 'axes.spines.bottom': True,\n",
       " 'axes.spines.right': True,\n",
       " 'axes.spines.top': True}"
      ]
     },
     "execution_count": 36,
     "metadata": {},
     "output_type": "execute_result"
    }
   ],
   "source": [
    "sns.axes_style()\n"
   ]
  },
  {
   "cell_type": "code",
   "execution_count": 37,
   "metadata": {},
   "outputs": [],
   "source": []
  },
  {
   "cell_type": "code",
   "execution_count": 42,
   "metadata": {},
   "outputs": [
    {
     "name": "stderr",
     "output_type": "stream",
     "text": [
      "/Users/cyrusmv/miniconda3/envs/mxnet_rl_with_graphics/lib/python3.6/site-packages/scipy/stats/stats.py:1713: FutureWarning: Using a non-tuple sequence for multidimensional indexing is deprecated; use `arr[tuple(seq)]` instead of `arr[seq]`. In the future this will be interpreted as an array index, `arr[np.array(seq)]`, which will result either in an error or a different result.\n",
      "  return np.add.reduce(sorted[indexer] * weights, axis=axis) / sumval\n"
     ]
    },
    {
     "data": {
      "image/png": "[encoded data removed]",
      "text/plain": [
       "<Figure size 432x288 with 1 Axes>"
      ]
     },
     "metadata": {},
     "output_type": "display_data"
    }
   ],
   "source": [
    "noisy_data = pd.DataFrame(np.column_stack((d, r)), columns=['x', 'y'])\n",
    "sns.set(color_codes=True)\n",
    "sns.regplot('x', 'y', data=noisy_data, line_kws={'color': 'g'}, scatter_kws={'color':'orange'})\n",
    "sns.set()\n",
    "sns.set_style({'axes.grid': False, 'grid.color': 'blue'})\n",
    "plt.show()\n"
   ]
  },
  {
   "cell_type": "code",
   "execution_count": 35,
   "metadata": {},
   "outputs": [
    {
     "name": "stdout",
     "output_type": "stream",
     "text": [
      "in the perfect world f(d[5]) = f(0.5323378882945463) = 2.064675776589093\n",
      "in the reality f(d[5]) = f(0.5323378882945463) = 2.3961453468307248\n"
     ]
    }
   ],
   "source": [
    "print(\"in the perfect world f(d[5]) = f({}) = {}\".format(d[5], 2*d[5]+1))\n",
    "print(\"in the reality f(d[5]) = f({}) = {}\".format(d[5], r[5]))\n"
   ]
  },
  {
   "cell_type": "markdown",
   "metadata": {},
   "source": [
    "## Model error\n",
    "In the perfect world f(d[5]) = f(0.5323378882945463) = __2.064675776589093__. \n",
    "In the reality f(d[5]) = f(0.5323378882945463) = **2.3961453468307248**.\n",
    "\n",
    "The first number is generated by the fitted model.  The second number is the observed value. There is a distance between the numbers. \n",
    "\n",
    "The residual of an observed value is the difference between the observed value and the estimated value.\n",
    "\n",
    "This might look like loss of accuracy, but in fact this approximation is the source of the generalization power of machine learning.\n",
    "\n",
    "There are many methods of calculating loss. One of the most common for linear regression is or Root Mean Squared Error.\n",
    "\n",
    "Root Mean Squared Error (RMSE) is the deviation of the residuals or prediction errors from the fitted model. Residuals measure how far are the data-points are from the regression line. RMSE measures the deviation of residuals from the fitted model.\n",
    "\n",
    "![Model Error or Loss](https://github.com/zackchase/mxnet-the-straight-dope/raw/dc1822005027d63eb9a20cde1a6276c7714050f4/img/linear-regression.png)\n",
    "\n",
    "*reference: https://github.com/zackchase/mxnet-the-straight-dope/blob/master/chapter02_supervised-learning/linear-regression-scratch.ipynb*\n",
    "\n",
    "\n",
    "if $y_i$ is the the observed value for a particular input $x_i$ and $\\hat{y_i}$ is the predicted value, then:\n",
    "\n",
    "$$\\mathcal{L} = RMSE = \\sqrt{\\frac{1}{n}\\sum_{i=1}^{N}{(y_i - \\hat{y_i})^2}}$$\n",
    "\n",
    "Other loss functions are also popular such as Absolute Mean Square Error:\n",
    "$$\n",
    "MAE = \\frac{1}{1} \\sum_{i=1}^{n}|\\hat{y_i}-y_i|\n",
    "$$\n",
    "\n",
    "RMSE magnifies the magnitude of errors and that affects large errors more pronouncedly. Thus it is more effective if you need to penalize large errors."
   ]
  },
  {
   "cell_type": "markdown",
   "metadata": {},
   "source": [
    "## An example\n",
    " A classic example of linear regression is a survival score for a passenger in Titanic's infamous maiden voyage. The Titanic dataset in Kaggle has captured this data. For more information, go to [Titanic: Machine Learning for Disaster.]((https://www.kaggle.com/c/titanic)) \n",
    "\n",
    "In the Titanic dataset there are several inputs such as class, ticket price, gender, age, and others. We want to project a probability for survival of a passenger, given the features that represent the passenger.\n",
    "\n",
    "We also want to make a binary prediction whether or not a passenger will survive. Regression models always make a real-value prediction. If that value is bounded between 0 and 1, then that would be a probability value from a distribution. We can then use a threshold or project the output value to a binary projection.\n",
    "\n",
    "For instance, we can set the threshold to 0.5, so that anything above indicates that a passenger has survived, and anything below indicates otherwise.\n",
    "\n",
    "Since models do approximate, they necessarily produce errors. A model can predict a false positive, true positive, false negative, and true negative.\n",
    "\n",
    "-\tA false positive prediction in our example is when the model predicts survival when the person has not survived.\n",
    "\n",
    "-\tA true positive prediction in our example is when the model predicts survival correctly.\n",
    "\n",
    "-\tA false negative prediction in our example is when the model predicts not-survived while the person has survived.\n",
    "\n",
    "-\tA true negative prediction in out example is when the model correctly predicts that a passenger has not survived.\n",
    "\n",
    "Based on what is important for us we might want to adjust the threshold in order to reduce false positives or false negatives at the expense of a model’s total precision or accuracy.\n",
    "\n",
    "Let'S take a look at another example. In the case of a cancer diagnosis algorithm, we want to have no false negatives, if at all possible. It is always better to flag a healthy patient as suspect and perform further tests, as opposed to letting a patient with cancer leaves the clinic unchecked.\n",
    "\n",
    "*Note that I have already uploaded train.csv from the kaggle website onto an S3 bucket.*\n"
   ]
  },
  {
   "cell_type": "code",
   "execution_count": 43,
   "metadata": {},
   "outputs": [
    {
     "data": {
      "text/plain": [
       "['hsperfdata_role-agent', '.ICE-unix', 'titanic_train.csv']"
      ]
     },
     "execution_count": 43,
     "metadata": {},
     "output_type": "execute_result"
    }
   ],
   "source": [
    "#Downloading data files from S3 to the notebook instance\n",
    "BUCKET_NAME = 'cyrusmv-sagemaker-demos' #Change this to your own bucket name\n",
    "KEY = 'titanic-kaggle/train.csv'\n",
    "LOCAL_FILE = '/tmp/titanic_train.csv'\n",
    "\n",
    "\n",
    "#Downloading the file to a local folder\n",
    "s3 = boto3.resource('s3')\n",
    "bucket = s3.Bucket(BUCKET_NAME)   \n",
    "bucket.download_file(Key=KEY, Filename=LOCAL_FILE)\n",
    "os.listdir('/tmp')\n"
   ]
  },
  {
   "cell_type": "code",
   "execution_count": 44,
   "metadata": {},
   "outputs": [
    {
     "data": {
      "text/html": [
       "<div>\n",
       "<style>\n",
       "    .dataframe thead tr:only-child th {\n",
       "        text-align: right;\n",
       "    }\n",
       "\n",
       "    .dataframe thead th {\n",
       "        text-align: left;\n",
       "    }\n",
       "\n",
       "    .dataframe tbody tr th {\n",
       "        vertical-align: top;\n",
       "    }\n",
       "</style>\n",
       "<table border=\"1\" class=\"dataframe\">\n",
       "  <thead>\n",
       "    <tr style=\"text-align: right;\">\n",
       "      <th></th>\n",
       "      <th>PassengerId</th>\n",
       "      <th>Survived</th>\n",
       "      <th>Pclass</th>\n",
       "      <th>Name</th>\n",
       "      <th>Sex</th>\n",
       "      <th>Age</th>\n",
       "      <th>SibSp</th>\n",
       "      <th>Parch</th>\n",
       "      <th>Ticket</th>\n",
       "      <th>Fare</th>\n",
       "      <th>Cabin</th>\n",
       "      <th>Embarked</th>\n",
       "    </tr>\n",
       "  </thead>\n",
       "  <tbody>\n",
       "    <tr>\n",
       "      <th>0</th>\n",
       "      <td>1</td>\n",
       "      <td>0</td>\n",
       "      <td>3</td>\n",
       "      <td>Braund, Mr. Owen Harris</td>\n",
       "      <td>male</td>\n",
       "      <td>22.0</td>\n",
       "      <td>1</td>\n",
       "      <td>0</td>\n",
       "      <td>A/5 21171</td>\n",
       "      <td>7.2500</td>\n",
       "      <td>NaN</td>\n",
       "      <td>S</td>\n",
       "    </tr>\n",
       "    <tr>\n",
       "      <th>1</th>\n",
       "      <td>2</td>\n",
       "      <td>1</td>\n",
       "      <td>1</td>\n",
       "      <td>Cumings, Mrs. John Bradley (Florence Briggs Th...</td>\n",
       "      <td>female</td>\n",
       "      <td>38.0</td>\n",
       "      <td>1</td>\n",
       "      <td>0</td>\n",
       "      <td>PC 17599</td>\n",
       "      <td>71.2833</td>\n",
       "      <td>C85</td>\n",
       "      <td>C</td>\n",
       "    </tr>\n",
       "    <tr>\n",
       "      <th>2</th>\n",
       "      <td>3</td>\n",
       "      <td>1</td>\n",
       "      <td>3</td>\n",
       "      <td>Heikkinen, Miss. Laina</td>\n",
       "      <td>female</td>\n",
       "      <td>26.0</td>\n",
       "      <td>0</td>\n",
       "      <td>0</td>\n",
       "      <td>STON/O2. 3101282</td>\n",
       "      <td>7.9250</td>\n",
       "      <td>NaN</td>\n",
       "      <td>S</td>\n",
       "    </tr>\n",
       "    <tr>\n",
       "      <th>3</th>\n",
       "      <td>4</td>\n",
       "      <td>1</td>\n",
       "      <td>1</td>\n",
       "      <td>Futrelle, Mrs. Jacques Heath (Lily May Peel)</td>\n",
       "      <td>female</td>\n",
       "      <td>35.0</td>\n",
       "      <td>1</td>\n",
       "      <td>0</td>\n",
       "      <td>113803</td>\n",
       "      <td>53.1000</td>\n",
       "      <td>C123</td>\n",
       "      <td>S</td>\n",
       "    </tr>\n",
       "    <tr>\n",
       "      <th>4</th>\n",
       "      <td>5</td>\n",
       "      <td>0</td>\n",
       "      <td>3</td>\n",
       "      <td>Allen, Mr. William Henry</td>\n",
       "      <td>male</td>\n",
       "      <td>35.0</td>\n",
       "      <td>0</td>\n",
       "      <td>0</td>\n",
       "      <td>373450</td>\n",
       "      <td>8.0500</td>\n",
       "      <td>NaN</td>\n",
       "      <td>S</td>\n",
       "    </tr>\n",
       "  </tbody>\n",
       "</table>\n",
       "</div>"
      ],
      "text/plain": [
       "   PassengerId  Survived  Pclass  \\\n",
       "0            1         0       3   \n",
       "1            2         1       1   \n",
       "2            3         1       3   \n",
       "3            4         1       1   \n",
       "4            5         0       3   \n",
       "\n",
       "                                                Name     Sex   Age  SibSp  \\\n",
       "0                            Braund, Mr. Owen Harris    male  22.0      1   \n",
       "1  Cumings, Mrs. John Bradley (Florence Briggs Th...  female  38.0      1   \n",
       "2                             Heikkinen, Miss. Laina  female  26.0      0   \n",
       "3       Futrelle, Mrs. Jacques Heath (Lily May Peel)  female  35.0      1   \n",
       "4                           Allen, Mr. William Henry    male  35.0      0   \n",
       "\n",
       "   Parch            Ticket     Fare Cabin Embarked  \n",
       "0      0         A/5 21171   7.2500   NaN        S  \n",
       "1      0          PC 17599  71.2833   C85        C  \n",
       "2      0  STON/O2. 3101282   7.9250   NaN        S  \n",
       "3      0            113803  53.1000  C123        S  \n",
       "4      0            373450   8.0500   NaN        S  "
      ]
     },
     "execution_count": 44,
     "metadata": {},
     "output_type": "execute_result"
    }
   ],
   "source": [
    "#Inspecting Data\n",
    "df = pd.read_csv(LOCAL_FILE)\n",
    "df.head(5)"
   ]
  },
  {
   "cell_type": "markdown",
   "metadata": {},
   "source": [
    "All columns, other than *survived* are called *features*. The goal of regression task is to predict a *target* based on learning patterns from *features*. Column *survived* is our *target*.\n",
    "The regression task predicts a probability of survival. As mentioned earlier, in a binary prediction task, we use a threshold function to make a binary decision based on a probability score. For example, using a step function to set the threshold.\n",
    "\n",
    "$$ \n",
    "f(x) = \\begin{cases} \n",
    "      1 & x\\geqq 0.5, \\\\\n",
    "      0 & x< 0.5 \n",
    "   \\end{cases}\n",
    "$$\n",
    "We can indeed change the threshold in order to tune the model for precision or recall as we discussed earlier.\n",
    "\n",
    "__***Note:***__ For logistic regression with Gluon please refer to: [logistic regression using gluon](https://github.com/zackchase/mxnet-the-straight-dope/blob/master/chapter02_supervised-learning/logistic-regression-gluon.ipynb)\n",
    "\n",
    "\n",
    "\n",
    "We shall now depart from the Titanic example, because the data requires pre-processing. Pre-processing of data is a crucial task in developing machine learning models and requires a separate post. We now use the credit card data set from Kaggle, where data is pre-processed, meaning:\n",
    "- All data is numeric\n",
    "- All data is factorized, meaning that ranges are transformed to *\"one-of-N* form.\n",
    "- All data is normalized, meaning that the ranges have become comparable.\n"
   ]
  },
  {
   "cell_type": "markdown",
   "metadata": {},
   "source": [
    "For more information and to learn how to write your own linear regression and binary classification models please go to the following:\n",
    "- [linear regression from scratch](https://github.com/zackchase/mxnet-the-straight-dope/blob/master/chapter02_supervised-learning/linear-regression-scratch.ipynb)\n",
    "- [linear regression using gluon](https://github.com/zackchase/mxnet-the-straight-dope/blob/master/chapter02_supervised-learning/linear-regression-gluon.ipynb)\n",
    "\n",
    "for the binary variant or logistic regression please refer to:\n",
    "- [logistic regression using gluon](https://github.com/zackchase/mxnet-the-straight-dope/blob/master/chapter02_supervised-learning/logistic-regression-gluon.ipynb)\n"
   ]
  },
  {
   "cell_type": "markdown",
   "metadata": {
    "collapsed": true
   },
   "source": [
    "# What’s next\n",
    "In blog post 1 I provide you with a basic introduction to linear regression. I also provide references to implement your own linear regression, both from scratch and using MXNet and Gluon. \n",
    "\n",
    "In blog post 2,  [Getting Hands-On with Linear Learner and Amazon SageMaker](linearlearner-blogpost-part2.ipynb), I’ll download [Visa dataset from Kaggle](https://www.kaggle.com/mlg-ulb/creditcardfraud) from an Amazon S3 location to my notebook instance and pre-process it to feed the data to the algorithm. We can then create a live endpoint and make predictions using trained models.\n"
   ]
  }
 ],
 "metadata": {
  "kernelspec": {
   "display_name": "Python 3",
   "language": "python",
   "name": "python3"
  },
  "language_info": {
   "codemirror_mode": {
    "name": "ipython",
    "version": 3
   },
   "file_extension": ".py",
   "mimetype": "text/x-python",
   "name": "python",
   "nbconvert_exporter": "python",
   "pygments_lexer": "ipython3",
   "version": "3.6.6"
  }
 },
 "nbformat": 4,
 "nbformat_minor": 2
}
