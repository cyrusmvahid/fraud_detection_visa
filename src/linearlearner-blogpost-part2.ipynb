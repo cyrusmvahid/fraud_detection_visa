{
 "cells": [
  {
   "cell_type": "code",
   "execution_count": 5,
   "metadata": {},
   "outputs": [
    {
     "name": "stdout",
     "output_type": "stream",
     "text": [
      "Collecting sagemaker\n",
      "\u001b[?25l  Downloading https://files.pythonhosted.org/packages/29/c0/521b10ae33fb06001e062b7519afdc634663d7617361ab8b04500867f3ae/sagemaker-1.28.3.tar.gz (185kB)\n",
      "\u001b[K    100% |████████████████████████████████| 194kB 2.0MB/s ta 0:00:01\n",
      "\u001b[?25hRequirement already satisfied: boto3>=1.9.169 in /Users/cyrusmv/miniconda3/lib/python3.6/site-packages (from sagemaker) (1.9.171)\n",
      "Requirement already satisfied: numpy>=1.9.0 in /Users/cyrusmv/miniconda3/lib/python3.6/site-packages (from sagemaker) (1.14.5)\n",
      "Collecting protobuf>=3.1 (from sagemaker)\n",
      "\u001b[?25l  Downloading https://files.pythonhosted.org/packages/2b/d9/f7a3e3fb44de98c85991fca727238c9ab8ca264e9edb2dbfd00849395d6d/protobuf-3.8.0-cp36-cp36m-macosx_10_9_intel.macosx_10_9_x86_64.macosx_10_10_intel.macosx_10_10_x86_64.whl (1.4MB)\n",
      "\u001b[K    100% |████████████████████████████████| 1.4MB 1.7MB/s ta 0:00:01\n",
      "\u001b[?25hRequirement already satisfied: scipy>=0.19.0 in /Users/cyrusmv/miniconda3/lib/python3.6/site-packages (from sagemaker) (1.1.0)\n",
      "Requirement already satisfied: urllib3<1.25,>=1.21 in /Users/cyrusmv/miniconda3/lib/python3.6/site-packages (from sagemaker) (1.22)\n",
      "Collecting protobuf3-to-dict>=0.1.5 (from sagemaker)\n",
      "Collecting docker-compose>=1.23.0 (from sagemaker)\n",
      "  Using cached https://files.pythonhosted.org/packages/51/56/5745e66b33846e92a8814466c163f165a26fadad8b33afe381e8b6c3f652/docker_compose-1.24.0-py2.py3-none-any.whl\n",
      "Collecting requests<2.21,>=2.20.0 (from sagemaker)\n",
      "  Using cached https://files.pythonhosted.org/packages/ff/17/5cbb026005115301a8fb2f9b0e3e8d32313142fe8b617070e7baad20554f/requests-2.20.1-py2.py3-none-any.whl\n",
      "Requirement already satisfied: botocore<1.13.0,>=1.12.171 in /Users/cyrusmv/miniconda3/lib/python3.6/site-packages (from boto3>=1.9.169->sagemaker) (1.12.171)\n",
      "Requirement already satisfied: s3transfer<0.3.0,>=0.2.0 in /Users/cyrusmv/miniconda3/lib/python3.6/site-packages (from boto3>=1.9.169->sagemaker) (0.2.1)\n",
      "Requirement already satisfied: jmespath<1.0.0,>=0.7.1 in /Users/cyrusmv/miniconda3/lib/python3.6/site-packages (from boto3>=1.9.169->sagemaker) (0.9.4)\n",
      "Requirement already satisfied: six>=1.9 in /Users/cyrusmv/miniconda3/lib/python3.6/site-packages (from protobuf>=3.1->sagemaker) (1.11.0)\n",
      "Requirement already satisfied: setuptools in /Users/cyrusmv/miniconda3/lib/python3.6/site-packages (from protobuf>=3.1->sagemaker) (39.2.0)\n",
      "Requirement already satisfied: jsonschema<3,>=2.5.1 in /Users/cyrusmv/miniconda3/lib/python3.6/site-packages (from docker-compose>=1.23.0->sagemaker) (2.6.0)\n",
      "Collecting cached-property<2,>=1.2.0 (from docker-compose>=1.23.0->sagemaker)\n",
      "  Using cached https://files.pythonhosted.org/packages/3b/86/85c1be2e8db9e13ef9a350aecd6dea292bd612fa288c2f40d035bb750ded/cached_property-1.5.1-py2.py3-none-any.whl\n",
      "Collecting docopt<0.7,>=0.6.1 (from docker-compose>=1.23.0->sagemaker)\n",
      "Collecting docker[ssh]<4.0,>=3.7.0 (from docker-compose>=1.23.0->sagemaker)\n",
      "\u001b[?25l  Downloading https://files.pythonhosted.org/packages/09/da/7cc7ecdcd01145e9924a8ccbe9c1baf3a362fc75d4cb150676eb5231ea60/docker-3.7.3-py2.py3-none-any.whl (134kB)\n",
      "\u001b[K    100% |████████████████████████████████| 143kB 2.4MB/s ta 0:00:01\n",
      "\u001b[?25hCollecting dockerpty<0.5,>=0.4.1 (from docker-compose>=1.23.0->sagemaker)\n",
      "Collecting websocket-client<1.0,>=0.32.0 (from docker-compose>=1.23.0->sagemaker)\n",
      "  Using cached https://files.pythonhosted.org/packages/29/19/44753eab1fdb50770ac69605527e8859468f3c0fd7dc5a76dd9c4dbd7906/websocket_client-0.56.0-py2.py3-none-any.whl\n",
      "Requirement already satisfied: PyYAML<4.3,>=3.10 in /Users/cyrusmv/miniconda3/lib/python3.6/site-packages (from docker-compose>=1.23.0->sagemaker) (3.13)\n",
      "Collecting texttable<0.10,>=0.9.0 (from docker-compose>=1.23.0->sagemaker)\n",
      "Requirement already satisfied: certifi>=2017.4.17 in /Users/cyrusmv/miniconda3/lib/python3.6/site-packages (from requests<2.21,>=2.20.0->sagemaker) (2019.3.9)\n",
      "Requirement already satisfied: idna<2.8,>=2.5 in /Users/cyrusmv/miniconda3/lib/python3.6/site-packages (from requests<2.21,>=2.20.0->sagemaker) (2.6)\n",
      "Requirement already satisfied: chardet<3.1.0,>=3.0.2 in /Users/cyrusmv/miniconda3/lib/python3.6/site-packages (from requests<2.21,>=2.20.0->sagemaker) (3.0.4)\n",
      "Requirement already satisfied: docutils>=0.10 in /Users/cyrusmv/miniconda3/lib/python3.6/site-packages (from botocore<1.13.0,>=1.12.171->boto3>=1.9.169->sagemaker) (0.14)\n",
      "Requirement already satisfied: python-dateutil<3.0.0,>=2.1; python_version >= \"2.7\" in /Users/cyrusmv/miniconda3/lib/python3.6/site-packages (from botocore<1.13.0,>=1.12.171->boto3>=1.9.169->sagemaker) (2.7.3)\n",
      "Collecting docker-pycreds>=0.4.0 (from docker[ssh]<4.0,>=3.7.0->docker-compose>=1.23.0->sagemaker)\n",
      "  Using cached https://files.pythonhosted.org/packages/f5/e8/f6bd1eee09314e7e6dee49cbe2c5e22314ccdb38db16c9fc72d2fa80d054/docker_pycreds-0.4.0-py2.py3-none-any.whl\n",
      "Collecting paramiko>=2.4.2; extra == \"ssh\" (from docker[ssh]<4.0,>=3.7.0->docker-compose>=1.23.0->sagemaker)\n",
      "\u001b[?25l  Downloading https://files.pythonhosted.org/packages/4b/80/74dace9e48b0ef923633dfb5e48798f58a168e4734bca8ecfaf839ba051a/paramiko-2.6.0-py2.py3-none-any.whl (199kB)\n",
      "\u001b[K    100% |████████████████████████████████| 204kB 1.5MB/s ta 0:00:01\n",
      "\u001b[?25hRequirement already satisfied: cryptography>=2.5 in /Users/cyrusmv/miniconda3/lib/python3.6/site-packages (from paramiko>=2.4.2; extra == \"ssh\"->docker[ssh]<4.0,>=3.7.0->docker-compose>=1.23.0->sagemaker) (2.6.1)\n",
      "Collecting bcrypt>=3.1.3 (from paramiko>=2.4.2; extra == \"ssh\"->docker[ssh]<4.0,>=3.7.0->docker-compose>=1.23.0->sagemaker)\n",
      "\u001b[?25l  Downloading https://files.pythonhosted.org/packages/62/20/4c94f3f8dfc6b8720c8bc903ce2951ec6397ad864e3a64b4abdced014514/bcrypt-3.1.7-cp34-abi3-macosx_10_6_intel.whl (53kB)\n",
      "\u001b[K    100% |████████████████████████████████| 61kB 780kB/s ta 0:00:011\n",
      "\u001b[?25hCollecting pynacl>=1.0.1 (from paramiko>=2.4.2; extra == \"ssh\"->docker[ssh]<4.0,>=3.7.0->docker-compose>=1.23.0->sagemaker)\n",
      "  Using cached https://files.pythonhosted.org/packages/cd/c9/4d6deea9d900345b1243cc3e6265110697fae5e594689cfa1ba34e0ef4a8/PyNaCl-1.3.0-cp34-abi3-macosx_10_6_intel.whl\n",
      "Requirement already satisfied: cffi!=1.11.3,>=1.8 in /Users/cyrusmv/miniconda3/lib/python3.6/site-packages (from cryptography>=2.5->paramiko>=2.4.2; extra == \"ssh\"->docker[ssh]<4.0,>=3.7.0->docker-compose>=1.23.0->sagemaker) (1.11.5)\n",
      "Requirement already satisfied: asn1crypto>=0.21.0 in /Users/cyrusmv/miniconda3/lib/python3.6/site-packages (from cryptography>=2.5->paramiko>=2.4.2; extra == \"ssh\"->docker[ssh]<4.0,>=3.7.0->docker-compose>=1.23.0->sagemaker) (0.24.0)\n",
      "Requirement already satisfied: pycparser in /Users/cyrusmv/miniconda3/lib/python3.6/site-packages (from cffi!=1.11.3,>=1.8->cryptography>=2.5->paramiko>=2.4.2; extra == \"ssh\"->docker[ssh]<4.0,>=3.7.0->docker-compose>=1.23.0->sagemaker) (2.18)\n",
      "Building wheels for collected packages: sagemaker\n",
      "  Running setup.py bdist_wheel for sagemaker ... \u001b[?25ldone\n",
      "\u001b[?25h  Stored in directory: /Users/cyrusmv/Library/Caches/pip/wheels/07/97/48/ecc65d0622eaca3d234c62d296dfedae8239cb61960a8e0d80\n",
      "Successfully built sagemaker\n",
      "Installing collected packages: protobuf, protobuf3-to-dict, cached-property, docopt, websocket-client, docker-pycreds, requests, bcrypt, pynacl, paramiko, docker, dockerpty, texttable, docker-compose, sagemaker\n",
      "  Found existing installation: requests 2.21.0\n",
      "    Uninstalling requests-2.21.0:\n",
      "      Successfully uninstalled requests-2.21.0\n",
      "Successfully installed bcrypt-3.1.7 cached-property-1.5.1 docker-3.7.3 docker-compose-1.24.0 docker-pycreds-0.4.0 dockerpty-0.4.1 docopt-0.6.2 paramiko-2.6.0 protobuf-3.8.0 protobuf3-to-dict-0.1.5 pynacl-1.3.0 requests-2.20.1 sagemaker-1.28.3 texttable-0.9.1 websocket-client-0.56.0\n",
      "\u001b[33mYou are using pip version 18.1, however version 19.1.1 is available.\n",
      "You should consider upgrading via the 'pip install --upgrade pip' command.\u001b[0m\n"
     ]
    }
   ],
   "source": [
    "!pip install sagemaker"
   ]
  },
  {
   "cell_type": "markdown",
   "metadata": {
    "nbpresent": {
     "id": "9b84e6dd-6ee6-4127-a73d-03d1c37ab143"
    }
   },
   "source": [
    "# Blog post 2: Getting hands-on with Linear Learner and Amazon SageMaker"
   ]
  },
  {
   "cell_type": "markdown",
   "metadata": {
    "nbpresent": {
     "id": "7e1043f4-caaf-46d3-8f3f-d62997b2bd85"
    }
   },
   "source": [
    "# Introduction\n",
    "\n",
    "In this second part of the three-part blog series, I provide an introduction to inner-workings of Amazon SageMaker and Amazon LinearLearner algorithm. Then I will download [Visa dataset from Kaggle](https://www.kaggle.com/mlg-ulb/creditcardfraud/data) from an Amazon S3 location to my notebook instance and pre-process it in order to feed the data to the algorithm. We then create a live endpoint and make predictions using trained models."
   ]
  },
  {
   "cell_type": "markdown",
   "metadata": {},
   "source": [
    "# Prerequisites\n",
    "For this series of blog posts, I assume that you have already completed the following tutorials from the Amazon SageMaker documentation:\n",
    "\n",
    "- [Setting up](https://docs.aws.amazon.com/sagemaker/latest/dg/gs-set-up.html) \n",
    "- [Create am Amazon SageMaker Notebook Instance](https://docs.aws.amazon.com/sagemaker/latest/dg/gs-setup-working-env.html)\n",
    "\n",
    "I have included “sagemaker” in the name of my S3 bucket, \"cyrusmv-sagemaker-demos' and have chosen to let any SageMaker notebook instance access any Amazon S3 bucket with the term “sagemaker” included in the name. Note: This is not a recommended security option for production and is only useful for simplifying the flow of the blog.\n",
    "\n",
    "In this blog I am using the [Visa dataset from Kaggle](https://www.kaggle.com/mlg-ulb/creditcardfraud). I have put the dataset in an Amazon S3 bucket. You should also download the dataset and upload the data onto Amazon S3, otherwise you will receive errors.\n",
    "\n",
    "I assume that you are familiar with linear regression. If you’re not, read [blog post one](linearlearner-blogpost-part1.ipynb) in this series.\n"
   ]
  },
  {
   "cell_type": "markdown",
   "metadata": {
    "nbpresent": {
     "id": "17526a32-7d49-49a5-b686-03719aeaf294"
    }
   },
   "source": [
    "# Amazon SageMaker\n",
    "Amazon SageMaker is a fully managed machine learning (ML) service that automates the end-to-end ML process. With Amazon SageMaker, data scientists and developers can quickly and easily build and train machine learning models and directly deploy them into a production-ready hosted environment. Amazon SageMaker provides a hosted Jupyter authoring notebook instance for easy access to your data sources for exploration and analysis, so you don't have to manage servers. It also provides common machine learning algorithms that are optimized to run efficiently against extremely large data in a distributed environment. With native support for bring-your-own-algorithms and frameworks, Amazon SageMaker offers flexible distributed training options that adjust to your specific workflows. You can deploy a model into a secure and scalable environment with a single click from the Amazon SageMaker console. \n",
    "\n",
    "The Amazon SageMaker [Python SDK](https://github.com/aws/sagemaker-python-sdk) is an open source high-level python library that simplifies your training and deployment experience in Amazon SageMaker. We will use this SDK in our examples below. The Python SDK provides you with the ability to use Amazon algorithms, train and deploy your own code (currently MXNet and TensorFlow) using Amazon SageMaker, and bring your own pre- trained Dockerized models. \n",
    "\n",
    "Let’s take a look at the architecture of Amazon SageMaker. Training workloads, for an end-to-end model development \n",
    "includes the following components: \n",
    "- Amazon S3 bucket for the training dataset \n",
    "- Amazon SageMaker notebook instance, a fully managed single tenant EC2 instance. \n",
    "- Amazon Elastic Compute Cloud (EC2) cluster for training (fully managed transparent to developer). \n",
    "- Amazon S3 bucket for trained model hosting \n",
    "\n",
    "![SageMaker Architecture](https://docs.aws.amazon.com/sagemaker/latest/dg/images/ironman-architecture.png)"
   ]
  },
  {
   "cell_type": "markdown",
   "metadata": {
    "nbpresent": {
     "id": "421a3c73-4054-4f1a-8aa5-f8f7f74b6c2d"
    }
   },
   "source": [
    "# Prepare the data\n",
    "## Download and host the data in Amazon S3\n",
    "1. Download the [Visa dataset from kaggle](https://www.kaggle.com/mlg-ulb/creditcardfraud/data) to your local machine.\n",
    "2. Upload the dataset to Amazon S3. You can use the Amazon S3 console to do this.. Remember that I am using an Amazon S3 bucket whose name includes the term \"sagemaker.\" The rest of this blog assumes that you have uploaded the dataset to Amazon S3."
   ]
  },
  {
   "cell_type": "code",
   "execution_count": 3,
   "metadata": {
    "nbpresent": {
     "id": "bc856947-4e65-4ef7-b406-05f468854471"
    }
   },
   "outputs": [],
   "source": [
    "#imports\n",
    "import boto3 #AWS python SDK for accessing AWS services\n",
    "import pandas as pd #Tabular data structure\n",
    "import numpy as np #Array libraru with probability and statistics capabilities\n",
    "import matplotlib.pyplot as plt # Plotting library\n",
    "import seaborn as sns #plotting library\n",
    "import io\n",
    "import sagemaker.amazon.common as smac # Amazon Sagemaker common library that includes data formats\n",
    "import sagemaker #sagemaker python sdk\n",
    "import os\n",
    "from sagemaker.predictor import csv_serializer, json_deserializer #sagemaker prediction sdk"
   ]
  },
  {
   "cell_type": "code",
   "execution_count": 4,
   "metadata": {
    "nbpresent": {
     "id": "1629436c-65dd-44ac-8b08-86a5790620c3"
    }
   },
   "outputs": [
    {
     "name": "stdout",
     "output_type": "stream",
     "text": [
      "Requirement already satisfied: sagemaker in /Users/cyrusmv/miniconda3/lib/python3.6/site-packages (1.28.3)\n",
      "Requirement already satisfied: numpy>=1.9.0 in /Users/cyrusmv/miniconda3/lib/python3.6/site-packages (from sagemaker) (1.14.5)\n",
      "Requirement already satisfied: docker-compose>=1.23.0 in /Users/cyrusmv/miniconda3/lib/python3.6/site-packages (from sagemaker) (1.24.0)\n",
      "Requirement already satisfied: protobuf>=3.1 in /Users/cyrusmv/miniconda3/lib/python3.6/site-packages (from sagemaker) (3.8.0)\n",
      "Requirement already satisfied: protobuf3-to-dict>=0.1.5 in /Users/cyrusmv/miniconda3/lib/python3.6/site-packages (from sagemaker) (0.1.5)\n",
      "Requirement already satisfied: urllib3<1.25,>=1.21 in /Users/cyrusmv/miniconda3/lib/python3.6/site-packages (from sagemaker) (1.22)\n",
      "Requirement already satisfied: boto3>=1.9.169 in /Users/cyrusmv/miniconda3/lib/python3.6/site-packages (from sagemaker) (1.9.171)\n",
      "Requirement already satisfied: requests<2.21,>=2.20.0 in /Users/cyrusmv/miniconda3/lib/python3.6/site-packages (from sagemaker) (2.20.1)\n",
      "Requirement already satisfied: scipy>=0.19.0 in /Users/cyrusmv/miniconda3/lib/python3.6/site-packages (from sagemaker) (1.1.0)\n",
      "Requirement already satisfied: cached-property<2,>=1.2.0 in /Users/cyrusmv/miniconda3/lib/python3.6/site-packages (from docker-compose>=1.23.0->sagemaker) (1.5.1)\n",
      "Requirement already satisfied: websocket-client<1.0,>=0.32.0 in /Users/cyrusmv/miniconda3/lib/python3.6/site-packages (from docker-compose>=1.23.0->sagemaker) (0.56.0)\n",
      "Requirement already satisfied: dockerpty<0.5,>=0.4.1 in /Users/cyrusmv/miniconda3/lib/python3.6/site-packages (from docker-compose>=1.23.0->sagemaker) (0.4.1)\n",
      "Requirement already satisfied: PyYAML<4.3,>=3.10 in /Users/cyrusmv/miniconda3/lib/python3.6/site-packages (from docker-compose>=1.23.0->sagemaker) (3.13)\n",
      "Requirement already satisfied: docopt<0.7,>=0.6.1 in /Users/cyrusmv/miniconda3/lib/python3.6/site-packages (from docker-compose>=1.23.0->sagemaker) (0.6.2)\n",
      "Requirement already satisfied: texttable<0.10,>=0.9.0 in /Users/cyrusmv/miniconda3/lib/python3.6/site-packages (from docker-compose>=1.23.0->sagemaker) (0.9.1)\n",
      "Requirement already satisfied: six<2,>=1.3.0 in /Users/cyrusmv/miniconda3/lib/python3.6/site-packages (from docker-compose>=1.23.0->sagemaker) (1.11.0)\n",
      "Requirement already satisfied: jsonschema<3,>=2.5.1 in /Users/cyrusmv/miniconda3/lib/python3.6/site-packages (from docker-compose>=1.23.0->sagemaker) (2.6.0)\n",
      "Requirement already satisfied: docker[ssh]<4.0,>=3.7.0 in /Users/cyrusmv/miniconda3/lib/python3.6/site-packages (from docker-compose>=1.23.0->sagemaker) (3.7.3)\n",
      "Requirement already satisfied: setuptools in /Users/cyrusmv/miniconda3/lib/python3.6/site-packages (from protobuf>=3.1->sagemaker) (39.2.0)\n",
      "Requirement already satisfied: jmespath<1.0.0,>=0.7.1 in /Users/cyrusmv/miniconda3/lib/python3.6/site-packages (from boto3>=1.9.169->sagemaker) (0.9.4)\n",
      "Requirement already satisfied: s3transfer<0.3.0,>=0.2.0 in /Users/cyrusmv/miniconda3/lib/python3.6/site-packages (from boto3>=1.9.169->sagemaker) (0.2.1)\n",
      "Requirement already satisfied: botocore<1.13.0,>=1.12.171 in /Users/cyrusmv/miniconda3/lib/python3.6/site-packages (from boto3>=1.9.169->sagemaker) (1.12.171)\n",
      "Requirement already satisfied: chardet<3.1.0,>=3.0.2 in /Users/cyrusmv/miniconda3/lib/python3.6/site-packages (from requests<2.21,>=2.20.0->sagemaker) (3.0.4)\n",
      "Requirement already satisfied: certifi>=2017.4.17 in /Users/cyrusmv/miniconda3/lib/python3.6/site-packages (from requests<2.21,>=2.20.0->sagemaker) (2019.3.9)\n",
      "Requirement already satisfied: idna<2.8,>=2.5 in /Users/cyrusmv/miniconda3/lib/python3.6/site-packages (from requests<2.21,>=2.20.0->sagemaker) (2.6)\n",
      "Requirement already satisfied: docker-pycreds>=0.4.0 in /Users/cyrusmv/miniconda3/lib/python3.6/site-packages (from docker[ssh]<4.0,>=3.7.0->docker-compose>=1.23.0->sagemaker) (0.4.0)\n",
      "Requirement already satisfied: paramiko>=2.4.2; extra == \"ssh\" in /Users/cyrusmv/miniconda3/lib/python3.6/site-packages (from docker[ssh]<4.0,>=3.7.0->docker-compose>=1.23.0->sagemaker) (2.6.0)\n",
      "Requirement already satisfied: python-dateutil<3.0.0,>=2.1; python_version >= \"2.7\" in /Users/cyrusmv/miniconda3/lib/python3.6/site-packages (from botocore<1.13.0,>=1.12.171->boto3>=1.9.169->sagemaker) (2.7.3)\n",
      "Requirement already satisfied: docutils>=0.10 in /Users/cyrusmv/miniconda3/lib/python3.6/site-packages (from botocore<1.13.0,>=1.12.171->boto3>=1.9.169->sagemaker) (0.14)\n",
      "Requirement already satisfied: bcrypt>=3.1.3 in /Users/cyrusmv/miniconda3/lib/python3.6/site-packages (from paramiko>=2.4.2; extra == \"ssh\"->docker[ssh]<4.0,>=3.7.0->docker-compose>=1.23.0->sagemaker) (3.1.7)\n",
      "Requirement already satisfied: pynacl>=1.0.1 in /Users/cyrusmv/miniconda3/lib/python3.6/site-packages (from paramiko>=2.4.2; extra == \"ssh\"->docker[ssh]<4.0,>=3.7.0->docker-compose>=1.23.0->sagemaker) (1.3.0)\n",
      "Requirement already satisfied: cryptography>=2.5 in /Users/cyrusmv/miniconda3/lib/python3.6/site-packages (from paramiko>=2.4.2; extra == \"ssh\"->docker[ssh]<4.0,>=3.7.0->docker-compose>=1.23.0->sagemaker) (2.6.1)\n",
      "Requirement already satisfied: cffi>=1.1 in /Users/cyrusmv/miniconda3/lib/python3.6/site-packages (from bcrypt>=3.1.3->paramiko>=2.4.2; extra == \"ssh\"->docker[ssh]<4.0,>=3.7.0->docker-compose>=1.23.0->sagemaker) (1.11.5)\n",
      "Requirement already satisfied: asn1crypto>=0.21.0 in /Users/cyrusmv/miniconda3/lib/python3.6/site-packages (from cryptography>=2.5->paramiko>=2.4.2; extra == \"ssh\"->docker[ssh]<4.0,>=3.7.0->docker-compose>=1.23.0->sagemaker) (0.24.0)\n",
      "Requirement already satisfied: pycparser in /Users/cyrusmv/miniconda3/lib/python3.6/site-packages (from cffi>=1.1->bcrypt>=3.1.3->paramiko>=2.4.2; extra == \"ssh\"->docker[ssh]<4.0,>=3.7.0->docker-compose>=1.23.0->sagemaker) (2.18)\n",
      "\u001b[33mYou are using pip version 18.1, however version 19.1.1 is available.\n",
      "You should consider upgrading via the 'pip install --upgrade pip' command.\u001b[0m\n"
     ]
    },
    {
     "ename": "MissingServiceIdError",
     "evalue": "The model being used for the service sagemaker is missing the serviceId metadata property, which is required.",
     "output_type": "error",
     "traceback": [
      "\u001b[0;31m---------------------------------------------------------------------------\u001b[0m",
      "\u001b[0;31mKeyError\u001b[0m                                  Traceback (most recent call last)",
      "\u001b[0;32m~/miniconda3/lib/python3.6/site-packages/botocore/model.py\u001b[0m in \u001b[0;36m_get_metadata_property\u001b[0;34m(self, name)\u001b[0m\n\u001b[1;32m    342\u001b[0m         \u001b[0;32mtry\u001b[0m\u001b[0;34m:\u001b[0m\u001b[0;34m\u001b[0m\u001b[0;34m\u001b[0m\u001b[0m\n\u001b[0;32m--> 343\u001b[0;31m             \u001b[0;32mreturn\u001b[0m \u001b[0mself\u001b[0m\u001b[0;34m.\u001b[0m\u001b[0mmetadata\u001b[0m\u001b[0;34m[\u001b[0m\u001b[0mname\u001b[0m\u001b[0;34m]\u001b[0m\u001b[0;34m\u001b[0m\u001b[0;34m\u001b[0m\u001b[0m\n\u001b[0m\u001b[1;32m    344\u001b[0m         \u001b[0;32mexcept\u001b[0m \u001b[0mKeyError\u001b[0m\u001b[0;34m:\u001b[0m\u001b[0;34m\u001b[0m\u001b[0;34m\u001b[0m\u001b[0m\n",
      "\u001b[0;31mKeyError\u001b[0m: 'serviceId'",
      "\nDuring handling of the above exception, another exception occurred:\n",
      "\u001b[0;31mUndefinedModelAttributeError\u001b[0m              Traceback (most recent call last)",
      "\u001b[0;32m~/miniconda3/lib/python3.6/site-packages/botocore/model.py\u001b[0m in \u001b[0;36mservice_id\u001b[0;34m(self)\u001b[0m\n\u001b[1;32m    303\u001b[0m         \u001b[0;32mtry\u001b[0m\u001b[0;34m:\u001b[0m\u001b[0;34m\u001b[0m\u001b[0;34m\u001b[0m\u001b[0m\n\u001b[0;32m--> 304\u001b[0;31m             \u001b[0;32mreturn\u001b[0m \u001b[0mServiceId\u001b[0m\u001b[0;34m(\u001b[0m\u001b[0mself\u001b[0m\u001b[0;34m.\u001b[0m\u001b[0m_get_metadata_property\u001b[0m\u001b[0;34m(\u001b[0m\u001b[0;34m'serviceId'\u001b[0m\u001b[0;34m)\u001b[0m\u001b[0;34m)\u001b[0m\u001b[0;34m\u001b[0m\u001b[0;34m\u001b[0m\u001b[0m\n\u001b[0m\u001b[1;32m    305\u001b[0m         \u001b[0;32mexcept\u001b[0m \u001b[0mUndefinedModelAttributeError\u001b[0m\u001b[0;34m:\u001b[0m\u001b[0;34m\u001b[0m\u001b[0;34m\u001b[0m\u001b[0m\n",
      "\u001b[0;32m~/miniconda3/lib/python3.6/site-packages/botocore/model.py\u001b[0m in \u001b[0;36m_get_metadata_property\u001b[0;34m(self, name)\u001b[0m\n\u001b[1;32m    346\u001b[0m                 \u001b[0;34m'\"%s\" not defined in the metadata of the model: %s'\u001b[0m \u001b[0;34m%\u001b[0m\u001b[0;34m\u001b[0m\u001b[0;34m\u001b[0m\u001b[0m\n\u001b[0;32m--> 347\u001b[0;31m                 (name, self))\n\u001b[0m\u001b[1;32m    348\u001b[0m \u001b[0;34m\u001b[0m\u001b[0m\n",
      "\u001b[0;31mUndefinedModelAttributeError\u001b[0m: \"serviceId\" not defined in the metadata of the model: ServiceModel(sagemaker)",
      "\nDuring handling of the above exception, another exception occurred:\n",
      "\u001b[0;31mMissingServiceIdError\u001b[0m                     Traceback (most recent call last)",
      "\u001b[0;32m<ipython-input-4-62610ac698a3>\u001b[0m in \u001b[0;36m<module>\u001b[0;34m()\u001b[0m\n\u001b[1;32m     14\u001b[0m \u001b[0;31m#import re\u001b[0m\u001b[0;34m\u001b[0m\u001b[0;34m\u001b[0m\u001b[0;34m\u001b[0m\u001b[0m\n\u001b[1;32m     15\u001b[0m \u001b[0;32mfrom\u001b[0m \u001b[0msagemaker\u001b[0m \u001b[0;32mimport\u001b[0m \u001b[0mget_execution_role\u001b[0m\u001b[0;34m\u001b[0m\u001b[0;34m\u001b[0m\u001b[0m\n\u001b[0;32m---> 16\u001b[0;31m \u001b[0mrole\u001b[0m \u001b[0;34m=\u001b[0m \u001b[0mget_execution_role\u001b[0m\u001b[0;34m(\u001b[0m\u001b[0;34m)\u001b[0m \u001b[0;31m#this is SageMaker role that would be later used for authorizing SageMaker to access S3\u001b[0m\u001b[0;34m\u001b[0m\u001b[0;34m\u001b[0m\u001b[0m\n\u001b[0m\u001b[1;32m     17\u001b[0m \u001b[0mprint\u001b[0m\u001b[0;34m(\u001b[0m\u001b[0mrole\u001b[0m\u001b[0;34m)\u001b[0m\u001b[0;34m\u001b[0m\u001b[0;34m\u001b[0m\u001b[0m\n\u001b[1;32m     18\u001b[0m \u001b[0;34m\u001b[0m\u001b[0m\n",
      "\u001b[0;32m~/miniconda3/lib/python3.6/site-packages/sagemaker/session.py\u001b[0m in \u001b[0;36mget_execution_role\u001b[0;34m(sagemaker_session)\u001b[0m\n\u001b[1;32m   1315\u001b[0m     \"\"\"\n\u001b[1;32m   1316\u001b[0m     \u001b[0;32mif\u001b[0m \u001b[0;32mnot\u001b[0m \u001b[0msagemaker_session\u001b[0m\u001b[0;34m:\u001b[0m\u001b[0;34m\u001b[0m\u001b[0;34m\u001b[0m\u001b[0m\n\u001b[0;32m-> 1317\u001b[0;31m         \u001b[0msagemaker_session\u001b[0m \u001b[0;34m=\u001b[0m \u001b[0mSession\u001b[0m\u001b[0;34m(\u001b[0m\u001b[0;34m)\u001b[0m\u001b[0;34m\u001b[0m\u001b[0;34m\u001b[0m\u001b[0m\n\u001b[0m\u001b[1;32m   1318\u001b[0m     \u001b[0marn\u001b[0m \u001b[0;34m=\u001b[0m \u001b[0msagemaker_session\u001b[0m\u001b[0;34m.\u001b[0m\u001b[0mget_caller_identity_arn\u001b[0m\u001b[0;34m(\u001b[0m\u001b[0;34m)\u001b[0m\u001b[0;34m\u001b[0m\u001b[0;34m\u001b[0m\u001b[0m\n\u001b[1;32m   1319\u001b[0m \u001b[0;34m\u001b[0m\u001b[0m\n",
      "\u001b[0;32m~/miniconda3/lib/python3.6/site-packages/sagemaker/session.py\u001b[0m in \u001b[0;36m__init__\u001b[0;34m(self, boto_session, sagemaker_client, sagemaker_runtime_client)\u001b[0m\n\u001b[1;32m     85\u001b[0m             \u001b[0mself\u001b[0m\u001b[0;34m.\u001b[0m\u001b[0mconfig\u001b[0m \u001b[0;34m=\u001b[0m \u001b[0;32mNone\u001b[0m\u001b[0;34m\u001b[0m\u001b[0;34m\u001b[0m\u001b[0m\n\u001b[1;32m     86\u001b[0m \u001b[0;34m\u001b[0m\u001b[0m\n\u001b[0;32m---> 87\u001b[0;31m         \u001b[0mself\u001b[0m\u001b[0;34m.\u001b[0m\u001b[0m_initialize\u001b[0m\u001b[0;34m(\u001b[0m\u001b[0mboto_session\u001b[0m\u001b[0;34m,\u001b[0m \u001b[0msagemaker_client\u001b[0m\u001b[0;34m,\u001b[0m \u001b[0msagemaker_runtime_client\u001b[0m\u001b[0;34m)\u001b[0m\u001b[0;34m\u001b[0m\u001b[0;34m\u001b[0m\u001b[0m\n\u001b[0m\u001b[1;32m     88\u001b[0m \u001b[0;34m\u001b[0m\u001b[0m\n\u001b[1;32m     89\u001b[0m     \u001b[0;32mdef\u001b[0m \u001b[0m_initialize\u001b[0m\u001b[0;34m(\u001b[0m\u001b[0mself\u001b[0m\u001b[0;34m,\u001b[0m \u001b[0mboto_session\u001b[0m\u001b[0;34m,\u001b[0m \u001b[0msagemaker_client\u001b[0m\u001b[0;34m,\u001b[0m \u001b[0msagemaker_runtime_client\u001b[0m\u001b[0;34m)\u001b[0m\u001b[0;34m:\u001b[0m\u001b[0;34m\u001b[0m\u001b[0;34m\u001b[0m\u001b[0m\n",
      "\u001b[0;32m~/miniconda3/lib/python3.6/site-packages/sagemaker/session.py\u001b[0m in \u001b[0;36m_initialize\u001b[0;34m(self, boto_session, sagemaker_client, sagemaker_runtime_client)\u001b[0m\n\u001b[1;32m     99\u001b[0m             \u001b[0;32mraise\u001b[0m \u001b[0mValueError\u001b[0m\u001b[0;34m(\u001b[0m\u001b[0;34m'Must setup local AWS configuration with a region supported by SageMaker.'\u001b[0m\u001b[0;34m)\u001b[0m\u001b[0;34m\u001b[0m\u001b[0;34m\u001b[0m\u001b[0m\n\u001b[1;32m    100\u001b[0m \u001b[0;34m\u001b[0m\u001b[0m\n\u001b[0;32m--> 101\u001b[0;31m         \u001b[0mself\u001b[0m\u001b[0;34m.\u001b[0m\u001b[0msagemaker_client\u001b[0m \u001b[0;34m=\u001b[0m \u001b[0msagemaker_client\u001b[0m \u001b[0;32mor\u001b[0m \u001b[0mself\u001b[0m\u001b[0;34m.\u001b[0m\u001b[0mboto_session\u001b[0m\u001b[0;34m.\u001b[0m\u001b[0mclient\u001b[0m\u001b[0;34m(\u001b[0m\u001b[0;34m'sagemaker'\u001b[0m\u001b[0;34m)\u001b[0m\u001b[0;34m\u001b[0m\u001b[0;34m\u001b[0m\u001b[0m\n\u001b[0m\u001b[1;32m    102\u001b[0m         \u001b[0mprepend_user_agent\u001b[0m\u001b[0;34m(\u001b[0m\u001b[0mself\u001b[0m\u001b[0;34m.\u001b[0m\u001b[0msagemaker_client\u001b[0m\u001b[0;34m)\u001b[0m\u001b[0;34m\u001b[0m\u001b[0;34m\u001b[0m\u001b[0m\n\u001b[1;32m    103\u001b[0m \u001b[0;34m\u001b[0m\u001b[0m\n",
      "\u001b[0;32m~/miniconda3/lib/python3.6/site-packages/boto3/session.py\u001b[0m in \u001b[0;36mclient\u001b[0;34m(self, service_name, region_name, api_version, use_ssl, verify, endpoint_url, aws_access_key_id, aws_secret_access_key, aws_session_token, config)\u001b[0m\n\u001b[1;32m    261\u001b[0m             \u001b[0maws_access_key_id\u001b[0m\u001b[0;34m=\u001b[0m\u001b[0maws_access_key_id\u001b[0m\u001b[0;34m,\u001b[0m\u001b[0;34m\u001b[0m\u001b[0;34m\u001b[0m\u001b[0m\n\u001b[1;32m    262\u001b[0m             \u001b[0maws_secret_access_key\u001b[0m\u001b[0;34m=\u001b[0m\u001b[0maws_secret_access_key\u001b[0m\u001b[0;34m,\u001b[0m\u001b[0;34m\u001b[0m\u001b[0;34m\u001b[0m\u001b[0m\n\u001b[0;32m--> 263\u001b[0;31m             aws_session_token=aws_session_token, config=config)\n\u001b[0m\u001b[1;32m    264\u001b[0m \u001b[0;34m\u001b[0m\u001b[0m\n\u001b[1;32m    265\u001b[0m     def resource(self, service_name, region_name=None, api_version=None,\n",
      "\u001b[0;32m~/miniconda3/lib/python3.6/site-packages/botocore/session.py\u001b[0m in \u001b[0;36mcreate_client\u001b[0;34m(self, service_name, region_name, api_version, use_ssl, verify, endpoint_url, aws_access_key_id, aws_secret_access_key, aws_session_token, config)\u001b[0m\n\u001b[1;32m    836\u001b[0m             \u001b[0mis_secure\u001b[0m\u001b[0;34m=\u001b[0m\u001b[0muse_ssl\u001b[0m\u001b[0;34m,\u001b[0m \u001b[0mendpoint_url\u001b[0m\u001b[0;34m=\u001b[0m\u001b[0mendpoint_url\u001b[0m\u001b[0;34m,\u001b[0m \u001b[0mverify\u001b[0m\u001b[0;34m=\u001b[0m\u001b[0mverify\u001b[0m\u001b[0;34m,\u001b[0m\u001b[0;34m\u001b[0m\u001b[0;34m\u001b[0m\u001b[0m\n\u001b[1;32m    837\u001b[0m             \u001b[0mcredentials\u001b[0m\u001b[0;34m=\u001b[0m\u001b[0mcredentials\u001b[0m\u001b[0;34m,\u001b[0m \u001b[0mscoped_config\u001b[0m\u001b[0;34m=\u001b[0m\u001b[0mself\u001b[0m\u001b[0;34m.\u001b[0m\u001b[0mget_scoped_config\u001b[0m\u001b[0;34m(\u001b[0m\u001b[0;34m)\u001b[0m\u001b[0;34m,\u001b[0m\u001b[0;34m\u001b[0m\u001b[0;34m\u001b[0m\u001b[0m\n\u001b[0;32m--> 838\u001b[0;31m             client_config=config, api_version=api_version)\n\u001b[0m\u001b[1;32m    839\u001b[0m         \u001b[0mmonitor\u001b[0m \u001b[0;34m=\u001b[0m \u001b[0mself\u001b[0m\u001b[0;34m.\u001b[0m\u001b[0m_get_internal_component\u001b[0m\u001b[0;34m(\u001b[0m\u001b[0;34m'monitor'\u001b[0m\u001b[0;34m)\u001b[0m\u001b[0;34m\u001b[0m\u001b[0;34m\u001b[0m\u001b[0m\n\u001b[1;32m    840\u001b[0m         \u001b[0;32mif\u001b[0m \u001b[0mmonitor\u001b[0m \u001b[0;32mis\u001b[0m \u001b[0;32mnot\u001b[0m \u001b[0;32mNone\u001b[0m\u001b[0;34m:\u001b[0m\u001b[0;34m\u001b[0m\u001b[0;34m\u001b[0m\u001b[0m\n",
      "\u001b[0;32m~/miniconda3/lib/python3.6/site-packages/botocore/client.py\u001b[0m in \u001b[0;36mcreate_client\u001b[0;34m(self, service_name, region_name, is_secure, endpoint_url, verify, credentials, scoped_config, api_version, client_config)\u001b[0m\n\u001b[1;32m     78\u001b[0m         \u001b[0mservice_name\u001b[0m \u001b[0;34m=\u001b[0m \u001b[0mfirst_non_none_response\u001b[0m\u001b[0;34m(\u001b[0m\u001b[0mresponses\u001b[0m\u001b[0;34m,\u001b[0m \u001b[0mdefault\u001b[0m\u001b[0;34m=\u001b[0m\u001b[0mservice_name\u001b[0m\u001b[0;34m)\u001b[0m\u001b[0;34m\u001b[0m\u001b[0;34m\u001b[0m\u001b[0m\n\u001b[1;32m     79\u001b[0m         \u001b[0mservice_model\u001b[0m \u001b[0;34m=\u001b[0m \u001b[0mself\u001b[0m\u001b[0;34m.\u001b[0m\u001b[0m_load_service_model\u001b[0m\u001b[0;34m(\u001b[0m\u001b[0mservice_name\u001b[0m\u001b[0;34m,\u001b[0m \u001b[0mapi_version\u001b[0m\u001b[0;34m)\u001b[0m\u001b[0;34m\u001b[0m\u001b[0;34m\u001b[0m\u001b[0m\n\u001b[0;32m---> 80\u001b[0;31m         \u001b[0mcls\u001b[0m \u001b[0;34m=\u001b[0m \u001b[0mself\u001b[0m\u001b[0;34m.\u001b[0m\u001b[0m_create_client_class\u001b[0m\u001b[0;34m(\u001b[0m\u001b[0mservice_name\u001b[0m\u001b[0;34m,\u001b[0m \u001b[0mservice_model\u001b[0m\u001b[0;34m)\u001b[0m\u001b[0;34m\u001b[0m\u001b[0;34m\u001b[0m\u001b[0m\n\u001b[0m\u001b[1;32m     81\u001b[0m         endpoint_bridge = ClientEndpointBridge(\n\u001b[1;32m     82\u001b[0m             \u001b[0mself\u001b[0m\u001b[0;34m.\u001b[0m\u001b[0m_endpoint_resolver\u001b[0m\u001b[0;34m,\u001b[0m \u001b[0mscoped_config\u001b[0m\u001b[0;34m,\u001b[0m \u001b[0mclient_config\u001b[0m\u001b[0;34m,\u001b[0m\u001b[0;34m\u001b[0m\u001b[0;34m\u001b[0m\u001b[0m\n",
      "\u001b[0;32m~/miniconda3/lib/python3.6/site-packages/botocore/client.py\u001b[0m in \u001b[0;36m_create_client_class\u001b[0;34m(self, service_name, service_model)\u001b[0m\n\u001b[1;32m    104\u001b[0m         \u001b[0mclass_attributes\u001b[0m\u001b[0;34m[\u001b[0m\u001b[0;34m'_PY_TO_OP_NAME'\u001b[0m\u001b[0;34m]\u001b[0m \u001b[0;34m=\u001b[0m \u001b[0mpy_name_to_operation_name\u001b[0m\u001b[0;34m\u001b[0m\u001b[0;34m\u001b[0m\u001b[0m\n\u001b[1;32m    105\u001b[0m         \u001b[0mbases\u001b[0m \u001b[0;34m=\u001b[0m \u001b[0;34m[\u001b[0m\u001b[0mBaseClient\u001b[0m\u001b[0;34m]\u001b[0m\u001b[0;34m\u001b[0m\u001b[0;34m\u001b[0m\u001b[0m\n\u001b[0;32m--> 106\u001b[0;31m         \u001b[0mservice_id\u001b[0m \u001b[0;34m=\u001b[0m \u001b[0mservice_model\u001b[0m\u001b[0;34m.\u001b[0m\u001b[0mservice_id\u001b[0m\u001b[0;34m.\u001b[0m\u001b[0mhyphenize\u001b[0m\u001b[0;34m(\u001b[0m\u001b[0;34m)\u001b[0m\u001b[0;34m\u001b[0m\u001b[0;34m\u001b[0m\u001b[0m\n\u001b[0m\u001b[1;32m    107\u001b[0m         self._event_emitter.emit(\n\u001b[1;32m    108\u001b[0m             \u001b[0;34m'creating-client-class.%s'\u001b[0m \u001b[0;34m%\u001b[0m \u001b[0mservice_id\u001b[0m\u001b[0;34m,\u001b[0m\u001b[0;34m\u001b[0m\u001b[0;34m\u001b[0m\u001b[0m\n",
      "\u001b[0;32m~/miniconda3/lib/python3.6/site-packages/botocore/utils.py\u001b[0m in \u001b[0;36m__get__\u001b[0;34m(self, obj, cls)\u001b[0m\n\u001b[1;32m    728\u001b[0m             \u001b[0;32mreturn\u001b[0m \u001b[0mself\u001b[0m\u001b[0;34m\u001b[0m\u001b[0;34m\u001b[0m\u001b[0m\n\u001b[1;32m    729\u001b[0m         \u001b[0;32melse\u001b[0m\u001b[0;34m:\u001b[0m\u001b[0;34m\u001b[0m\u001b[0;34m\u001b[0m\u001b[0m\n\u001b[0;32m--> 730\u001b[0;31m             \u001b[0mcomputed_value\u001b[0m \u001b[0;34m=\u001b[0m \u001b[0mself\u001b[0m\u001b[0;34m.\u001b[0m\u001b[0m_fget\u001b[0m\u001b[0;34m(\u001b[0m\u001b[0mobj\u001b[0m\u001b[0;34m)\u001b[0m\u001b[0;34m\u001b[0m\u001b[0;34m\u001b[0m\u001b[0m\n\u001b[0m\u001b[1;32m    731\u001b[0m             \u001b[0mobj\u001b[0m\u001b[0;34m.\u001b[0m\u001b[0m__dict__\u001b[0m\u001b[0;34m[\u001b[0m\u001b[0mself\u001b[0m\u001b[0;34m.\u001b[0m\u001b[0m_fget\u001b[0m\u001b[0;34m.\u001b[0m\u001b[0m__name__\u001b[0m\u001b[0;34m]\u001b[0m \u001b[0;34m=\u001b[0m \u001b[0mcomputed_value\u001b[0m\u001b[0;34m\u001b[0m\u001b[0;34m\u001b[0m\u001b[0m\n\u001b[1;32m    732\u001b[0m             \u001b[0;32mreturn\u001b[0m \u001b[0mcomputed_value\u001b[0m\u001b[0;34m\u001b[0m\u001b[0;34m\u001b[0m\u001b[0m\n",
      "\u001b[0;32m~/miniconda3/lib/python3.6/site-packages/botocore/model.py\u001b[0m in \u001b[0;36mservice_id\u001b[0;34m(self)\u001b[0m\n\u001b[1;32m    305\u001b[0m         \u001b[0;32mexcept\u001b[0m \u001b[0mUndefinedModelAttributeError\u001b[0m\u001b[0;34m:\u001b[0m\u001b[0;34m\u001b[0m\u001b[0;34m\u001b[0m\u001b[0m\n\u001b[1;32m    306\u001b[0m             raise MissingServiceIdError(\n\u001b[0;32m--> 307\u001b[0;31m                 \u001b[0mservice_name\u001b[0m\u001b[0;34m=\u001b[0m\u001b[0mself\u001b[0m\u001b[0;34m.\u001b[0m\u001b[0m_service_name\u001b[0m\u001b[0;34m\u001b[0m\u001b[0;34m\u001b[0m\u001b[0m\n\u001b[0m\u001b[1;32m    308\u001b[0m             )\n\u001b[1;32m    309\u001b[0m \u001b[0;34m\u001b[0m\u001b[0m\n",
      "\u001b[0;31mMissingServiceIdError\u001b[0m: The model being used for the service sagemaker is missing the serviceId metadata property, which is required."
     ]
    }
   ],
   "source": [
    "!pip3 install sagemaker\n",
    "\n",
    "#Public Variables\n",
    "bucket = 'cyrusmv-sagemaker-demos'     #replace this with your own bucket \n",
    "original_key = 'visa-kaggle/original.csv'    #replace this with your own file inside the bucket\n",
    "protocol=\"s3://\"\n",
    "local_origin_data = '/tmp/original.csv'\n",
    "local_pickel_root = '../data/'\n",
    "dist = 'visa-kaggle/data/'\n",
    "s3_4_output = 'visa-kaggle/'\n",
    " \n",
    "# Define IAM role\n",
    "#import boto3\n",
    "#import re\n",
    "from sagemaker import get_execution_role\n",
    "role = get_execution_role() #this is SageMaker role that would be later used for authorizing SageMaker to access S3\n",
    "print(role) \n",
    "\n",
    "sagemaker_session = sagemaker.Session()"
   ]
  },
  {
   "cell_type": "markdown",
   "metadata": {
    "nbpresent": {
     "id": "258ae621-c08c-460d-9852-026fcd11d6a5"
    }
   },
   "source": [
    "## Pre-processing the data\n",
    "***Note:***_If you are not interested in pre-processing data and want to directly proceed to training, please skip ahead to Amazon SageMaker Process: Training._ \n",
    "\n",
    "Pre-processing the data includes the following steps:\n",
    "1.\tDownload the file locally.\n",
    "2.\tLoad file into Pandas for inspection.\n",
    "3.\tconverting Pandas DataFrame to numpy.\n",
    "4.\tShuffle the data.\n",
    "5.\tSplit the data into test and validation.\n",
    "6.\tBreak up each data set to data and label.\n",
    "7.\tSave the data for later use in pickle files.\n",
    "8.\tUpload the pickle files to Amazon S3."
   ]
  },
  {
   "cell_type": "code",
   "execution_count": 3,
   "metadata": {},
   "outputs": [
    {
     "name": "stdout",
     "output_type": "stream",
     "text": [
      "Collecting sagemaker\n",
      "  Downloading https://files.pythonhosted.org/packages/81/13/709f55a8a74e8a3c7ead5a68453b82694c0d6a37fa4fdab0ac868fd5b4d8/sagemaker-1.2.4.tar.gz (151kB)\n",
      "\u001b[K    100% |████████████████████████████████| 153kB 1.5MB/s ta 0:00:01\n",
      "\u001b[?25hRequirement already satisfied: boto3>=1.4.8 in /Users/cyrusmv/PycharmProjects/fluentpython/venv/lib/python3.6/site-packages (from sagemaker)\n",
      "Requirement already satisfied: numpy>=1.9.0 in /usr/local/lib/python3.6/site-packages (from sagemaker)\n",
      "Collecting protobuf>=3.1 (from sagemaker)\n",
      "  Using cached https://files.pythonhosted.org/packages/eb/a7/042722bc48082f6b02498ebdf4e64a6d1b4543271d4f2f495641f429c56d/protobuf-3.5.2.post1-cp36-cp36m-macosx_10_6_intel.macosx_10_9_intel.macosx_10_9_x86_64.macosx_10_10_intel.macosx_10_10_x86_64.whl\n",
      "Requirement already satisfied: scipy>=1.0.0 in /Users/cyrusmv/PycharmProjects/fluentpython/venv/lib/python3.6/site-packages (from sagemaker)\n",
      "Requirement already satisfied: urllib3>=1.2 in /Users/cyrusmv/PycharmProjects/fluentpython/venv/lib/python3.6/site-packages (from sagemaker)\n",
      "Collecting PyYAML>=3.2 (from sagemaker)\n",
      "Requirement already satisfied: s3transfer<0.2.0,>=0.1.10 in /Users/cyrusmv/PycharmProjects/fluentpython/venv/lib/python3.6/site-packages (from boto3>=1.4.8->sagemaker)\n",
      "Requirement already satisfied: jmespath<1.0.0,>=0.7.1 in /Users/cyrusmv/PycharmProjects/fluentpython/venv/lib/python3.6/site-packages (from boto3>=1.4.8->sagemaker)\n",
      "Requirement already satisfied: botocore<1.11.0,>=1.10.17 in /Users/cyrusmv/PycharmProjects/fluentpython/venv/lib/python3.6/site-packages (from boto3>=1.4.8->sagemaker)\n",
      "Requirement already satisfied: six>=1.9 in /usr/local/lib/python3.6/site-packages (from protobuf>=3.1->sagemaker)\n",
      "Requirement already satisfied: setuptools in /Users/cyrusmv/PycharmProjects/fluentpython/venv/lib/python3.6/site-packages (from protobuf>=3.1->sagemaker)\n",
      "Requirement already satisfied: python-dateutil<3.0.0,>=2.1; python_version >= \"2.7\" in /usr/local/lib/python3.6/site-packages (from botocore<1.11.0,>=1.10.17->boto3>=1.4.8->sagemaker)\n",
      "Requirement already satisfied: docutils>=0.10 in /Users/cyrusmv/PycharmProjects/fluentpython/venv/lib/python3.6/site-packages (from botocore<1.11.0,>=1.10.17->boto3>=1.4.8->sagemaker)\n",
      "Building wheels for collected packages: sagemaker\n",
      "  Running setup.py bdist_wheel for sagemaker ... \u001b[?25ldone\n",
      "\u001b[?25h  Stored in directory: /Users/cyrusmv/Library/Caches/pip/wheels/12/f0/ee/bd15953fe6c78a5a318d6ec1af4b71f36aaee4a3a1a9b703f5\n",
      "Successfully built sagemaker\n",
      "Installing collected packages: protobuf, PyYAML, sagemaker\n",
      "Successfully installed PyYAML-3.12 protobuf-3.5.2.post1 sagemaker-1.2.4\n",
      "\u001b[33mYou are using pip version 9.0.3, however version 10.0.1 is available.\n",
      "You should consider upgrading via the 'pip install --upgrade pip' command.\u001b[0m\n"
     ]
    }
   ],
   "source": [
    "!pip install sagemaker\n"
   ]
  },
  {
   "cell_type": "markdown",
   "metadata": {},
   "source": [
    "### 1- Downloading the file locally"
   ]
  },
  {
   "cell_type": "code",
   "execution_count": 5,
   "metadata": {
    "nbpresent": {
     "id": "99a90655-1f25-4604-9edd-7fd934e1ed21"
    }
   },
   "outputs": [
    {
     "data": {
      "text/plain": [
       "True"
      ]
     },
     "execution_count": 5,
     "metadata": {},
     "output_type": "execute_result"
    }
   ],
   "source": [
    "#Downloading the file to a local folder\n",
    "s3 = boto3.resource('s3')\n",
    "s3.Bucket(bucket).download_file(original_key, local_origin_data)\n",
    "os.path.isfile(local_origin_data) #checking if the file exists\n"
   ]
  },
  {
   "cell_type": "markdown",
   "metadata": {},
   "source": [
    "### 2- Loading file into Pandas for inspection"
   ]
  },
  {
   "cell_type": "code",
   "execution_count": 6,
   "metadata": {
    "nbpresent": {
     "id": "d66da413-d063-4a3c-a053-2bfebc9d2e95"
    }
   },
   "outputs": [
    {
     "name": "stdout",
     "output_type": "stream",
     "text": [
      "(284807, 31)\n"
     ]
    },
    {
     "name": "stderr",
     "output_type": "stream",
     "text": [
      "/Users/cyrusmv/miniconda3/lib/python3.6/site-packages/ipykernel_launcher.py:3: FutureWarning: Method .as_matrix will be removed in a future version. Use .values instead.\n",
      "  This is separate from the ipykernel package so we can avoid doing imports until\n"
     ]
    }
   ],
   "source": [
    "# loading data into pandas for inspection\n",
    "df = pd.read_csv(local_origin_data)\n",
    "print(df.as_matrix().shape)"
   ]
  },
  {
   "cell_type": "markdown",
   "metadata": {
    "nbpresent": {
     "id": "3b8c7325-6d3b-4d65-b219-050d78b7649f"
    }
   },
   "source": [
    "**Data Dimension**: The shape of data is $284807 \\times 31$, meaning that $dim(input\\_data)\\ = \\ 1$. Next we want to distinguish features from the target."
   ]
  },
  {
   "cell_type": "code",
   "execution_count": 11,
   "metadata": {
    "nbpresent": {
     "id": "6752f22d-3666-4bde-ae2f-bcd7ad77284a"
    }
   },
   "outputs": [
    {
     "data": {
      "text/html": [
       "<div>\n",
       "<style scoped>\n",
       "    .dataframe tbody tr th:only-of-type {\n",
       "        vertical-align: middle;\n",
       "    }\n",
       "\n",
       "    .dataframe tbody tr th {\n",
       "        vertical-align: top;\n",
       "    }\n",
       "\n",
       "    .dataframe thead th {\n",
       "        text-align: right;\n",
       "    }\n",
       "</style>\n",
       "<table border=\"1\" class=\"dataframe\">\n",
       "  <thead>\n",
       "    <tr style=\"text-align: right;\">\n",
       "      <th></th>\n",
       "      <th>Time</th>\n",
       "      <th>V1</th>\n",
       "      <th>V2</th>\n",
       "      <th>V3</th>\n",
       "      <th>V4</th>\n",
       "      <th>V5</th>\n",
       "      <th>V6</th>\n",
       "      <th>V7</th>\n",
       "      <th>V8</th>\n",
       "      <th>V9</th>\n",
       "      <th>...</th>\n",
       "      <th>V21</th>\n",
       "      <th>V22</th>\n",
       "      <th>V23</th>\n",
       "      <th>V24</th>\n",
       "      <th>V25</th>\n",
       "      <th>V26</th>\n",
       "      <th>V27</th>\n",
       "      <th>V28</th>\n",
       "      <th>Amount</th>\n",
       "      <th>Class</th>\n",
       "    </tr>\n",
       "  </thead>\n",
       "  <tbody>\n",
       "    <tr>\n",
       "      <th>0</th>\n",
       "      <td>0.0</td>\n",
       "      <td>-1.359807</td>\n",
       "      <td>-0.072781</td>\n",
       "      <td>2.536347</td>\n",
       "      <td>1.378155</td>\n",
       "      <td>-0.338321</td>\n",
       "      <td>0.462388</td>\n",
       "      <td>0.239599</td>\n",
       "      <td>0.098698</td>\n",
       "      <td>0.363787</td>\n",
       "      <td>...</td>\n",
       "      <td>-0.018307</td>\n",
       "      <td>0.277838</td>\n",
       "      <td>-0.110474</td>\n",
       "      <td>0.066928</td>\n",
       "      <td>0.128539</td>\n",
       "      <td>-0.189115</td>\n",
       "      <td>0.133558</td>\n",
       "      <td>-0.021053</td>\n",
       "      <td>149.62</td>\n",
       "      <td>0</td>\n",
       "    </tr>\n",
       "    <tr>\n",
       "      <th>1</th>\n",
       "      <td>0.0</td>\n",
       "      <td>1.191857</td>\n",
       "      <td>0.266151</td>\n",
       "      <td>0.166480</td>\n",
       "      <td>0.448154</td>\n",
       "      <td>0.060018</td>\n",
       "      <td>-0.082361</td>\n",
       "      <td>-0.078803</td>\n",
       "      <td>0.085102</td>\n",
       "      <td>-0.255425</td>\n",
       "      <td>...</td>\n",
       "      <td>-0.225775</td>\n",
       "      <td>-0.638672</td>\n",
       "      <td>0.101288</td>\n",
       "      <td>-0.339846</td>\n",
       "      <td>0.167170</td>\n",
       "      <td>0.125895</td>\n",
       "      <td>-0.008983</td>\n",
       "      <td>0.014724</td>\n",
       "      <td>2.69</td>\n",
       "      <td>0</td>\n",
       "    </tr>\n",
       "    <tr>\n",
       "      <th>2</th>\n",
       "      <td>1.0</td>\n",
       "      <td>-1.358354</td>\n",
       "      <td>-1.340163</td>\n",
       "      <td>1.773209</td>\n",
       "      <td>0.379780</td>\n",
       "      <td>-0.503198</td>\n",
       "      <td>1.800499</td>\n",
       "      <td>0.791461</td>\n",
       "      <td>0.247676</td>\n",
       "      <td>-1.514654</td>\n",
       "      <td>...</td>\n",
       "      <td>0.247998</td>\n",
       "      <td>0.771679</td>\n",
       "      <td>0.909412</td>\n",
       "      <td>-0.689281</td>\n",
       "      <td>-0.327642</td>\n",
       "      <td>-0.139097</td>\n",
       "      <td>-0.055353</td>\n",
       "      <td>-0.059752</td>\n",
       "      <td>378.66</td>\n",
       "      <td>0</td>\n",
       "    </tr>\n",
       "    <tr>\n",
       "      <th>3</th>\n",
       "      <td>1.0</td>\n",
       "      <td>-0.966272</td>\n",
       "      <td>-0.185226</td>\n",
       "      <td>1.792993</td>\n",
       "      <td>-0.863291</td>\n",
       "      <td>-0.010309</td>\n",
       "      <td>1.247203</td>\n",
       "      <td>0.237609</td>\n",
       "      <td>0.377436</td>\n",
       "      <td>-1.387024</td>\n",
       "      <td>...</td>\n",
       "      <td>-0.108300</td>\n",
       "      <td>0.005274</td>\n",
       "      <td>-0.190321</td>\n",
       "      <td>-1.175575</td>\n",
       "      <td>0.647376</td>\n",
       "      <td>-0.221929</td>\n",
       "      <td>0.062723</td>\n",
       "      <td>0.061458</td>\n",
       "      <td>123.50</td>\n",
       "      <td>0</td>\n",
       "    </tr>\n",
       "    <tr>\n",
       "      <th>4</th>\n",
       "      <td>2.0</td>\n",
       "      <td>-1.158233</td>\n",
       "      <td>0.877737</td>\n",
       "      <td>1.548718</td>\n",
       "      <td>0.403034</td>\n",
       "      <td>-0.407193</td>\n",
       "      <td>0.095921</td>\n",
       "      <td>0.592941</td>\n",
       "      <td>-0.270533</td>\n",
       "      <td>0.817739</td>\n",
       "      <td>...</td>\n",
       "      <td>-0.009431</td>\n",
       "      <td>0.798278</td>\n",
       "      <td>-0.137458</td>\n",
       "      <td>0.141267</td>\n",
       "      <td>-0.206010</td>\n",
       "      <td>0.502292</td>\n",
       "      <td>0.219422</td>\n",
       "      <td>0.215153</td>\n",
       "      <td>69.99</td>\n",
       "      <td>0</td>\n",
       "    </tr>\n",
       "  </tbody>\n",
       "</table>\n",
       "<p>5 rows × 31 columns</p>\n",
       "</div>"
      ],
      "text/plain": [
       "   Time        V1        V2        V3        V4        V5        V6        V7  \\\n",
       "0   0.0 -1.359807 -0.072781  2.536347  1.378155 -0.338321  0.462388  0.239599   \n",
       "1   0.0  1.191857  0.266151  0.166480  0.448154  0.060018 -0.082361 -0.078803   \n",
       "2   1.0 -1.358354 -1.340163  1.773209  0.379780 -0.503198  1.800499  0.791461   \n",
       "3   1.0 -0.966272 -0.185226  1.792993 -0.863291 -0.010309  1.247203  0.237609   \n",
       "4   2.0 -1.158233  0.877737  1.548718  0.403034 -0.407193  0.095921  0.592941   \n",
       "\n",
       "         V8        V9  ...       V21       V22       V23       V24       V25  \\\n",
       "0  0.098698  0.363787  ... -0.018307  0.277838 -0.110474  0.066928  0.128539   \n",
       "1  0.085102 -0.255425  ... -0.225775 -0.638672  0.101288 -0.339846  0.167170   \n",
       "2  0.247676 -1.514654  ...  0.247998  0.771679  0.909412 -0.689281 -0.327642   \n",
       "3  0.377436 -1.387024  ... -0.108300  0.005274 -0.190321 -1.175575  0.647376   \n",
       "4 -0.270533  0.817739  ... -0.009431  0.798278 -0.137458  0.141267 -0.206010   \n",
       "\n",
       "        V26       V27       V28  Amount  Class  \n",
       "0 -0.189115  0.133558 -0.021053  149.62      0  \n",
       "1  0.125895 -0.008983  0.014724    2.69      0  \n",
       "2 -0.139097 -0.055353 -0.059752  378.66      0  \n",
       "3 -0.221929  0.062723  0.061458  123.50      0  \n",
       "4  0.502292  0.219422  0.215153   69.99      0  \n",
       "\n",
       "[5 rows x 31 columns]"
      ]
     },
     "execution_count": 11,
     "metadata": {},
     "output_type": "execute_result"
    }
   ],
   "source": [
    "df.head(5)"
   ]
  },
  {
   "cell_type": "code",
   "execution_count": 12,
   "metadata": {
    "nbpresent": {
     "id": "61a0b726-a78b-4ea2-b566-e784a5e8e247"
    }
   },
   "outputs": [
    {
     "name": "stdout",
     "output_type": "stream",
     "text": [
      "\n",
      "Class\n",
      "0    284315\n",
      "1       492\n",
      "dtype: int64\n"
     ]
    }
   ],
   "source": [
    "# We would like to see what values we have for \"Class\". This snippet below shows that Class is a binary column.\n",
    "print()\n",
    "print(df.groupby('Class').size())"
   ]
  },
  {
   "cell_type": "markdown",
   "metadata": {
    "nbpresent": {
     "id": "9080320c-7e78-48d1-ad7e-2ea5dca97689"
    }
   },
   "source": [
    "** Feature and target identification**\n",
    "*\"Class\"* is our target and the rest of the columns are our features. Next we want to understand values or clusters of *\"Class\"*.\n",
    "\n",
    "This tells us that we are predicting a binary target and instead of linear regression, we should be performing a logistic regression or binary classification.\n",
    "\n",
    "So far we know that the following:\n",
    "- Of the 31 input dimensions, 30 are features and *'Class'* is the target.\n",
    "- The target is a binary prediction thus our linear regression function would be defined as:\n",
    "\n",
    "$$\n",
    "f:\\mathbb{R}^{30} \\rightarrow \\{0, 1\\} \\\\\n",
    "f(x) = W_{30 \\times 1} V_{1 \\times 30} + b\n",
    "$$"
   ]
  },
  {
   "cell_type": "markdown",
   "metadata": {},
   "source": [
    "**Data Normalization:** As the last observation, we want to check data distribution to see whether or not the data is normalized by plotting all the columns. We often would like the data to be within a comparable range with the same center and perhaps similar standard deviation, so numerical value ranges would not create bias towards some features. This however is not always the case. For instance if we would like one feature to have a bigger impact, we can simply let it. The following is the box plot from our data set. We can see that apart from 'Time' and 'Amount', the rest of the data is normalized, so I assume Visa wanted 'Time' and 'Amount' to have a much higher impact.\n",
    "\n",
    "***AmazonSageMaker Tip: Amazon LinearLearner normalizes the data by default. If your want to prevent data normalization you will have to change the value of*** `normalize_data` ***to*** `false` ***in the hyperparameters.***"
   ]
  },
  {
   "cell_type": "code",
   "execution_count": 13,
   "metadata": {},
   "outputs": [
    {
     "data": {
      "image/png": "[encoded data removed]",
      "text/plain": [
       "<Figure size 1440x720 with 1 Axes>"
      ]
     },
     "metadata": {},
     "output_type": "display_data"
    }
   ],
   "source": [
    "df.boxplot(figsize=(20, 10))\n",
    "plt.show()"
   ]
  },
  {
   "cell_type": "code",
   "execution_count": null,
   "metadata": {},
   "outputs": [
    {
     "data": {
      "text/plain": [
       "<matplotlib.axes._subplots.AxesSubplot at 0x10c433b00>"
      ]
     },
     "execution_count": 19,
     "metadata": {},
     "output_type": "execute_result"
    }
   ],
   "source": [
    "df.Class.plot.pie()"
   ]
  },
  {
   "cell_type": "markdown",
   "metadata": {},
   "source": [
    "Dropping \"Time\", \"Amount\", and \"Class\", we can observer the distribution with greater detail. Here not all columns are centered around the same point (0 in this case)"
   ]
  },
  {
   "cell_type": "code",
   "execution_count": 82,
   "metadata": {},
   "outputs": [
    {
     "data": {
      "image/png": "[encoded data removed]",
      "text/plain": [
       "<matplotlib.figure.Figure at 0x7f815d7d7790>"
      ]
     },
     "metadata": {},
     "output_type": "display_data"
    }
   ],
   "source": [
    "df1 = df.drop(['Time', 'Amount', 'Class'], axis=1)\n",
    "df1.boxplot(figsize=(20, 10))\n",
    "plt.show()\n"
   ]
  },
  {
   "cell_type": "markdown",
   "metadata": {},
   "source": [
    "### 3- Converting Pandas data frame to numpy"
   ]
  },
  {
   "cell_type": "code",
   "execution_count": 83,
   "metadata": {
    "collapsed": true
   },
   "outputs": [],
   "source": [
    "#Converting Data Into Numpy\n",
    "raw_data = df.as_matrix()"
   ]
  },
  {
   "cell_type": "markdown",
   "metadata": {},
   "source": [
    "### 4- Shuffling the data"
   ]
  },
  {
   "cell_type": "code",
   "execution_count": 100,
   "metadata": {
    "nbpresent": {
     "id": "aa379df1-1c5a-4daf-8140-5ef555557492"
    }
   },
   "outputs": [
    {
     "name": "stdout",
     "output_type": "stream",
     "text": [
      "0.172748563062% of transactions are fraudunat and 99.8272514369% are legitimate\n"
     ]
    }
   ],
   "source": [
    "num_recs = np.float32(df['Class'].count())\n",
    "num_zeros = df['Class'][df['Class']==0].count()\n",
    "num_ones = num_recs - num_zeros\n",
    "print(\"{}% of transactions are fraudunat and {}% are legitimate\".format((num_ones/num_recs)*100,\n",
    "                                                                       (num_zeros/num_recs*100)))\n"
   ]
  },
  {
   "cell_type": "markdown",
   "metadata": {
    "nbpresent": {
     "id": "200a9d82-e6fd-436f-8ae9-40729478bdc4"
    }
   },
   "source": [
    "We know from previous code snippet that **99.8** percent of our transactions are legitimate, so it is crucial to randomize distribution of Class==1 within the dataset, so we do not end up with a lumpy concentration of most of Class==1 in a segment of dataset \n",
    "\n",
    "To randomize distribution of Class==1, we shuffle the data in the dataset.\n",
    "\n",
    "There are three issues with Class==1 being concentrated near one another:\n",
    "1. We might learn sequential noise\n",
    "2. We might unlearn what we have learned as we iterate down in the dataset.\n",
    "3. The dataset includes both training and validation sets and we need to split the data. with a distribution that is not normal and smooth, we might end up with most or all of Class==1 in training or validation.\n",
    "\n"
   ]
  },
  {
   "cell_type": "code",
   "execution_count": 116,
   "metadata": {
    "collapsed": true
   },
   "outputs": [],
   "source": [
    "#Shuffling the data and randomizing the distrbution of the data\n",
    "#I have performed to shuffles and experimented with different seeds until the distribution \n",
    "#of Class==1 became acceptably smooth according to the graph below.\n",
    "np.random.seed(13)\n",
    "np.random.shuffle(raw_data)\n",
    "np.random.seed(49)\n",
    "np.random.shuffle(raw_data)"
   ]
  },
  {
   "cell_type": "markdown",
   "metadata": {},
   "source": [
    "### 5- Breaking up each data set to data and label"
   ]
  },
  {
   "cell_type": "code",
   "execution_count": 117,
   "metadata": {},
   "outputs": [
    {
     "name": "stdout",
     "output_type": "stream",
     "text": [
      "shape before split: (284807, 31); label_shape = (284807,); data_shape= (284807, 30)\n"
     ]
    }
   ],
   "source": [
    "label = raw_data[:, -1] #Taking last column of the data and creating a lanel vector\n",
    "data = raw_data[:, :-1] # Taking the remains of th da\n",
    "\n",
    "print(\"shape before split: {}; label_shape = {}; data_shape= {}\".format(raw_data.shape, label.shape, data.shape))"
   ]
  },
  {
   "cell_type": "markdown",
   "metadata": {
    "nbpresent": {
     "id": "3761a591-197b-4361-9247-f18a9c48fad0"
    }
   },
   "source": [
    "From the previous snippet we see that the original dataset has 31 columns (dimensions) and now we have two vectors, the data vector with 30 rows and label is just a scalar.\n",
    "\n",
    "**Plotting distribution of Class==1:** Next we want to be sure that Class==1 records are distributed evenly within the dataset before we attempt to split the data to training and validation."
   ]
  },
  {
   "cell_type": "code",
   "execution_count": 118,
   "metadata": {
    "nbpresent": {
     "id": "96cec58b-0bac-49e0-a953-e291255266dd"
    }
   },
   "outputs": [
    {
     "data": {
      "image/png": "[encoded data removed]",
      "text/plain": [
       "<matplotlib.figure.Figure at 0x7f81f9e6d650>"
      ]
     },
     "metadata": {},
     "output_type": "display_data"
    }
   ],
   "source": [
    "# There are very few fraudulent transactions in the dataset, so I am putting their indexes in an array\n",
    "# to plot and ensure they are evenly distributed, so when I split the dataset into test and training \n",
    "# I don't end up with a disproportionate distribution\n",
    "t = []\n",
    "for i in range(len(label)):\n",
    "    if label[i] == 1:\n",
    "        t.append(i)\n",
    "\n",
    "sns.distplot(t, kde=True, rug=True, hist=False)\n",
    "plt.show()"
   ]
  },
  {
   "cell_type": "markdown",
   "metadata": {
    "nbpresent": {
     "id": "be165513-bb4a-43d7-9aa5-65488d857855"
    }
   },
   "source": [
    "This plot shows the distribution of Class==1. The blue bar at the bottom (rug==True) shows us that Class==1 is evenly distributed within the range of the data [0..284807]. From this plot  we can observe that "
   ]
  },
  {
   "cell_type": "markdown",
   "metadata": {},
   "source": [
    "### 6- Splitting data into test and validation\n",
    "The data is split 70-30 for training and validation"
   ]
  },
  {
   "cell_type": "code",
   "execution_count": 119,
   "metadata": {
    "nbpresent": {
     "id": "f4fd3681-ecae-4a36-a05d-440e12f36e11"
    }
   },
   "outputs": [
    {
     "name": "stdout",
     "output_type": "stream",
     "text": [
      "training data shape= (199364, 30); training label shape = (199364,) \n",
      "Validation data shape= (85443, 30); validation label shape = (85443,)\n"
     ]
    }
   ],
   "source": [
    "#Splitting data into validation and training and breaking dataset into data and label\n",
    "\n",
    "#70%-30% training to validation\n",
    "train_size = int(data.shape[0]*0.7)\n",
    "\n",
    "#training data and associated labels\n",
    "train_data  = data[:train_size, :]\n",
    "val_data = data[train_size:, :]\n",
    "\n",
    "#validation data and associated labels\n",
    "train_label = label[:train_size]\n",
    "val_label = label[train_size:]\n",
    "\n",
    "\n",
    "print(\"training data shape= {}; training label shape = {} \\nValidation data shape= {}; validation label shape = {}\".format(train_data.shape, \n",
    "                                                                        train_label.shape,\n",
    "                                                                        val_data.shape,\n",
    "                                                                        val_label.shape))"
   ]
  },
  {
   "cell_type": "markdown",
   "metadata": {
    "nbpresent": {
     "id": "f7c3d16e-d839-4d89-a798-ffbd3f833a4a"
    }
   },
   "source": [
    "### 7- Saving data for later use\n",
    "Pre-processing data could take time. Therefore, I strongly recommend that you save the pre-processed data, using the appropriate format. This way you can save your pre-processed data for later use as well as share the data with your teammates. I am using numpy’s save and use pickle format."
   ]
  },
  {
   "cell_type": "code",
   "execution_count": 120,
   "metadata": {
    "nbpresent": {
     "id": "2e4fe77b-4eea-46ad-8504-d63c71b272cf"
    }
   },
   "outputs": [
    {
     "name": "stdout",
     "output_type": "stream",
     "text": [
      "../data/:\r\n",
      "test  train  visa-kaggle\r\n",
      "\r\n",
      "../data/test:\r\n",
      "val_data.npy  val_label.npy\r\n",
      "\r\n",
      "../data/train:\r\n",
      "train_data.npy\ttrain_label.npy\r\n",
      "\r\n",
      "../data/visa-kaggle:\r\n",
      "data\r\n",
      "\r\n",
      "../data/visa-kaggle/data:\r\n",
      "recordio-pb-data  test\ttrain\r\n",
      "\r\n",
      "../data/visa-kaggle/data/test:\r\n",
      "val_data.npy  val_label.npy\r\n",
      "\r\n",
      "../data/visa-kaggle/data/train:\r\n",
      "train_data.npy\ttrain_label.npy\r\n"
     ]
    }
   ],
   "source": [
    "#Saving arrays for later use\n",
    "np.save(local_pickel_root + 'train/train_data.npy', train_data, allow_pickle=True)\n",
    "np.save(local_pickel_root + 'train/train_label.npy', train_label, allow_pickle=True)\n",
    "np.save(local_pickel_root + 'test/val_data.npy', val_data, allow_pickle=True)\n",
    "np.save(local_pickel_root + 'test/val_label.npy', val_label, allow_pickle=True)\n",
    "\n",
    "!ls -R '../data/'\n"
   ]
  },
  {
   "cell_type": "markdown",
   "metadata": {},
   "source": [
    "### 8- Uploading the pickle files to S3\n",
    "Uploading the data helps you reuse and share the pre-processed data."
   ]
  },
  {
   "cell_type": "code",
   "execution_count": 121,
   "metadata": {
    "nbpresent": {
     "id": "2cca79c5-23e9-43a2-bed0-f77c61350bdc"
    }
   },
   "outputs": [
    {
     "name": "stdout",
     "output_type": "stream",
     "text": [
      "s3://cyrusmv-sagemaker-demos/visa-kaggle/data\n",
      "2018-01-04 12:19:10          0 visa-kaggle/data/\n",
      "2018-03-13 09:58:57   33493152 visa-kaggle/data/recordio-pb-data\n",
      "2018-04-05 14:55:22   20506400 visa-kaggle/data/test/val_data.npy\n",
      "2018-04-05 14:55:22     683624 visa-kaggle/data/test/val_label.npy\n",
      "2018-04-05 14:55:18   47847440 visa-kaggle/data/train/train_data.npy\n",
      "2018-04-05 14:55:17    1594992 visa-kaggle/data/train/train_label.npy\n",
      "2018-04-05 14:55:19   33493152 visa-kaggle/data/visa-kaggle/data/recordio-pb-data\n",
      "2018-04-05 14:55:22   20506400 visa-kaggle/data/visa-kaggle/data/test/val_data.npy\n",
      "2018-04-05 14:55:21     683624 visa-kaggle/data/visa-kaggle/data/test/val_label.npy\n",
      "2018-04-05 14:55:20   47847440 visa-kaggle/data/visa-kaggle/data/train/train_data.npy\n",
      "2018-04-05 14:55:20    1594992 visa-kaggle/data/visa-kaggle/data/train/train_label.npy\n"
     ]
    }
   ],
   "source": [
    "#Uploading the data.\n",
    "'''\n",
    "path is the local path on your notebooks instance\n",
    "bucket is your bucket name\n",
    "key_prefix is your folder structure inside you S3 bucket\n",
    "'''\n",
    "S3loc = sagemaker_session.upload_data(path=local_pickel_root, bucket=bucket, key_prefix='visa-kaggle/data')\n",
    "print(S3loc)\n",
    "!aws s3 ls cyrusmv-sagemaker-demos/visa-kaggle/data/ --recursive #use the output from your own S3loc"
   ]
  },
  {
   "cell_type": "markdown",
   "metadata": {
    "nbpresent": {
     "id": "075a6150-b890-4b2a-a20a-5bb5ea56ffe4"
    }
   },
   "source": [
    "# Amazon SageMaker Process: Training\n",
    "Amazon SageMaker built-in algorithms requires you to follow a certain number of steps for training:\n",
    "\n",
    "## Preparation\n",
    "1.\tConvert the data to a supported format for Amazon SageMaker. All algorithms support recordio-protobuf. Some algorithms like linear learner also support CSV. In this post we are using recordio.\n",
    "2.\tUpload the converted data to Amazon S3. This location is required to be passed to fit the function, which preforms training.\n",
    "3.\tPassing an Amazon S3 location to your train function, so that model artifacts after training will be uploaded to Amazon S3."
   ]
  },
  {
   "cell_type": "markdown",
   "metadata": {},
   "source": [
    "### 1- Converting data to recordio-protibuf\n",
    "First we will make sure that we have the data locally, and we load the pickled data into numpy vectors."
   ]
  },
  {
   "cell_type": "code",
   "execution_count": 123,
   "metadata": {
    "nbpresent": {
     "id": "ccfe3dd1-05b2-4f80-b070-23f0d21e5acf"
    }
   },
   "outputs": [
    {
     "name": "stdout",
     "output_type": "stream",
     "text": [
      "training data shape= (199364, 30); training label shape = (199364,) \n",
      "Validation data shape= (85443, 30); validation label shape = (85443,)\n"
     ]
    }
   ],
   "source": [
    "train_data = np.load(local_pickel_root + 'train/train_data.npy')\n",
    "train_label = np.load(local_pickel_root + 'train/train_label.npy')\n",
    "\n",
    "val_data = np.load(local_pickel_root + 'test/val_data.npy')\n",
    "val_label = np.load(local_pickel_root + 'test/val_label.npy')\n",
    "\n",
    "print(\"training data shape= {}; training label shape = {} \\nValidation data shape= {}; validation label shape = {}\".format(train_data.shape, \n",
    "                                                                        train_label.shape,\n",
    "                                                                        val_data.shape,\n",
    "                                                                        val_label.shape))\n",
    "train_set = (train_data, train_label)\n",
    "test_set = (val_data, val_label)\n"
   ]
  },
  {
   "cell_type": "markdown",
   "metadata": {
    "nbpresent": {
     "id": "86f20fc8-c59a-48fe-aca5-c6606b35c928"
    }
   },
   "source": [
    "**Converting the data**: \n",
    "The Linear Learner algorithm supports CSV and recordio/protobuf. recordio is faster than CSV and especially in algorithms that deal with sparse matrices. In the following snippet I am using sagemaker.amazon.core library to convert my numpy arrays into protobuf recordIO."
   ]
  },
  {
   "cell_type": "code",
   "execution_count": 124,
   "metadata": {
    "nbpresent": {
     "id": "2d5e169e-0b87-4156-b6dd-7abf5c8dbda8"
    }
   },
   "outputs": [
    {
     "data": {
      "text/plain": [
       "0L"
      ]
     },
     "execution_count": 124,
     "metadata": {},
     "output_type": "execute_result"
    }
   ],
   "source": [
    "vectors = np.array([t.tolist() for t in train_set[0]]).astype('float32')\n",
    "labels = np.array([t.tolist() for t in train_set[1]]).astype('float32')\n",
    "\n",
    "buf = io.BytesIO()\n",
    "smac.write_numpy_to_dense_tensor(buf, vectors, labels)\n",
    "buf.seek(0)"
   ]
  },
  {
   "cell_type": "markdown",
   "metadata": {
    "nbpresent": {
     "id": "7bc9634c-7db3-4406-8f45-dfc64069a2c7"
    }
   },
   "source": [
    "### 2- Uploading the converted data to Amazon S3\n",
    "Now that we've created our recordIO-wrapped protobuf, we'll need to upload it to Amazon S3, so that Amazon SageMaker training can use it."
   ]
  },
  {
   "cell_type": "code",
   "execution_count": 126,
   "metadata": {
    "nbpresent": {
     "id": "b7bfb4f2-b339-4dce-a1ac-6ce97d66967a"
    }
   },
   "outputs": [
    {
     "name": "stdout",
     "output_type": "stream",
     "text": [
      "uploaded training data location: s3://cyrusmv-sagemaker-demos/visa-kaggle/data/recordio-pb-data\n"
     ]
    }
   ],
   "source": [
    "key = 'recordio-pb-data'\n",
    "boto3.resource('s3').Bucket(bucket).Object(os.path.join(dist, key)).upload_fileobj(buf)\n",
    "s3_train_data = 's3://{}/{}{}'.format(bucket, dist, key)\n",
    "print('uploaded training data location: {}'.format(s3_train_data))"
   ]
  },
  {
   "cell_type": "markdown",
   "metadata": {
    "nbpresent": {
     "id": "bacac4be-72cb-492c-9963-a3d1a750ba64"
    }
   },
   "source": [
    "### 3-Passing an Amazon S3 location to your train function\n",
    "Let's also setup an output Amazon S3 location for the model artifacts to be uploaded to after training in complete."
   ]
  },
  {
   "cell_type": "code",
   "execution_count": 127,
   "metadata": {
    "nbpresent": {
     "id": "959f7129-dd4d-40c2-b025-98f334c52182"
    }
   },
   "outputs": [
    {
     "name": "stdout",
     "output_type": "stream",
     "text": [
      "training artifacts will be uploaded to: s3://cyrusmv-sagemaker-demos/visa-kaggle/output\n"
     ]
    }
   ],
   "source": [
    "output_location = 's3://{}/{}output'.format(bucket, s3_4_output)\n",
    "print('training artifacts will be uploaded to: {}'.format(output_location))"
   ]
  },
  {
   "cell_type": "markdown",
   "metadata": {
    "nbpresent": {
     "id": "ce2c3941-055c-48da-a44a-acae10d538fe"
    }
   },
   "source": [
    "### The end of the data preparation phase\n",
    "At this point we have a set of npy training and validation files in Amazon S3, and we no longer need the local data. This tutorial up to here can be split into a separate notebook. In fact I strongly recommend that you do this. Next, we are going to train the Linear Learner model with the Visa dataset. First, I will dive deeper into Amazon SageMaker Python SDK."
   ]
  },
  {
   "cell_type": "markdown",
   "metadata": {
    "nbpresent": {
     "id": "6e407eaf-5b91-4d49-90c2-6d627674e902"
    }
   },
   "source": [
    "## Training LinearLearner using the Amazon SageMaker Python SDK\n",
    "### Architecture\n",
    "Before diving into the code, let’s get under the hood of Amazon SageMaker and see how it works. The Amazon SageMaker Python SDK has a few core classes. The most important class hierarchy for training jobs is the Estimator.\n",
    "\n",
    "The base class, EstimatorBase, has a method, called ```python fit()```. All classes that are derived from EstimatorBase implement ```python fit()```.\n",
    "\n",
    "Calling ```python fit()``` results in creating a training job, spinning up a training cluster, and training the model. After the training is complete, the trained model artefacts will be saved in S3 and training cluster will be torn down.\n",
    "\n",
    "Ignoring Frameworks and other built-in algorithms we can see that EstimatorBase branches into two sections, general Estimator, used for calling Amazon Algorithms, and FrameWork from which the Estimators class for using frameworks such as MXNet and TensorFlow are derived.\n",
    "![EstimatorHierarchy](../images/estimator.png)\n",
    "\n",
    "### Training\n",
    "Training a model in Amazon SageMaker consists of creating an Estimator object, setting hyperparameters, and calling ```python fit()```. \n",
    "The core below shows how to create an Estimator object, pass hyperparameters to it, and call the ```fit``` method.\n",
    "\n",
    "```python\n",
    "linear = sagemaker.estimator.Estimator(containers[boto3.Session().region_name],\n",
    "                                       role, #S3 role, so the notebook can read the data and upload the model\n",
    "                                       train_instance_count=1, #number of instances for training\n",
    "                                       train_instance_type='ml.p2.xlarge', # type of training instance\n",
    "                                       output_path=output_location, #s3 location for uploading trained mdoel\n",
    "                                       sagemaker_session=sess)\n",
    "linear.set_hyperparameters(feature_dim=30, #dataset has 30 columns (features)\n",
    "                           predictor_type='binary_classifier', # for regression set to regressor\n",
    "                           mini_batch_size=200)\n",
    "\n",
    "linear.fit({'train': s3_train_data})                                \n",
    "                                    \n",
    "```\n",
    "Calling fit will create the follwing flow:\n",
    "1. Creation of a training cluster based on requested specification will be created.\n",
    "2. Creating and launching of a Training Job by Amazon SageMaker.\n",
    "3. Streaming or downloading of training dataset from S3 onto the training cluster.\n",
    "4. Training will be performed based on the values of hyperparameters.\n",
    "5. Training will terminate after termination criteria is reached.\n",
    "6. Model artefacts of the best model will be uploaded to designated S3 location.\n",
    "7. The training cluster is torn down."
   ]
  },
  {
   "cell_type": "markdown",
   "metadata": {
    "nbpresent": {
     "id": "79ba5925-4fba-46fa-ae24-58c0139d5427"
    }
   },
   "source": [
    "### Training - Code\n",
    "We need to tell the Estimator where the model is located. Linear Learner is hosted in Amazon ECR Docker registry in several Regions. Pass the appropriate image to the Estimator object.\n",
    "\n",
    "I then define a set of hyperparameters for LinearLearner to tune the model. First, we perform the training with default values and later we attempt to optimize model performance by changing from default values for hyperparameters to more targeted values based on performance indicators. In this case we are targeting higher recall.\n",
    "\n",
    "Finally we call the ```fit()``` method of the Estimator object."
   ]
  },
  {
   "cell_type": "code",
   "execution_count": 19,
   "metadata": {
    "collapsed": true,
    "nbpresent": {
     "id": "b3df9c71-d576-43e9-9c7c-1880055d0f6b"
    }
   },
   "outputs": [],
   "source": [
    "#list of LinearLearner containers\n",
    "containers = {'us-west-2': '174872318107.dkr.ecr.us-west-2.amazonaws.com/linear-learner:latest',\n",
    "              'us-east-1': '382416733822.dkr.ecr.us-east-1.amazonaws.com/linear-learner:latest',\n",
    "              'us-east-2': '404615174143.dkr.ecr.us-east-2.amazonaws.com/linear-learner:latest',\n",
    "              'eu-west-1': '438346466558.dkr.ecr.eu-west-1.amazonaws.com/linear-learner:latest'}"
   ]
  },
  {
   "cell_type": "code",
   "execution_count": 20,
   "metadata": {},
   "outputs": [
    {
     "name": "stderr",
     "output_type": "stream",
     "text": [
      "INFO:sagemaker:Creating training-job with name: linear-learner-2018-03-13-09-59-05-546\n"
     ]
    },
    {
     "name": "stdout",
     "output_type": "stream",
     "text": [
      "...........................................................................\n",
      "\u001b[31mDocker entrypoint called with argument(s): train\u001b[0m\n",
      "\u001b[31m[03/13/2018 10:05:15 INFO 139642387044160] Reading default configuration from /opt/amazon/lib/python2.7/site-packages/algorithm/default-input.json: {u'epochs': u'10', u'init_bias': u'0.0', u'lr_scheduler_factor': u'0.99', u'num_calibration_samples': u'10000000', u'_num_kv_servers': u'auto', u'use_bias': u'true', u'num_point_for_scaler': u'10000', u'_log_level': u'info', u'bias_lr_mult': u'10', u'lr_scheduler_step': u'100', u'init_method': u'uniform', u'init_sigma': u'0.01', u'lr_scheduler_minimum_lr': u'0.00001', u'target_recall': u'0.8', u'num_models': u'32', u'early_stopping_patience': u'3', u'momentum': u'0.0', u'unbias_label': u'auto', u'wd': u'0.0', u'optimizer': u'adam', u'early_stopping_tolerance': u'0.001', u'learning_rate': u'auto', u'_kvstore': u'auto', u'normalize_data': u'true', u'binary_classifier_model_selection_criteria': u'accuracy', u'use_lr_scheduler': u'true', u'target_precision': u'0.8', u'force_dense': u'true', u'unbias_data': u'auto', u'init_scale': u'0.07', u'bias_wd_mult': u'0', u'mini_batch_size': u'1000', u'beta_1': u'0.9', u'loss': u'auto', u'beta_2': u'0.999', u'normalize_label': u'auto', u'_num_gpus': u'auto', u'_data_format': u'record', u'positive_example_weight_mult': u'1.0', u'l1': u'0.0'}\u001b[0m\n",
      "\u001b[31m[03/13/2018 10:05:15 INFO 139642387044160] Reading provided configuration from /opt/ml/input/config/hyperparameters.json: {u'feature_dim': u'30', u'mini_batch_size': u'200', u'predictor_type': u'binary_classifier'}\u001b[0m\n",
      "\u001b[31m[03/13/2018 10:05:15 INFO 139642387044160] Final configuration: {u'epochs': u'10', u'feature_dim': u'30', u'init_bias': u'0.0', u'lr_scheduler_factor': u'0.99', u'num_calibration_samples': u'10000000', u'_num_kv_servers': u'auto', u'use_bias': u'true', u'num_point_for_scaler': u'10000', u'_log_level': u'info', u'bias_lr_mult': u'10', u'lr_scheduler_step': u'100', u'init_method': u'uniform', u'init_sigma': u'0.01', u'lr_scheduler_minimum_lr': u'0.00001', u'target_recall': u'0.8', u'num_models': u'32', u'early_stopping_patience': u'3', u'momentum': u'0.0', u'unbias_label': u'auto', u'wd': u'0.0', u'optimizer': u'adam', u'early_stopping_tolerance': u'0.001', u'learning_rate': u'auto', u'_kvstore': u'auto', u'normalize_data': u'true', u'binary_classifier_model_selection_criteria': u'accuracy', u'use_lr_scheduler': u'true', u'target_precision': u'0.8', u'force_dense': u'true', u'unbias_data': u'auto', u'init_scale': u'0.07', u'bias_wd_mult': u'0', u'mini_batch_size': u'200', u'beta_1': u'0.9', u'loss': u'auto', u'beta_2': u'0.999', u'predictor_type': u'binary_classifier', u'normalize_label': u'auto', u'_num_gpus': u'auto', u'_data_format': u'record', u'positive_example_weight_mult': u'1.0', u'l1': u'0.0'}\u001b[0m\n",
      "\u001b[31m[03/13/2018 10:05:15 WARNING 139642387044160] Loggers have already been setup.\u001b[0m\n",
      "\u001b[31m[03/13/2018 10:05:15 INFO 139642387044160] Using default worker.\u001b[0m\n",
      "\u001b[31m[03/13/2018 10:05:15 INFO 139642387044160] Loaded iterator creator application/x-recordio-protobuf for content type ('application/x-recordio-protobuf', '1.0')\u001b[0m\n",
      "\u001b[31m[03/13/2018 10:05:16 INFO 139642387044160] Create Store: local\u001b[0m\n",
      "\u001b[31m[03/13/2018 10:05:17 WARNING 139642387044160] wait_for_all_workers will not sync workers since the kv store is not running distributed\u001b[0m\n",
      "\u001b[31m[03/13/2018 10:05:17 INFO 139642387044160] nvidia-smi took: 0.0251820087433 secs to identify 1 gpus\u001b[0m\n",
      "\u001b[31m[03/13/2018 10:05:17 INFO 139642387044160] Number of GPUs being used: 1\u001b[0m\n",
      "\u001b[31m#metrics {\"Metrics\": {\"Max Batches Seen Between Resets\": {\"count\": 1, \"max\": 51, \"sum\": 51.0, \"min\": 51}, \"Number of Batches Since Last Reset\": {\"count\": 1, \"max\": 0, \"sum\": 0.0, \"min\": 0}, \"Number of Records Since Last Reset\": {\"count\": 1, \"max\": 0, \"sum\": 0.0, \"min\": 0}, \"Total Batches Seen\": {\"count\": 1, \"max\": 52, \"sum\": 52.0, \"min\": 52}, \"Total Records Seen\": {\"count\": 1, \"max\": 10400, \"sum\": 10400.0, \"min\": 10400}, \"Max Records Seen Between Resets\": {\"count\": 1, \"max\": 10200, \"sum\": 10200.0, \"min\": 10200}, \"Reset Count\": {\"count\": 1, \"max\": 2, \"sum\": 2.0, \"min\": 2}}, \"EndTime\": 1520935519.273346, \"Dimensions\": {\"Host\": \"algo-1\", \"Meta\": \"init_train_data_iter\", \"Operation\": \"training\", \"Algorithm\": \"Linear Learner\"}, \"StartTime\": 1520935519.273289}\n",
      "\u001b[0m\n",
      "\u001b[31m#metrics {\"Metrics\": {\"training_binary_classification_cross_entropy\": {\"count\": 1, \"max\": 0.03263369270267496, \"sum\": 0.03263369270267496, \"min\": 0.03263369270267496}, \"validation_binary_classification_cross_entropy\": {\"count\": 1, \"max\": -Infinity, \"sum\": NaN, \"min\": Infinity}}, \"EndTime\": 1520935557.383825, \"Dimensions\": {\"model\": 0, \"Host\": \"algo-1\", \"Operation\": \"training\", \"Algorithm\": \"Linear Learner\", \"epoch\": 1}, \"StartTime\": 1520935557.383687}\n",
      "\u001b[0m\n",
      "\u001b[31m#metrics {\"Metrics\": {\"training_binary_classification_cross_entropy\": {\"count\": 1, \"max\": 0.030974385090561277, \"sum\": 0.030974385090561277, \"min\": 0.030974385090561277}, \"validation_binary_classification_cross_entropy\": {\"count\": 1, \"max\": -Infinity, \"sum\": NaN, \"min\": Infinity}}, \"EndTime\": 1520935557.383979, \"Dimensions\": {\"model\": 1, \"Host\": \"algo-1\", \"Operation\": \"training\", \"Algorithm\": \"Linear Learner\", \"epoch\": 1}, \"StartTime\": 1520935557.383913}\n",
      "\u001b[0m\n",
      "\u001b[31m#metrics {\"Metrics\": {\"training_binary_classification_cross_entropy\": {\"count\": 1, \"max\": 0.032773735335912095, \"sum\": 0.032773735335912095, \"min\": 0.032773735335912095}, \"validation_binary_classification_cross_entropy\": {\"count\": 1, \"max\": -Infinity, \"sum\": NaN, \"min\": Infinity}}, \"EndTime\": 1520935557.384061, \"Dimensions\": {\"model\": 2, \"Host\": \"algo-1\", \"Operation\": \"training\", \"Algorithm\": \"Linear Learner\", \"epoch\": 1}, \"StartTime\": 1520935557.384039}\n",
      "\u001b[0m\n",
      "\u001b[31m#metrics {\"Metrics\": {\"training_binary_classification_cross_entropy\": {\"count\": 1, \"max\": 0.030927742364326393, \"sum\": 0.030927742364326393, \"min\": 0.030927742364326393}, \"validation_binary_classification_cross_entropy\": {\"count\": 1, \"max\": -Infinity, \"sum\": NaN, \"min\": Infinity}}, \"EndTime\": 1520935557.384127, \"Dimensions\": {\"model\": 3, \"Host\": \"algo-1\", \"Operation\": \"training\", \"Algorithm\": \"Linear Learner\", \"epoch\": 1}, \"StartTime\": 1520935557.384109}\n",
      "\u001b[0m\n",
      "\u001b[31m#metrics {\"Metrics\": {\"training_binary_classification_cross_entropy\": {\"count\": 1, \"max\": 0.008452769120735299, \"sum\": 0.008452769120735299, \"min\": 0.008452769120735299}, \"validation_binary_classification_cross_entropy\": {\"count\": 1, \"max\": -Infinity, \"sum\": NaN, \"min\": Infinity}}, \"EndTime\": 1520935557.384184, \"Dimensions\": {\"model\": 4, \"Host\": \"algo-1\", \"Operation\": \"training\", \"Algorithm\": \"Linear Learner\", \"epoch\": 1}, \"StartTime\": 1520935557.384166}\n",
      "\u001b[0m\n",
      "\u001b[31m#metrics {\"Metrics\": {\"training_binary_classification_cross_entropy\": {\"count\": 1, \"max\": 0.009712099996540343, \"sum\": 0.009712099996540343, \"min\": 0.009712099996540343}, \"validation_binary_classification_cross_entropy\": {\"count\": 1, \"max\": -Infinity, \"sum\": NaN, \"min\": Infinity}}, \"EndTime\": 1520935557.384239, \"Dimensions\": {\"model\": 5, \"Host\": \"algo-1\", \"Operation\": \"training\", \"Algorithm\": \"Linear Learner\", \"epoch\": 1}, \"StartTime\": 1520935557.384221}\n",
      "\u001b[0m\n",
      "\u001b[31m#metrics {\"Metrics\": {\"training_binary_classification_cross_entropy\": {\"count\": 1, \"max\": 0.008114031247633798, \"sum\": 0.008114031247633798, \"min\": 0.008114031247633798}, \"validation_binary_classification_cross_entropy\": {\"count\": 1, \"max\": -Infinity, \"sum\": NaN, \"min\": Infinity}}, \"EndTime\": 1520935557.384293, \"Dimensions\": {\"model\": 6, \"Host\": \"algo-1\", \"Operation\": \"training\", \"Algorithm\": \"Linear Learner\", \"epoch\": 1}, \"StartTime\": 1520935557.384275}\n",
      "\u001b[0m\n",
      "\u001b[31m#metrics {\"Metrics\": {\"training_binary_classification_cross_entropy\": {\"count\": 1, \"max\": 0.009226878358265777, \"sum\": 0.009226878358265777, \"min\": 0.009226878358265777}, \"validation_binary_classification_cross_entropy\": {\"count\": 1, \"max\": -Infinity, \"sum\": NaN, \"min\": Infinity}}, \"EndTime\": 1520935557.384352, \"Dimensions\": {\"model\": 7, \"Host\": \"algo-1\", \"Operation\": \"training\", \"Algorithm\": \"Linear Learner\", \"epoch\": 1}, \"StartTime\": 1520935557.384335}\n",
      "\u001b[0m\n",
      "\u001b[31m#metrics {\"Metrics\": {\"training_binary_classification_cross_entropy\": {\"count\": 1, \"max\": 0.03286949151461144, \"sum\": 0.03286949151461144, \"min\": 0.03286949151461144}, \"validation_binary_classification_cross_entropy\": {\"count\": 1, \"max\": -Infinity, \"sum\": NaN, \"min\": Infinity}}, \"EndTime\": 1520935557.384412, \"Dimensions\": {\"model\": 8, \"Host\": \"algo-1\", \"Operation\": \"training\", \"Algorithm\": \"Linear Learner\", \"epoch\": 1}, \"StartTime\": 1520935557.384394}\n",
      "\u001b[0m\n",
      "\u001b[31m#metrics {\"Metrics\": {\"training_binary_classification_cross_entropy\": {\"count\": 1, \"max\": 0.031155570906598165, \"sum\": 0.031155570906598165, \"min\": 0.031155570906598165}, \"validation_binary_classification_cross_entropy\": {\"count\": 1, \"max\": -Infinity, \"sum\": NaN, \"min\": Infinity}}, \"EndTime\": 1520935557.384472, \"Dimensions\": {\"model\": 9, \"Host\": \"algo-1\", \"Operation\": \"training\", \"Algorithm\": \"Linear Learner\", \"epoch\": 1}, \"StartTime\": 1520935557.384454}\n",
      "\u001b[0m\n",
      "\u001b[31m#metrics {\"Metrics\": {\"training_binary_classification_cross_entropy\": {\"count\": 1, \"max\": 0.03289758820759963, \"sum\": 0.03289758820759963, \"min\": 0.03289758820759963}, \"validation_binary_classification_cross_entropy\": {\"count\": 1, \"max\": -Infinity, \"sum\": NaN, \"min\": Infinity}}, \"EndTime\": 1520935557.384532, \"Dimensions\": {\"model\": 10, \"Host\": \"algo-1\", \"Operation\": \"training\", \"Algorithm\": \"Linear Learner\", \"epoch\": 1}, \"StartTime\": 1520935557.384515}\n",
      "\u001b[0m\n",
      "\u001b[31m#metrics {\"Metrics\": {\"training_binary_classification_cross_entropy\": {\"count\": 1, \"max\": 0.031166436637201943, \"sum\": 0.031166436637201943, \"min\": 0.031166436637201943}, \"validation_binary_classification_cross_entropy\": {\"count\": 1, \"max\": -Infinity, \"sum\": NaN, \"min\": Infinity}}, \"EndTime\": 1520935557.384589, \"Dimensions\": {\"model\": 11, \"Host\": \"algo-1\", \"Operation\": \"training\", \"Algorithm\": \"Linear Learner\", \"epoch\": 1}, \"StartTime\": 1520935557.384571}\n",
      "\u001b[0m\n",
      "\u001b[31m#metrics {\"Metrics\": {\"training_binary_classification_cross_entropy\": {\"count\": 1, \"max\": 0.007926067693563866, \"sum\": 0.007926067693563866, \"min\": 0.007926067693563866}, \"validation_binary_classification_cross_entropy\": {\"count\": 1, \"max\": -Infinity, \"sum\": NaN, \"min\": Infinity}}, \"EndTime\": 1520935557.384644, \"Dimensions\": {\"model\": 12, \"Host\": \"algo-1\", \"Operation\": \"training\", \"Algorithm\": \"Linear Learner\", \"epoch\": 1}, \"StartTime\": 1520935557.384627}\n",
      "\u001b[0m\n",
      "\u001b[31m#metrics {\"Metrics\": {\"training_binary_classification_cross_entropy\": {\"count\": 1, \"max\": 0.00871746794931239, \"sum\": 0.00871746794931239, \"min\": 0.00871746794931239}, \"validation_binary_classification_cross_entropy\": {\"count\": 1, \"max\": -Infinity, \"sum\": NaN, \"min\": Infinity}}, \"EndTime\": 1520935557.384699, \"Dimensions\": {\"model\": 13, \"Host\": \"algo-1\", \"Operation\": \"training\", \"Algorithm\": \"Linear Learner\", \"epoch\": 1}, \"StartTime\": 1520935557.384682}\n",
      "\u001b[0m\n",
      "\u001b[31m#metrics {\"Metrics\": {\"training_binary_classification_cross_entropy\": {\"count\": 1, \"max\": 0.007969699952738307, \"sum\": 0.007969699952738307, \"min\": 0.007969699952738307}, \"validation_binary_classification_cross_entropy\": {\"count\": 1, \"max\": -Infinity, \"sum\": NaN, \"min\": Infinity}}, \"EndTime\": 1520935557.384757, \"Dimensions\": {\"model\": 14, \"Host\": \"algo-1\", \"Operation\": \"training\", \"Algorithm\": \"Linear Learner\", \"epoch\": 1}, \"StartTime\": 1520935557.38474}\n",
      "\u001b[0m\n",
      "\u001b[31m#metrics {\"Metrics\": {\"training_binary_classification_cross_entropy\": {\"count\": 1, \"max\": 0.00866009907789966, \"sum\": 0.00866009907789966, \"min\": 0.00866009907789966}, \"validation_binary_classification_cross_entropy\": {\"count\": 1, \"max\": -Infinity, \"sum\": NaN, \"min\": Infinity}}, \"EndTime\": 1520935557.384813, \"Dimensions\": {\"model\": 15, \"Host\": \"algo-1\", \"Operation\": \"training\", \"Algorithm\": \"Linear Learner\", \"epoch\": 1}, \"StartTime\": 1520935557.384796}\n",
      "\u001b[0m\n",
      "\u001b[31m#metrics {\"Metrics\": {\"training_binary_classification_cross_entropy\": {\"count\": 1, \"max\": 0.03715733054322172, \"sum\": 0.03715733054322172, \"min\": 0.03715733054322172}, \"validation_binary_classification_cross_entropy\": {\"count\": 1, \"max\": -Infinity, \"sum\": NaN, \"min\": Infinity}}, \"EndTime\": 1520935557.384868, \"Dimensions\": {\"model\": 16, \"Host\": \"algo-1\", \"Operation\": \"training\", \"Algorithm\": \"Linear Learner\", \"epoch\": 1}, \"StartTime\": 1520935557.384851}\n",
      "\u001b[0m\n",
      "\u001b[31m#metrics {\"Metrics\": {\"training_binary_classification_cross_entropy\": {\"count\": 1, \"max\": 0.035650734449007425, \"sum\": 0.035650734449007425, \"min\": 0.035650734449007425}, \"validation_binary_classification_cross_entropy\": {\"count\": 1, \"max\": -Infinity, \"sum\": NaN, \"min\": Infinity}}, \"EndTime\": 1520935557.384928, \"Dimensions\": {\"model\": 17, \"Host\": \"algo-1\", \"Operation\": \"training\", \"Algorithm\": \"Linear Learner\", \"epoch\": 1}, \"StartTime\": 1520935557.38491}\n",
      "\u001b[0m\n",
      "\u001b[31m#metrics {\"Metrics\": {\"training_binary_classification_cross_entropy\": {\"count\": 1, \"max\": 0.03709540521075209, \"sum\": 0.03709540521075209, \"min\": 0.03709540521075209}, \"validation_binary_classification_cross_entropy\": {\"count\": 1, \"max\": -Infinity, \"sum\": NaN, \"min\": Infinity}}, \"EndTime\": 1520935557.384989, \"Dimensions\": {\"model\": 18, \"Host\": \"algo-1\", \"Operation\": \"training\", \"Algorithm\": \"Linear Learner\", \"epoch\": 1}, \"StartTime\": 1520935557.384972}\n",
      "\u001b[0m\n",
      "\u001b[31m#metrics {\"Metrics\": {\"training_binary_classification_cross_entropy\": {\"count\": 1, \"max\": 0.035670090340466865, \"sum\": 0.035670090340466865, \"min\": 0.035670090340466865}, \"validation_binary_classification_cross_entropy\": {\"count\": 1, \"max\": -Infinity, \"sum\": NaN, \"min\": Infinity}}, \"EndTime\": 1520935557.385045, \"Dimensions\": {\"model\": 19, \"Host\": \"algo-1\", \"Operation\": \"training\", \"Algorithm\": \"Linear Learner\", \"epoch\": 1}, \"StartTime\": 1520935557.385028}\n",
      "\u001b[0m\n",
      "\u001b[31m#metrics {\"Metrics\": {\"training_binary_classification_cross_entropy\": {\"count\": 1, \"max\": 0.013384296694895754, \"sum\": 0.013384296694895754, \"min\": 0.013384296694895754}, \"validation_binary_classification_cross_entropy\": {\"count\": 1, \"max\": -Infinity, \"sum\": NaN, \"min\": Infinity}}, \"EndTime\": 1520935557.385101, \"Dimensions\": {\"model\": 20, \"Host\": \"algo-1\", \"Operation\": \"training\", \"Algorithm\": \"Linear Learner\", \"epoch\": 1}, \"StartTime\": 1520935557.385083}\n",
      "\u001b[0m\n",
      "\u001b[31m#metrics {\"Metrics\": {\"training_binary_classification_cross_entropy\": {\"count\": 1, \"max\": 0.013402316943358025, \"sum\": 0.013402316943358025, \"min\": 0.013402316943358025}, \"validation_binary_classification_cross_entropy\": {\"count\": 1, \"max\": -Infinity, \"sum\": NaN, \"min\": Infinity}}, \"EndTime\": 1520935557.385155, \"Dimensions\": {\"model\": 21, \"Host\": \"algo-1\", \"Operation\": \"training\", \"Algorithm\": \"Linear Learner\", \"epoch\": 1}, \"StartTime\": 1520935557.385139}\n",
      "\u001b[0m\n",
      "\u001b[31m#metrics {\"Metrics\": {\"training_binary_classification_cross_entropy\": {\"count\": 1, \"max\": 0.013345350097326271, \"sum\": 0.013345350097326271, \"min\": 0.013345350097326271}, \"validation_binary_classification_cross_entropy\": {\"count\": 1, \"max\": -Infinity, \"sum\": NaN, \"min\": Infinity}}, \"EndTime\": 1520935557.385211, \"Dimensions\": {\"model\": 22, \"Host\": \"algo-1\", \"Operation\": \"training\", \"Algorithm\": \"Linear Learner\", \"epoch\": 1}, \"StartTime\": 1520935557.385195}\n",
      "\u001b[0m\n",
      "\u001b[31m#metrics {\"Metrics\": {\"training_binary_classification_cross_entropy\": {\"count\": 1, \"max\": 0.01341641724495363, \"sum\": 0.01341641724495363, \"min\": 0.01341641724495363}, \"validation_binary_classification_cross_entropy\": {\"count\": 1, \"max\": -Infinity, \"sum\": NaN, \"min\": Infinity}}, \"EndTime\": 1520935557.385267, \"Dimensions\": {\"model\": 23, \"Host\": \"algo-1\", \"Operation\": \"training\", \"Algorithm\": \"Linear Learner\", \"epoch\": 1}, \"StartTime\": 1520935557.38525}\n",
      "\u001b[0m\n",
      "\u001b[31m#metrics {\"Metrics\": {\"training_binary_classification_cross_entropy\": {\"count\": 1, \"max\": 0.03799945816427589, \"sum\": 0.03799945816427589, \"min\": 0.03799945816427589}, \"validation_binary_classification_cross_entropy\": {\"count\": 1, \"max\": -Infinity, \"sum\": NaN, \"min\": Infinity}}, \"EndTime\": 1520935557.385326, \"Dimensions\": {\"model\": 24, \"Host\": \"algo-1\", \"Operation\": \"training\", \"Algorithm\": \"Linear Learner\", \"epoch\": 1}, \"StartTime\": 1520935557.385309}\n",
      "\u001b[0m\n",
      "\u001b[31m#metrics {\"Metrics\": {\"training_binary_classification_cross_entropy\": {\"count\": 1, \"max\": 0.03650823699213175, \"sum\": 0.03650823699213175, \"min\": 0.03650823699213175}, \"validation_binary_classification_cross_entropy\": {\"count\": 1, \"max\": -Infinity, \"sum\": NaN, \"min\": Infinity}}, \"EndTime\": 1520935557.385385, \"Dimensions\": {\"model\": 25, \"Host\": \"algo-1\", \"Operation\": \"training\", \"Algorithm\": \"Linear Learner\", \"epoch\": 1}, \"StartTime\": 1520935557.385368}\n",
      "\u001b[0m\n",
      "\u001b[31m#metrics {\"Metrics\": {\"training_binary_classification_cross_entropy\": {\"count\": 1, \"max\": 0.03795243291042177, \"sum\": 0.03795243291042177, \"min\": 0.03795243291042177}, \"validation_binary_classification_cross_entropy\": {\"count\": 1, \"max\": -Infinity, \"sum\": NaN, \"min\": Infinity}}, \"EndTime\": 1520935557.385441, \"Dimensions\": {\"model\": 26, \"Host\": \"algo-1\", \"Operation\": \"training\", \"Algorithm\": \"Linear Learner\", \"epoch\": 1}, \"StartTime\": 1520935557.385424}\n",
      "\u001b[0m\n",
      "\u001b[31m#metrics {\"Metrics\": {\"training_binary_classification_cross_entropy\": {\"count\": 1, \"max\": 0.036523704892061803, \"sum\": 0.036523704892061803, \"min\": 0.036523704892061803}, \"validation_binary_classification_cross_entropy\": {\"count\": 1, \"max\": -Infinity, \"sum\": NaN, \"min\": Infinity}}, \"EndTime\": 1520935557.385496, \"Dimensions\": {\"model\": 27, \"Host\": \"algo-1\", \"Operation\": \"training\", \"Algorithm\": \"Linear Learner\", \"epoch\": 1}, \"StartTime\": 1520935557.38548}\n",
      "\u001b[0m\n",
      "\u001b[31m#metrics {\"Metrics\": {\"training_binary_classification_cross_entropy\": {\"count\": 1, \"max\": 0.014299934009266792, \"sum\": 0.014299934009266792, \"min\": 0.014299934009266792}, \"validation_binary_classification_cross_entropy\": {\"count\": 1, \"max\": -Infinity, \"sum\": NaN, \"min\": Infinity}}, \"EndTime\": 1520935557.385551, \"Dimensions\": {\"model\": 28, \"Host\": \"algo-1\", \"Operation\": \"training\", \"Algorithm\": \"Linear Learner\", \"epoch\": 1}, \"StartTime\": 1520935557.385535}\n",
      "\u001b[0m\n",
      "\u001b[31m#metrics {\"Metrics\": {\"training_binary_classification_cross_entropy\": {\"count\": 1, \"max\": 0.014330657201816317, \"sum\": 0.014330657201816317, \"min\": 0.014330657201816317}, \"validation_binary_classification_cross_entropy\": {\"count\": 1, \"max\": -Infinity, \"sum\": NaN, \"min\": Infinity}}, \"EndTime\": 1520935557.385607, \"Dimensions\": {\"model\": 29, \"Host\": \"algo-1\", \"Operation\": \"training\", \"Algorithm\": \"Linear Learner\", \"epoch\": 1}, \"StartTime\": 1520935557.38559}\n",
      "\u001b[0m\n",
      "\u001b[31m#metrics {\"Metrics\": {\"training_binary_classification_cross_entropy\": {\"count\": 1, \"max\": 0.014321291175807441, \"sum\": 0.014321291175807441, \"min\": 0.014321291175807441}, \"validation_binary_classification_cross_entropy\": {\"count\": 1, \"max\": -Infinity, \"sum\": NaN, \"min\": Infinity}}, \"EndTime\": 1520935557.385663, \"Dimensions\": {\"model\": 30, \"Host\": \"algo-1\", \"Operation\": \"training\", \"Algorithm\": \"Linear Learner\", \"epoch\": 1}, \"StartTime\": 1520935557.385646}\n",
      "\u001b[0m\n",
      "\u001b[31m#metrics {\"Metrics\": {\"training_binary_classification_cross_entropy\": {\"count\": 1, \"max\": 0.014324195084739925, \"sum\": 0.014324195084739925, \"min\": 0.014324195084739925}, \"validation_binary_classification_cross_entropy\": {\"count\": 1, \"max\": -Infinity, \"sum\": NaN, \"min\": Infinity}}, \"EndTime\": 1520935557.385717, \"Dimensions\": {\"model\": 31, \"Host\": \"algo-1\", \"Operation\": \"training\", \"Algorithm\": \"Linear Learner\", \"epoch\": 1}, \"StartTime\": 1520935557.3857}\n",
      "\u001b[0m\n",
      "\u001b[31m[03/13/2018 10:05:57 INFO 139642387044160] Epoch 1: Loss improved.  Updating best model\u001b[0m\n",
      "\u001b[31m#metrics {\"Metrics\": {\"Max Batches Seen Between Resets\": {\"count\": 1, \"max\": 997, \"sum\": 997.0, \"min\": 997}, \"Number of Batches Since Last Reset\": {\"count\": 1, \"max\": 997, \"sum\": 997.0, \"min\": 997}, \"Number of Records Since Last Reset\": {\"count\": 1, \"max\": 199364, \"sum\": 199364.0, \"min\": 199364}, \"Total Batches Seen\": {\"count\": 1, \"max\": 1049, \"sum\": 1049.0, \"min\": 1049}, \"Total Records Seen\": {\"count\": 1, \"max\": 209764, \"sum\": 209764.0, \"min\": 209764}, \"Max Records Seen Between Resets\": {\"count\": 1, \"max\": 199364, \"sum\": 199364.0, \"min\": 199364}, \"Reset Count\": {\"count\": 1, \"max\": 3, \"sum\": 3.0, \"min\": 3}}, \"EndTime\": 1520935557.386798, \"Dimensions\": {\"Host\": \"algo-1\", \"Meta\": \"training_data_iter\", \"Operation\": \"training\", \"Algorithm\": \"Linear Learner\", \"epoch\": 0}, \"StartTime\": 1520935557.386719}\n",
      "\u001b[0m\n"
     ]
    },
    {
     "name": "stdout",
     "output_type": "stream",
     "text": [
      "\u001b[31m#metrics {\"Metrics\": {\"training_binary_classification_cross_entropy\": {\"count\": 1, \"max\": 0.00566765322847419, \"sum\": 0.00566765322847419, \"min\": 0.00566765322847419}, \"validation_binary_classification_cross_entropy\": {\"count\": 1, \"max\": -Infinity, \"sum\": NaN, \"min\": Infinity}}, \"EndTime\": 1520935595.519038, \"Dimensions\": {\"model\": 0, \"Host\": \"algo-1\", \"Operation\": \"training\", \"Algorithm\": \"Linear Learner\", \"epoch\": 2}, \"StartTime\": 1520935595.518941}\n",
      "\u001b[0m\n",
      "\u001b[31m#metrics {\"Metrics\": {\"training_binary_classification_cross_entropy\": {\"count\": 1, \"max\": 0.004825514521464765, \"sum\": 0.004825514521464765, \"min\": 0.004825514521464765}, \"validation_binary_classification_cross_entropy\": {\"count\": 1, \"max\": -Infinity, \"sum\": NaN, \"min\": Infinity}}, \"EndTime\": 1520935595.519132, \"Dimensions\": {\"model\": 1, \"Host\": \"algo-1\", \"Operation\": \"training\", \"Algorithm\": \"Linear Learner\", \"epoch\": 2}, \"StartTime\": 1520935595.519108}\n",
      "\u001b[0m\n",
      "\u001b[31m#metrics {\"Metrics\": {\"training_binary_classification_cross_entropy\": {\"count\": 1, \"max\": 0.005666983569392478, \"sum\": 0.005666983569392478, \"min\": 0.005666983569392478}, \"validation_binary_classification_cross_entropy\": {\"count\": 1, \"max\": -Infinity, \"sum\": NaN, \"min\": Infinity}}, \"EndTime\": 1520935595.519245, \"Dimensions\": {\"model\": 2, \"Host\": \"algo-1\", \"Operation\": \"training\", \"Algorithm\": \"Linear Learner\", \"epoch\": 2}, \"StartTime\": 1520935595.519222}\n",
      "\u001b[0m\n",
      "\u001b[31m#metrics {\"Metrics\": {\"training_binary_classification_cross_entropy\": {\"count\": 1, \"max\": 0.0048245666384786725, \"sum\": 0.0048245666384786725, \"min\": 0.0048245666384786725}, \"validation_binary_classification_cross_entropy\": {\"count\": 1, \"max\": -Infinity, \"sum\": NaN, \"min\": Infinity}}, \"EndTime\": 1520935595.5193, \"Dimensions\": {\"model\": 3, \"Host\": \"algo-1\", \"Operation\": \"training\", \"Algorithm\": \"Linear Learner\", \"epoch\": 2}, \"StartTime\": 1520935595.51928}\n",
      "\u001b[0m\n",
      "\u001b[31m#metrics {\"Metrics\": {\"training_binary_classification_cross_entropy\": {\"count\": 1, \"max\": 0.0049707523119321695, \"sum\": 0.0049707523119321695, \"min\": 0.0049707523119321695}, \"validation_binary_classification_cross_entropy\": {\"count\": 1, \"max\": -Infinity, \"sum\": NaN, \"min\": Infinity}}, \"EndTime\": 1520935595.519362, \"Dimensions\": {\"model\": 4, \"Host\": \"algo-1\", \"Operation\": \"training\", \"Algorithm\": \"Linear Learner\", \"epoch\": 2}, \"StartTime\": 1520935595.519341}\n",
      "\u001b[0m\n",
      "\u001b[31m#metrics {\"Metrics\": {\"training_binary_classification_cross_entropy\": {\"count\": 1, \"max\": 0.0086763582909537, \"sum\": 0.0086763582909537, \"min\": 0.0086763582909537}, \"validation_binary_classification_cross_entropy\": {\"count\": 1, \"max\": -Infinity, \"sum\": NaN, \"min\": Infinity}}, \"EndTime\": 1520935595.519419, \"Dimensions\": {\"model\": 5, \"Host\": \"algo-1\", \"Operation\": \"training\", \"Algorithm\": \"Linear Learner\", \"epoch\": 2}, \"StartTime\": 1520935595.519401}\n",
      "\u001b[0m\n",
      "\u001b[31m#metrics {\"Metrics\": {\"training_binary_classification_cross_entropy\": {\"count\": 1, \"max\": 0.00521647686925137, \"sum\": 0.00521647686925137, \"min\": 0.00521647686925137}, \"validation_binary_classification_cross_entropy\": {\"count\": 1, \"max\": -Infinity, \"sum\": NaN, \"min\": Infinity}}, \"EndTime\": 1520935595.519479, \"Dimensions\": {\"model\": 6, \"Host\": \"algo-1\", \"Operation\": \"training\", \"Algorithm\": \"Linear Learner\", \"epoch\": 2}, \"StartTime\": 1520935595.519459}\n",
      "\u001b[0m\n",
      "\u001b[31m#metrics {\"Metrics\": {\"training_binary_classification_cross_entropy\": {\"count\": 1, \"max\": 0.007678870179668914, \"sum\": 0.007678870179668914, \"min\": 0.007678870179668914}, \"validation_binary_classification_cross_entropy\": {\"count\": 1, \"max\": -Infinity, \"sum\": NaN, \"min\": Infinity}}, \"EndTime\": 1520935595.519539, \"Dimensions\": {\"model\": 7, \"Host\": \"algo-1\", \"Operation\": \"training\", \"Algorithm\": \"Linear Learner\", \"epoch\": 2}, \"StartTime\": 1520935595.51952}\n",
      "\u001b[0m\n",
      "\u001b[31m#metrics {\"Metrics\": {\"training_binary_classification_cross_entropy\": {\"count\": 1, \"max\": 0.0061606315728351775, \"sum\": 0.0061606315728351775, \"min\": 0.0061606315728351775}, \"validation_binary_classification_cross_entropy\": {\"count\": 1, \"max\": -Infinity, \"sum\": NaN, \"min\": Infinity}}, \"EndTime\": 1520935595.519606, \"Dimensions\": {\"model\": 8, \"Host\": \"algo-1\", \"Operation\": \"training\", \"Algorithm\": \"Linear Learner\", \"epoch\": 2}, \"StartTime\": 1520935595.519584}\n",
      "\u001b[0m\n",
      "\u001b[31m#metrics {\"Metrics\": {\"training_binary_classification_cross_entropy\": {\"count\": 1, \"max\": 0.0053956647170894595, \"sum\": 0.0053956647170894595, \"min\": 0.0053956647170894595}, \"validation_binary_classification_cross_entropy\": {\"count\": 1, \"max\": -Infinity, \"sum\": NaN, \"min\": Infinity}}, \"EndTime\": 1520935595.519675, \"Dimensions\": {\"model\": 9, \"Host\": \"algo-1\", \"Operation\": \"training\", \"Algorithm\": \"Linear Learner\", \"epoch\": 2}, \"StartTime\": 1520935595.519653}\n",
      "\u001b[0m\n",
      "\u001b[31m#metrics {\"Metrics\": {\"training_binary_classification_cross_entropy\": {\"count\": 1, \"max\": 0.006159367543536736, \"sum\": 0.006159367543536736, \"min\": 0.006159367543536736}, \"validation_binary_classification_cross_entropy\": {\"count\": 1, \"max\": -Infinity, \"sum\": NaN, \"min\": Infinity}}, \"EndTime\": 1520935595.519728, \"Dimensions\": {\"model\": 10, \"Host\": \"algo-1\", \"Operation\": \"training\", \"Algorithm\": \"Linear Learner\", \"epoch\": 2}, \"StartTime\": 1520935595.519709}\n",
      "\u001b[0m\n",
      "\u001b[31m#metrics {\"Metrics\": {\"training_binary_classification_cross_entropy\": {\"count\": 1, \"max\": 0.00539418336632381, \"sum\": 0.00539418336632381, \"min\": 0.00539418336632381}, \"validation_binary_classification_cross_entropy\": {\"count\": 1, \"max\": -Infinity, \"sum\": NaN, \"min\": Infinity}}, \"EndTime\": 1520935595.51978, \"Dimensions\": {\"model\": 11, \"Host\": \"algo-1\", \"Operation\": \"training\", \"Algorithm\": \"Linear Learner\", \"epoch\": 2}, \"StartTime\": 1520935595.51976}\n",
      "\u001b[0m\n",
      "\u001b[31m#metrics {\"Metrics\": {\"training_binary_classification_cross_entropy\": {\"count\": 1, \"max\": 0.005340294556572554, \"sum\": 0.005340294556572554, \"min\": 0.005340294556572554}, \"validation_binary_classification_cross_entropy\": {\"count\": 1, \"max\": -Infinity, \"sum\": NaN, \"min\": Infinity}}, \"EndTime\": 1520935595.519846, \"Dimensions\": {\"model\": 12, \"Host\": \"algo-1\", \"Operation\": \"training\", \"Algorithm\": \"Linear Learner\", \"epoch\": 2}, \"StartTime\": 1520935595.519824}\n",
      "\u001b[0m\n",
      "\u001b[31m#metrics {\"Metrics\": {\"training_binary_classification_cross_entropy\": {\"count\": 1, \"max\": 0.007432439326473239, \"sum\": 0.007432439326473239, \"min\": 0.007432439326473239}, \"validation_binary_classification_cross_entropy\": {\"count\": 1, \"max\": -Infinity, \"sum\": NaN, \"min\": Infinity}}, \"EndTime\": 1520935595.519913, \"Dimensions\": {\"model\": 13, \"Host\": \"algo-1\", \"Operation\": \"training\", \"Algorithm\": \"Linear Learner\", \"epoch\": 2}, \"StartTime\": 1520935595.519892}\n",
      "\u001b[0m\n",
      "\u001b[31m#metrics {\"Metrics\": {\"training_binary_classification_cross_entropy\": {\"count\": 1, \"max\": 0.005339804868883338, \"sum\": 0.005339804868883338, \"min\": 0.005339804868883338}, \"validation_binary_classification_cross_entropy\": {\"count\": 1, \"max\": -Infinity, \"sum\": NaN, \"min\": Infinity}}, \"EndTime\": 1520935595.520029, \"Dimensions\": {\"model\": 14, \"Host\": \"algo-1\", \"Operation\": \"training\", \"Algorithm\": \"Linear Learner\", \"epoch\": 2}, \"StartTime\": 1520935595.520001}\n",
      "\u001b[0m\n",
      "\u001b[31m#metrics {\"Metrics\": {\"training_binary_classification_cross_entropy\": {\"count\": 1, \"max\": 0.007413593718322016, \"sum\": 0.007413593718322016, \"min\": 0.007413593718322016}, \"validation_binary_classification_cross_entropy\": {\"count\": 1, \"max\": -Infinity, \"sum\": NaN, \"min\": Infinity}}, \"EndTime\": 1520935595.520087, \"Dimensions\": {\"model\": 15, \"Host\": \"algo-1\", \"Operation\": \"training\", \"Algorithm\": \"Linear Learner\", \"epoch\": 2}, \"StartTime\": 1520935595.520071}\n",
      "\u001b[0m\n",
      "\u001b[31m#metrics {\"Metrics\": {\"training_binary_classification_cross_entropy\": {\"count\": 1, \"max\": 0.012193860524150741, \"sum\": 0.012193860524150741, \"min\": 0.012193860524150741}, \"validation_binary_classification_cross_entropy\": {\"count\": 1, \"max\": -Infinity, \"sum\": NaN, \"min\": Infinity}}, \"EndTime\": 1520935595.520145, \"Dimensions\": {\"model\": 16, \"Host\": \"algo-1\", \"Operation\": \"training\", \"Algorithm\": \"Linear Learner\", \"epoch\": 2}, \"StartTime\": 1520935595.520125}\n",
      "\u001b[0m\n",
      "\u001b[31m#metrics {\"Metrics\": {\"training_binary_classification_cross_entropy\": {\"count\": 1, \"max\": 0.011884088968805759, \"sum\": 0.011884088968805759, \"min\": 0.011884088968805759}, \"validation_binary_classification_cross_entropy\": {\"count\": 1, \"max\": -Infinity, \"sum\": NaN, \"min\": Infinity}}, \"EndTime\": 1520935595.52022, \"Dimensions\": {\"model\": 17, \"Host\": \"algo-1\", \"Operation\": \"training\", \"Algorithm\": \"Linear Learner\", \"epoch\": 2}, \"StartTime\": 1520935595.520197}\n",
      "\u001b[0m\n",
      "\u001b[31m#metrics {\"Metrics\": {\"training_binary_classification_cross_entropy\": {\"count\": 1, \"max\": 0.012192488100274979, \"sum\": 0.012192488100274979, \"min\": 0.012192488100274979}, \"validation_binary_classification_cross_entropy\": {\"count\": 1, \"max\": -Infinity, \"sum\": NaN, \"min\": Infinity}}, \"EndTime\": 1520935595.520291, \"Dimensions\": {\"model\": 18, \"Host\": \"algo-1\", \"Operation\": \"training\", \"Algorithm\": \"Linear Learner\", \"epoch\": 2}, \"StartTime\": 1520935595.52027}\n",
      "\u001b[0m\n",
      "\u001b[31m#metrics {\"Metrics\": {\"training_binary_classification_cross_entropy\": {\"count\": 1, \"max\": 0.011884277911340616, \"sum\": 0.011884277911340616, \"min\": 0.011884277911340616}, \"validation_binary_classification_cross_entropy\": {\"count\": 1, \"max\": -Infinity, \"sum\": NaN, \"min\": Infinity}}, \"EndTime\": 1520935595.52036, \"Dimensions\": {\"model\": 19, \"Host\": \"algo-1\", \"Operation\": \"training\", \"Algorithm\": \"Linear Learner\", \"epoch\": 2}, \"StartTime\": 1520935595.520338}\n",
      "\u001b[0m\n",
      "\u001b[31m#metrics {\"Metrics\": {\"training_binary_classification_cross_entropy\": {\"count\": 1, \"max\": 0.011849327047680875, \"sum\": 0.011849327047680875, \"min\": 0.011849327047680875}, \"validation_binary_classification_cross_entropy\": {\"count\": 1, \"max\": -Infinity, \"sum\": NaN, \"min\": Infinity}}, \"EndTime\": 1520935595.520431, \"Dimensions\": {\"model\": 20, \"Host\": \"algo-1\", \"Operation\": \"training\", \"Algorithm\": \"Linear Learner\", \"epoch\": 2}, \"StartTime\": 1520935595.520408}\n",
      "\u001b[0m\n",
      "\u001b[31m#metrics {\"Metrics\": {\"training_binary_classification_cross_entropy\": {\"count\": 1, \"max\": 0.011949613040320606, \"sum\": 0.011949613040320606, \"min\": 0.011949613040320606}, \"validation_binary_classification_cross_entropy\": {\"count\": 1, \"max\": -Infinity, \"sum\": NaN, \"min\": Infinity}}, \"EndTime\": 1520935595.520505, \"Dimensions\": {\"model\": 21, \"Host\": \"algo-1\", \"Operation\": \"training\", \"Algorithm\": \"Linear Learner\", \"epoch\": 2}, \"StartTime\": 1520935595.520483}\n",
      "\u001b[0m\n",
      "\u001b[31m#metrics {\"Metrics\": {\"training_binary_classification_cross_entropy\": {\"count\": 1, \"max\": 0.011849455941229102, \"sum\": 0.011849455941229102, \"min\": 0.011849455941229102}, \"validation_binary_classification_cross_entropy\": {\"count\": 1, \"max\": -Infinity, \"sum\": NaN, \"min\": Infinity}}, \"EndTime\": 1520935595.520563, \"Dimensions\": {\"model\": 22, \"Host\": \"algo-1\", \"Operation\": \"training\", \"Algorithm\": \"Linear Learner\", \"epoch\": 2}, \"StartTime\": 1520935595.52055}\n",
      "\u001b[0m\n",
      "\u001b[31m#metrics {\"Metrics\": {\"training_binary_classification_cross_entropy\": {\"count\": 1, \"max\": 0.011950119394494826, \"sum\": 0.011950119394494826, \"min\": 0.011950119394494826}, \"validation_binary_classification_cross_entropy\": {\"count\": 1, \"max\": -Infinity, \"sum\": NaN, \"min\": Infinity}}, \"EndTime\": 1520935595.520603, \"Dimensions\": {\"model\": 23, \"Host\": \"algo-1\", \"Operation\": \"training\", \"Algorithm\": \"Linear Learner\", \"epoch\": 2}, \"StartTime\": 1520935595.520587}\n",
      "\u001b[0m\n",
      "\u001b[31m#metrics {\"Metrics\": {\"training_binary_classification_cross_entropy\": {\"count\": 1, \"max\": 0.013074348761015629, \"sum\": 0.013074348761015629, \"min\": 0.013074348761015629}, \"validation_binary_classification_cross_entropy\": {\"count\": 1, \"max\": -Infinity, \"sum\": NaN, \"min\": Infinity}}, \"EndTime\": 1520935595.520649, \"Dimensions\": {\"model\": 24, \"Host\": \"algo-1\", \"Operation\": \"training\", \"Algorithm\": \"Linear Learner\", \"epoch\": 2}, \"StartTime\": 1520935595.520637}\n",
      "\u001b[0m\n",
      "\u001b[31m#metrics {\"Metrics\": {\"training_binary_classification_cross_entropy\": {\"count\": 1, \"max\": 0.01275176924230703, \"sum\": 0.01275176924230703, \"min\": 0.01275176924230703}, \"validation_binary_classification_cross_entropy\": {\"count\": 1, \"max\": -Infinity, \"sum\": NaN, \"min\": Infinity}}, \"EndTime\": 1520935595.520709, \"Dimensions\": {\"model\": 25, \"Host\": \"algo-1\", \"Operation\": \"training\", \"Algorithm\": \"Linear Learner\", \"epoch\": 2}, \"StartTime\": 1520935595.520689}\n",
      "\u001b[0m\n",
      "\u001b[31m#metrics {\"Metrics\": {\"training_binary_classification_cross_entropy\": {\"count\": 1, \"max\": 0.013074506374906345, \"sum\": 0.013074506374906345, \"min\": 0.013074506374906345}, \"validation_binary_classification_cross_entropy\": {\"count\": 1, \"max\": -Infinity, \"sum\": NaN, \"min\": Infinity}}, \"EndTime\": 1520935595.520786, \"Dimensions\": {\"model\": 26, \"Host\": \"algo-1\", \"Operation\": \"training\", \"Algorithm\": \"Linear Learner\", \"epoch\": 2}, \"StartTime\": 1520935595.520764}\n",
      "\u001b[0m\n",
      "\u001b[31m#metrics {\"Metrics\": {\"training_binary_classification_cross_entropy\": {\"count\": 1, \"max\": 0.01275279399591038, \"sum\": 0.01275279399591038, \"min\": 0.01275279399591038}, \"validation_binary_classification_cross_entropy\": {\"count\": 1, \"max\": -Infinity, \"sum\": NaN, \"min\": Infinity}}, \"EndTime\": 1520935595.520866, \"Dimensions\": {\"model\": 27, \"Host\": \"algo-1\", \"Operation\": \"training\", \"Algorithm\": \"Linear Learner\", \"epoch\": 2}, \"StartTime\": 1520935595.520842}\n",
      "\u001b[0m\n",
      "\u001b[31m#metrics {\"Metrics\": {\"training_binary_classification_cross_entropy\": {\"count\": 1, \"max\": 0.012768974799483296, \"sum\": 0.012768974799483296, \"min\": 0.012768974799483296}, \"validation_binary_classification_cross_entropy\": {\"count\": 1, \"max\": -Infinity, \"sum\": NaN, \"min\": Infinity}}, \"EndTime\": 1520935595.520938, \"Dimensions\": {\"model\": 28, \"Host\": \"algo-1\", \"Operation\": \"training\", \"Algorithm\": \"Linear Learner\", \"epoch\": 2}, \"StartTime\": 1520935595.520915}\n",
      "\u001b[0m\n",
      "\u001b[31m#metrics {\"Metrics\": {\"training_binary_classification_cross_entropy\": {\"count\": 1, \"max\": 0.012907124255076948, \"sum\": 0.012907124255076948, \"min\": 0.012907124255076948}, \"validation_binary_classification_cross_entropy\": {\"count\": 1, \"max\": -Infinity, \"sum\": NaN, \"min\": Infinity}}, \"EndTime\": 1520935595.52101, \"Dimensions\": {\"model\": 29, \"Host\": \"algo-1\", \"Operation\": \"training\", \"Algorithm\": \"Linear Learner\", \"epoch\": 2}, \"StartTime\": 1520935595.520986}\n",
      "\u001b[0m\n",
      "\u001b[31m#metrics {\"Metrics\": {\"training_binary_classification_cross_entropy\": {\"count\": 1, \"max\": 0.01276839598781433, \"sum\": 0.01276839598781433, \"min\": 0.01276839598781433}, \"validation_binary_classification_cross_entropy\": {\"count\": 1, \"max\": -Infinity, \"sum\": NaN, \"min\": Infinity}}, \"EndTime\": 1520935595.52108, \"Dimensions\": {\"model\": 30, \"Host\": \"algo-1\", \"Operation\": \"training\", \"Algorithm\": \"Linear Learner\", \"epoch\": 2}, \"StartTime\": 1520935595.521058}\n",
      "\u001b[0m\n",
      "\u001b[31m#metrics {\"Metrics\": {\"training_binary_classification_cross_entropy\": {\"count\": 1, \"max\": 0.01290260336623643, \"sum\": 0.01290260336623643, \"min\": 0.01290260336623643}, \"validation_binary_classification_cross_entropy\": {\"count\": 1, \"max\": -Infinity, \"sum\": NaN, \"min\": Infinity}}, \"EndTime\": 1520935595.521148, \"Dimensions\": {\"model\": 31, \"Host\": \"algo-1\", \"Operation\": \"training\", \"Algorithm\": \"Linear Learner\", \"epoch\": 2}, \"StartTime\": 1520935595.521126}\n",
      "\u001b[0m\n",
      "\u001b[31m[03/13/2018 10:06:35 INFO 139642387044160] Epoch 2: Loss improved.  Updating best model\u001b[0m\n",
      "\u001b[31m#metrics {\"Metrics\": {\"Max Batches Seen Between Resets\": {\"count\": 1, \"max\": 997, \"sum\": 997.0, \"min\": 997}, \"Number of Batches Since Last Reset\": {\"count\": 1, \"max\": 997, \"sum\": 997.0, \"min\": 997}, \"Number of Records Since Last Reset\": {\"count\": 1, \"max\": 199364, \"sum\": 199364.0, \"min\": 199364}, \"Total Batches Seen\": {\"count\": 1, \"max\": 2046, \"sum\": 2046.0, \"min\": 2046}, \"Total Records Seen\": {\"count\": 1, \"max\": 409128, \"sum\": 409128.0, \"min\": 409128}, \"Max Records Seen Between Resets\": {\"count\": 1, \"max\": 199364, \"sum\": 199364.0, \"min\": 199364}, \"Reset Count\": {\"count\": 1, \"max\": 4, \"sum\": 4.0, \"min\": 4}}, \"EndTime\": 1520935595.522579, \"Dimensions\": {\"Host\": \"algo-1\", \"Meta\": \"training_data_iter\", \"Operation\": \"training\", \"Algorithm\": \"Linear Learner\", \"epoch\": 1}, \"StartTime\": 1520935595.522522}\n",
      "\u001b[0m\n"
     ]
    },
    {
     "name": "stdout",
     "output_type": "stream",
     "text": [
      "\u001b[31m#metrics {\"Metrics\": {\"training_binary_classification_cross_entropy\": {\"count\": 1, \"max\": 0.0049351280024013365, \"sum\": 0.0049351280024013365, \"min\": 0.0049351280024013365}, \"validation_binary_classification_cross_entropy\": {\"count\": 1, \"max\": -Infinity, \"sum\": NaN, \"min\": Infinity}}, \"EndTime\": 1520935633.60766, \"Dimensions\": {\"model\": 0, \"Host\": \"algo-1\", \"Operation\": \"training\", \"Algorithm\": \"Linear Learner\", \"epoch\": 3}, \"StartTime\": 1520935633.607577}\n",
      "\u001b[0m\n",
      "\u001b[31m#metrics {\"Metrics\": {\"training_binary_classification_cross_entropy\": {\"count\": 1, \"max\": 0.004272033306152885, \"sum\": 0.004272033306152885, \"min\": 0.004272033306152885}, \"validation_binary_classification_cross_entropy\": {\"count\": 1, \"max\": -Infinity, \"sum\": NaN, \"min\": Infinity}}, \"EndTime\": 1520935633.607753, \"Dimensions\": {\"model\": 1, \"Host\": \"algo-1\", \"Operation\": \"training\", \"Algorithm\": \"Linear Learner\", \"epoch\": 3}, \"StartTime\": 1520935633.607729}\n",
      "\u001b[0m\n",
      "\u001b[31m#metrics {\"Metrics\": {\"training_binary_classification_cross_entropy\": {\"count\": 1, \"max\": 0.004935854248941902, \"sum\": 0.004935854248941902, \"min\": 0.004935854248941902}, \"validation_binary_classification_cross_entropy\": {\"count\": 1, \"max\": -Infinity, \"sum\": NaN, \"min\": Infinity}}, \"EndTime\": 1520935633.607864, \"Dimensions\": {\"model\": 2, \"Host\": \"algo-1\", \"Operation\": \"training\", \"Algorithm\": \"Linear Learner\", \"epoch\": 3}, \"StartTime\": 1520935633.607841}\n",
      "\u001b[0m\n",
      "\u001b[31m#metrics {\"Metrics\": {\"training_binary_classification_cross_entropy\": {\"count\": 1, \"max\": 0.004272103815163714, \"sum\": 0.004272103815163714, \"min\": 0.004272103815163714}, \"validation_binary_classification_cross_entropy\": {\"count\": 1, \"max\": -Infinity, \"sum\": NaN, \"min\": Infinity}}, \"EndTime\": 1520935633.60792, \"Dimensions\": {\"model\": 3, \"Host\": \"algo-1\", \"Operation\": \"training\", \"Algorithm\": \"Linear Learner\", \"epoch\": 3}, \"StartTime\": 1520935633.607899}\n",
      "\u001b[0m\n",
      "\u001b[31m#metrics {\"Metrics\": {\"training_binary_classification_cross_entropy\": {\"count\": 1, \"max\": 0.0044202055972832515, \"sum\": 0.0044202055972832515, \"min\": 0.0044202055972832515}, \"validation_binary_classification_cross_entropy\": {\"count\": 1, \"max\": -Infinity, \"sum\": NaN, \"min\": Infinity}}, \"EndTime\": 1520935633.607979, \"Dimensions\": {\"model\": 4, \"Host\": \"algo-1\", \"Operation\": \"training\", \"Algorithm\": \"Linear Learner\", \"epoch\": 3}, \"StartTime\": 1520935633.607961}\n",
      "\u001b[0m\n",
      "\u001b[31m#metrics {\"Metrics\": {\"training_binary_classification_cross_entropy\": {\"count\": 1, \"max\": 0.007794465139869357, \"sum\": 0.007794465139869357, \"min\": 0.007794465139869357}, \"validation_binary_classification_cross_entropy\": {\"count\": 1, \"max\": -Infinity, \"sum\": NaN, \"min\": Infinity}}, \"EndTime\": 1520935633.608036, \"Dimensions\": {\"model\": 5, \"Host\": \"algo-1\", \"Operation\": \"training\", \"Algorithm\": \"Linear Learner\", \"epoch\": 3}, \"StartTime\": 1520935633.608017}\n",
      "\u001b[0m\n",
      "\u001b[31m#metrics {\"Metrics\": {\"training_binary_classification_cross_entropy\": {\"count\": 1, \"max\": 0.004565744502974831, \"sum\": 0.004565744502974831, \"min\": 0.004565744502974831}, \"validation_binary_classification_cross_entropy\": {\"count\": 1, \"max\": -Infinity, \"sum\": NaN, \"min\": Infinity}}, \"EndTime\": 1520935633.608097, \"Dimensions\": {\"model\": 6, \"Host\": \"algo-1\", \"Operation\": \"training\", \"Algorithm\": \"Linear Learner\", \"epoch\": 3}, \"StartTime\": 1520935633.608076}\n",
      "\u001b[0m\n",
      "\u001b[31m#metrics {\"Metrics\": {\"training_binary_classification_cross_entropy\": {\"count\": 1, \"max\": 0.008612318923995804, \"sum\": 0.008612318923995804, \"min\": 0.008612318923995804}, \"validation_binary_classification_cross_entropy\": {\"count\": 1, \"max\": -Infinity, \"sum\": NaN, \"min\": Infinity}}, \"EndTime\": 1520935633.608163, \"Dimensions\": {\"model\": 7, \"Host\": \"algo-1\", \"Operation\": \"training\", \"Algorithm\": \"Linear Learner\", \"epoch\": 3}, \"StartTime\": 1520935633.608141}\n",
      "\u001b[0m\n",
      "\u001b[31m#metrics {\"Metrics\": {\"training_binary_classification_cross_entropy\": {\"count\": 1, \"max\": 0.005545444291638562, \"sum\": 0.005545444291638562, \"min\": 0.005545444291638562}, \"validation_binary_classification_cross_entropy\": {\"count\": 1, \"max\": -Infinity, \"sum\": NaN, \"min\": Infinity}}, \"EndTime\": 1520935633.608228, \"Dimensions\": {\"model\": 8, \"Host\": \"algo-1\", \"Operation\": \"training\", \"Algorithm\": \"Linear Learner\", \"epoch\": 3}, \"StartTime\": 1520935633.608207}\n",
      "\u001b[0m\n",
      "\u001b[31m#metrics {\"Metrics\": {\"training_binary_classification_cross_entropy\": {\"count\": 1, \"max\": 0.0050756078201484485, \"sum\": 0.0050756078201484485, \"min\": 0.0050756078201484485}, \"validation_binary_classification_cross_entropy\": {\"count\": 1, \"max\": -Infinity, \"sum\": NaN, \"min\": Infinity}}, \"EndTime\": 1520935633.608295, \"Dimensions\": {\"model\": 9, \"Host\": \"algo-1\", \"Operation\": \"training\", \"Algorithm\": \"Linear Learner\", \"epoch\": 3}, \"StartTime\": 1520935633.608273}\n",
      "\u001b[0m\n",
      "\u001b[31m#metrics {\"Metrics\": {\"training_binary_classification_cross_entropy\": {\"count\": 1, \"max\": 0.005544711826256959, \"sum\": 0.005544711826256959, \"min\": 0.005544711826256959}, \"validation_binary_classification_cross_entropy\": {\"count\": 1, \"max\": -Infinity, \"sum\": NaN, \"min\": Infinity}}, \"EndTime\": 1520935633.608364, \"Dimensions\": {\"model\": 10, \"Host\": \"algo-1\", \"Operation\": \"training\", \"Algorithm\": \"Linear Learner\", \"epoch\": 3}, \"StartTime\": 1520935633.608342}\n",
      "\u001b[0m\n",
      "\u001b[31m#metrics {\"Metrics\": {\"training_binary_classification_cross_entropy\": {\"count\": 1, \"max\": 0.005074913631376612, \"sum\": 0.005074913631376612, \"min\": 0.005074913631376612}, \"validation_binary_classification_cross_entropy\": {\"count\": 1, \"max\": -Infinity, \"sum\": NaN, \"min\": Infinity}}, \"EndTime\": 1520935633.608432, \"Dimensions\": {\"model\": 11, \"Host\": \"algo-1\", \"Operation\": \"training\", \"Algorithm\": \"Linear Learner\", \"epoch\": 3}, \"StartTime\": 1520935633.60841}\n",
      "\u001b[0m\n",
      "\u001b[31m#metrics {\"Metrics\": {\"training_binary_classification_cross_entropy\": {\"count\": 1, \"max\": 0.005148838016589782, \"sum\": 0.005148838016589782, \"min\": 0.005148838016589782}, \"validation_binary_classification_cross_entropy\": {\"count\": 1, \"max\": -Infinity, \"sum\": NaN, \"min\": Infinity}}, \"EndTime\": 1520935633.608498, \"Dimensions\": {\"model\": 12, \"Host\": \"algo-1\", \"Operation\": \"training\", \"Algorithm\": \"Linear Learner\", \"epoch\": 3}, \"StartTime\": 1520935633.608477}\n",
      "\u001b[0m\n",
      "\u001b[31m#metrics {\"Metrics\": {\"training_binary_classification_cross_entropy\": {\"count\": 1, \"max\": 0.007153346891562645, \"sum\": 0.007153346891562645, \"min\": 0.007153346891562645}, \"validation_binary_classification_cross_entropy\": {\"count\": 1, \"max\": -Infinity, \"sum\": NaN, \"min\": Infinity}}, \"EndTime\": 1520935633.608566, \"Dimensions\": {\"model\": 13, \"Host\": \"algo-1\", \"Operation\": \"training\", \"Algorithm\": \"Linear Learner\", \"epoch\": 3}, \"StartTime\": 1520935633.608544}\n",
      "\u001b[0m\n",
      "\u001b[31m#metrics {\"Metrics\": {\"training_binary_classification_cross_entropy\": {\"count\": 1, \"max\": 0.005148872248229971, \"sum\": 0.005148872248229971, \"min\": 0.005148872248229971}, \"validation_binary_classification_cross_entropy\": {\"count\": 1, \"max\": -Infinity, \"sum\": NaN, \"min\": Infinity}}, \"EndTime\": 1520935633.608663, \"Dimensions\": {\"model\": 14, \"Host\": \"algo-1\", \"Operation\": \"training\", \"Algorithm\": \"Linear Learner\", \"epoch\": 3}, \"StartTime\": 1520935633.608641}\n",
      "\u001b[0m\n",
      "\u001b[31m#metrics {\"Metrics\": {\"training_binary_classification_cross_entropy\": {\"count\": 1, \"max\": 0.007180838037523475, \"sum\": 0.007180838037523475, \"min\": 0.007180838037523475}, \"validation_binary_classification_cross_entropy\": {\"count\": 1, \"max\": -Infinity, \"sum\": NaN, \"min\": Infinity}}, \"EndTime\": 1520935633.608715, \"Dimensions\": {\"model\": 15, \"Host\": \"algo-1\", \"Operation\": \"training\", \"Algorithm\": \"Linear Learner\", \"epoch\": 3}, \"StartTime\": 1520935633.608695}\n",
      "\u001b[0m\n",
      "\u001b[31m#metrics {\"Metrics\": {\"training_binary_classification_cross_entropy\": {\"count\": 1, \"max\": 0.011892645097670546, \"sum\": 0.011892645097670546, \"min\": 0.011892645097670546}, \"validation_binary_classification_cross_entropy\": {\"count\": 1, \"max\": -Infinity, \"sum\": NaN, \"min\": Infinity}}, \"EndTime\": 1520935633.608773, \"Dimensions\": {\"model\": 16, \"Host\": \"algo-1\", \"Operation\": \"training\", \"Algorithm\": \"Linear Learner\", \"epoch\": 3}, \"StartTime\": 1520935633.608753}\n",
      "\u001b[0m\n",
      "\u001b[31m#metrics {\"Metrics\": {\"training_binary_classification_cross_entropy\": {\"count\": 1, \"max\": 0.011835506676310994, \"sum\": 0.011835506676310994, \"min\": 0.011835506676310994}, \"validation_binary_classification_cross_entropy\": {\"count\": 1, \"max\": -Infinity, \"sum\": NaN, \"min\": Infinity}}, \"EndTime\": 1520935633.608823, \"Dimensions\": {\"model\": 17, \"Host\": \"algo-1\", \"Operation\": \"training\", \"Algorithm\": \"Linear Learner\", \"epoch\": 3}, \"StartTime\": 1520935633.608804}\n",
      "\u001b[0m\n",
      "\u001b[31m#metrics {\"Metrics\": {\"training_binary_classification_cross_entropy\": {\"count\": 1, \"max\": 0.011892130361742763, \"sum\": 0.011892130361742763, \"min\": 0.011892130361742763}, \"validation_binary_classification_cross_entropy\": {\"count\": 1, \"max\": -Infinity, \"sum\": NaN, \"min\": Infinity}}, \"EndTime\": 1520935633.60888, \"Dimensions\": {\"model\": 18, \"Host\": \"algo-1\", \"Operation\": \"training\", \"Algorithm\": \"Linear Learner\", \"epoch\": 3}, \"StartTime\": 1520935633.608859}\n",
      "\u001b[0m\n",
      "\u001b[31m#metrics {\"Metrics\": {\"training_binary_classification_cross_entropy\": {\"count\": 1, \"max\": 0.01183551148193548, \"sum\": 0.01183551148193548, \"min\": 0.01183551148193548}, \"validation_binary_classification_cross_entropy\": {\"count\": 1, \"max\": -Infinity, \"sum\": NaN, \"min\": Infinity}}, \"EndTime\": 1520935633.608953, \"Dimensions\": {\"model\": 19, \"Host\": \"algo-1\", \"Operation\": \"training\", \"Algorithm\": \"Linear Learner\", \"epoch\": 3}, \"StartTime\": 1520935633.60893}\n",
      "\u001b[0m\n",
      "\u001b[31m#metrics {\"Metrics\": {\"training_binary_classification_cross_entropy\": {\"count\": 1, \"max\": 0.011886852898870606, \"sum\": 0.011886852898870606, \"min\": 0.011886852898870606}, \"validation_binary_classification_cross_entropy\": {\"count\": 1, \"max\": -Infinity, \"sum\": NaN, \"min\": Infinity}}, \"EndTime\": 1520935633.609025, \"Dimensions\": {\"model\": 20, \"Host\": \"algo-1\", \"Operation\": \"training\", \"Algorithm\": \"Linear Learner\", \"epoch\": 3}, \"StartTime\": 1520935633.609003}\n",
      "\u001b[0m\n",
      "\u001b[31m#metrics {\"Metrics\": {\"training_binary_classification_cross_entropy\": {\"count\": 1, \"max\": 0.012027238453345666, \"sum\": 0.012027238453345666, \"min\": 0.012027238453345666}, \"validation_binary_classification_cross_entropy\": {\"count\": 1, \"max\": -Infinity, \"sum\": NaN, \"min\": Infinity}}, \"EndTime\": 1520935633.609102, \"Dimensions\": {\"model\": 21, \"Host\": \"algo-1\", \"Operation\": \"training\", \"Algorithm\": \"Linear Learner\", \"epoch\": 3}, \"StartTime\": 1520935633.609078}\n",
      "\u001b[0m\n",
      "\u001b[31m#metrics {\"Metrics\": {\"training_binary_classification_cross_entropy\": {\"count\": 1, \"max\": 0.011887565559621557, \"sum\": 0.011887565559621557, \"min\": 0.011887565559621557}, \"validation_binary_classification_cross_entropy\": {\"count\": 1, \"max\": -Infinity, \"sum\": NaN, \"min\": Infinity}}, \"EndTime\": 1520935633.609178, \"Dimensions\": {\"model\": 22, \"Host\": \"algo-1\", \"Operation\": \"training\", \"Algorithm\": \"Linear Learner\", \"epoch\": 3}, \"StartTime\": 1520935633.609155}\n",
      "\u001b[0m\n",
      "\u001b[31m#metrics {\"Metrics\": {\"training_binary_classification_cross_entropy\": {\"count\": 1, \"max\": 0.012028014249688232, \"sum\": 0.012028014249688232, \"min\": 0.012028014249688232}, \"validation_binary_classification_cross_entropy\": {\"count\": 1, \"max\": -Infinity, \"sum\": NaN, \"min\": Infinity}}, \"EndTime\": 1520935633.609254, \"Dimensions\": {\"model\": 23, \"Host\": \"algo-1\", \"Operation\": \"training\", \"Algorithm\": \"Linear Learner\", \"epoch\": 3}, \"StartTime\": 1520935633.609231}\n",
      "\u001b[0m\n",
      "\u001b[31m#metrics {\"Metrics\": {\"training_binary_classification_cross_entropy\": {\"count\": 1, \"max\": 0.012809304200621494, \"sum\": 0.012809304200621494, \"min\": 0.012809304200621494}, \"validation_binary_classification_cross_entropy\": {\"count\": 1, \"max\": -Infinity, \"sum\": NaN, \"min\": Infinity}}, \"EndTime\": 1520935633.609323, \"Dimensions\": {\"model\": 24, \"Host\": \"algo-1\", \"Operation\": \"training\", \"Algorithm\": \"Linear Learner\", \"epoch\": 3}, \"StartTime\": 1520935633.609301}\n",
      "\u001b[0m\n",
      "\u001b[31m#metrics {\"Metrics\": {\"training_binary_classification_cross_entropy\": {\"count\": 1, \"max\": 0.012705335508598143, \"sum\": 0.012705335508598143, \"min\": 0.012705335508598143}, \"validation_binary_classification_cross_entropy\": {\"count\": 1, \"max\": -Infinity, \"sum\": NaN, \"min\": Infinity}}, \"EndTime\": 1520935633.609398, \"Dimensions\": {\"model\": 25, \"Host\": \"algo-1\", \"Operation\": \"training\", \"Algorithm\": \"Linear Learner\", \"epoch\": 3}, \"StartTime\": 1520935633.609375}\n",
      "\u001b[0m\n",
      "\u001b[31m#metrics {\"Metrics\": {\"training_binary_classification_cross_entropy\": {\"count\": 1, \"max\": 0.012809425595564297, \"sum\": 0.012809425595564297, \"min\": 0.012809425595564297}, \"validation_binary_classification_cross_entropy\": {\"count\": 1, \"max\": -Infinity, \"sum\": NaN, \"min\": Infinity}}, \"EndTime\": 1520935633.609475, \"Dimensions\": {\"model\": 26, \"Host\": \"algo-1\", \"Operation\": \"training\", \"Algorithm\": \"Linear Learner\", \"epoch\": 3}, \"StartTime\": 1520935633.609452}\n",
      "\u001b[0m\n",
      "\u001b[31m#metrics {\"Metrics\": {\"training_binary_classification_cross_entropy\": {\"count\": 1, \"max\": 0.01270543347804781, \"sum\": 0.01270543347804781, \"min\": 0.01270543347804781}, \"validation_binary_classification_cross_entropy\": {\"count\": 1, \"max\": -Infinity, \"sum\": NaN, \"min\": Infinity}}, \"EndTime\": 1520935633.609544, \"Dimensions\": {\"model\": 27, \"Host\": \"algo-1\", \"Operation\": \"training\", \"Algorithm\": \"Linear Learner\", \"epoch\": 3}, \"StartTime\": 1520935633.609523}\n",
      "\u001b[0m\n",
      "\u001b[31m#metrics {\"Metrics\": {\"training_binary_classification_cross_entropy\": {\"count\": 1, \"max\": 0.012745337937042177, \"sum\": 0.012745337937042177, \"min\": 0.012745337937042177}, \"validation_binary_classification_cross_entropy\": {\"count\": 1, \"max\": -Infinity, \"sum\": NaN, \"min\": Infinity}}, \"EndTime\": 1520935633.609618, \"Dimensions\": {\"model\": 28, \"Host\": \"algo-1\", \"Operation\": \"training\", \"Algorithm\": \"Linear Learner\", \"epoch\": 3}, \"StartTime\": 1520935633.609596}\n",
      "\u001b[0m\n",
      "\u001b[31m#metrics {\"Metrics\": {\"training_binary_classification_cross_entropy\": {\"count\": 1, \"max\": 0.013007542119402603, \"sum\": 0.013007542119402603, \"min\": 0.013007542119402603}, \"validation_binary_classification_cross_entropy\": {\"count\": 1, \"max\": -Infinity, \"sum\": NaN, \"min\": Infinity}}, \"EndTime\": 1520935633.609693, \"Dimensions\": {\"model\": 29, \"Host\": \"algo-1\", \"Operation\": \"training\", \"Algorithm\": \"Linear Learner\", \"epoch\": 3}, \"StartTime\": 1520935633.60967}\n",
      "\u001b[0m\n",
      "\u001b[31m#metrics {\"Metrics\": {\"training_binary_classification_cross_entropy\": {\"count\": 1, \"max\": 0.012743747416868746, \"sum\": 0.012743747416868746, \"min\": 0.012743747416868746}, \"validation_binary_classification_cross_entropy\": {\"count\": 1, \"max\": -Infinity, \"sum\": NaN, \"min\": Infinity}}, \"EndTime\": 1520935633.609768, \"Dimensions\": {\"model\": 30, \"Host\": \"algo-1\", \"Operation\": \"training\", \"Algorithm\": \"Linear Learner\", \"epoch\": 3}, \"StartTime\": 1520935633.609745}\n",
      "\u001b[0m\n",
      "\u001b[31m#metrics {\"Metrics\": {\"training_binary_classification_cross_entropy\": {\"count\": 1, \"max\": 0.013003461209526024, \"sum\": 0.013003461209526024, \"min\": 0.013003461209526024}, \"validation_binary_classification_cross_entropy\": {\"count\": 1, \"max\": -Infinity, \"sum\": NaN, \"min\": Infinity}}, \"EndTime\": 1520935633.60984, \"Dimensions\": {\"model\": 31, \"Host\": \"algo-1\", \"Operation\": \"training\", \"Algorithm\": \"Linear Learner\", \"epoch\": 3}, \"StartTime\": 1520935633.609819}\n",
      "\u001b[0m\n",
      "\u001b[31m[03/13/2018 10:07:13 INFO 139642387044160] Epoch 3: Loss improved.  Updating best model\u001b[0m\n",
      "\u001b[31m#metrics {\"Metrics\": {\"Max Batches Seen Between Resets\": {\"count\": 1, \"max\": 997, \"sum\": 997.0, \"min\": 997}, \"Number of Batches Since Last Reset\": {\"count\": 1, \"max\": 997, \"sum\": 997.0, \"min\": 997}, \"Number of Records Since Last Reset\": {\"count\": 1, \"max\": 199364, \"sum\": 199364.0, \"min\": 199364}, \"Total Batches Seen\": {\"count\": 1, \"max\": 3043, \"sum\": 3043.0, \"min\": 3043}, \"Total Records Seen\": {\"count\": 1, \"max\": 608492, \"sum\": 608492.0, \"min\": 608492}, \"Max Records Seen Between Resets\": {\"count\": 1, \"max\": 199364, \"sum\": 199364.0, \"min\": 199364}, \"Reset Count\": {\"count\": 1, \"max\": 5, \"sum\": 5.0, \"min\": 5}}, \"EndTime\": 1520935633.610999, \"Dimensions\": {\"Host\": \"algo-1\", \"Meta\": \"training_data_iter\", \"Operation\": \"training\", \"Algorithm\": \"Linear Learner\", \"epoch\": 2}, \"StartTime\": 1520935633.610962}\n",
      "\u001b[0m\n"
     ]
    },
    {
     "name": "stdout",
     "output_type": "stream",
     "text": [
      "\u001b[31m#metrics {\"Metrics\": {\"training_binary_classification_cross_entropy\": {\"count\": 1, \"max\": 0.0047066798815167095, \"sum\": 0.0047066798815167095, \"min\": 0.0047066798815167095}, \"validation_binary_classification_cross_entropy\": {\"count\": 1, \"max\": -Infinity, \"sum\": NaN, \"min\": Infinity}}, \"EndTime\": 1520935671.675466, \"Dimensions\": {\"model\": 0, \"Host\": \"algo-1\", \"Operation\": \"training\", \"Algorithm\": \"Linear Learner\", \"epoch\": 4}, \"StartTime\": 1520935671.675338}\n",
      "\u001b[0m\n",
      "\u001b[31m#metrics {\"Metrics\": {\"training_binary_classification_cross_entropy\": {\"count\": 1, \"max\": 0.004219565435413675, \"sum\": 0.004219565435413675, \"min\": 0.004219565435413675}, \"validation_binary_classification_cross_entropy\": {\"count\": 1, \"max\": -Infinity, \"sum\": NaN, \"min\": Infinity}}, \"EndTime\": 1520935671.675576, \"Dimensions\": {\"model\": 1, \"Host\": \"algo-1\", \"Operation\": \"training\", \"Algorithm\": \"Linear Learner\", \"epoch\": 4}, \"StartTime\": 1520935671.675553}\n",
      "\u001b[0m\n",
      "\u001b[31m#metrics {\"Metrics\": {\"training_binary_classification_cross_entropy\": {\"count\": 1, \"max\": 0.004706364447123794, \"sum\": 0.004706364447123794, \"min\": 0.004706364447123794}, \"validation_binary_classification_cross_entropy\": {\"count\": 1, \"max\": -Infinity, \"sum\": NaN, \"min\": Infinity}}, \"EndTime\": 1520935671.675646, \"Dimensions\": {\"model\": 2, \"Host\": \"algo-1\", \"Operation\": \"training\", \"Algorithm\": \"Linear Learner\", \"epoch\": 4}, \"StartTime\": 1520935671.675627}\n",
      "\u001b[0m\n",
      "\u001b[31m#metrics {\"Metrics\": {\"training_binary_classification_cross_entropy\": {\"count\": 1, \"max\": 0.004219576283788167, \"sum\": 0.004219576283788167, \"min\": 0.004219576283788167}, \"validation_binary_classification_cross_entropy\": {\"count\": 1, \"max\": -Infinity, \"sum\": NaN, \"min\": Infinity}}, \"EndTime\": 1520935671.67571, \"Dimensions\": {\"model\": 3, \"Host\": \"algo-1\", \"Operation\": \"training\", \"Algorithm\": \"Linear Learner\", \"epoch\": 4}, \"StartTime\": 1520935671.675692}\n",
      "\u001b[0m\n",
      "\u001b[31m#metrics {\"Metrics\": {\"training_binary_classification_cross_entropy\": {\"count\": 1, \"max\": 0.004176341185297623, \"sum\": 0.004176341185297623, \"min\": 0.004176341185297623}, \"validation_binary_classification_cross_entropy\": {\"count\": 1, \"max\": -Infinity, \"sum\": NaN, \"min\": Infinity}}, \"EndTime\": 1520935671.675769, \"Dimensions\": {\"model\": 4, \"Host\": \"algo-1\", \"Operation\": \"training\", \"Algorithm\": \"Linear Learner\", \"epoch\": 4}, \"StartTime\": 1520935671.675751}\n",
      "\u001b[0m\n",
      "\u001b[31m#metrics {\"Metrics\": {\"training_binary_classification_cross_entropy\": {\"count\": 1, \"max\": 0.007171034751823812, \"sum\": 0.007171034751823812, \"min\": 0.007171034751823812}, \"validation_binary_classification_cross_entropy\": {\"count\": 1, \"max\": -Infinity, \"sum\": NaN, \"min\": Infinity}}, \"EndTime\": 1520935671.675823, \"Dimensions\": {\"model\": 5, \"Host\": \"algo-1\", \"Operation\": \"training\", \"Algorithm\": \"Linear Learner\", \"epoch\": 4}, \"StartTime\": 1520935671.675806}\n",
      "\u001b[0m\n",
      "\u001b[31m#metrics {\"Metrics\": {\"training_binary_classification_cross_entropy\": {\"count\": 1, \"max\": 0.004113307054917586, \"sum\": 0.004113307054917586, \"min\": 0.004113307054917586}, \"validation_binary_classification_cross_entropy\": {\"count\": 1, \"max\": -Infinity, \"sum\": NaN, \"min\": Infinity}}, \"EndTime\": 1520935671.675877, \"Dimensions\": {\"model\": 6, \"Host\": \"algo-1\", \"Operation\": \"training\", \"Algorithm\": \"Linear Learner\", \"epoch\": 4}, \"StartTime\": 1520935671.67586}\n",
      "\u001b[0m\n",
      "\u001b[31m#metrics {\"Metrics\": {\"training_binary_classification_cross_entropy\": {\"count\": 1, \"max\": 0.007403552181039045, \"sum\": 0.007403552181039045, \"min\": 0.007403552181039045}, \"validation_binary_classification_cross_entropy\": {\"count\": 1, \"max\": -Infinity, \"sum\": NaN, \"min\": Infinity}}, \"EndTime\": 1520935671.67593, \"Dimensions\": {\"model\": 7, \"Host\": \"algo-1\", \"Operation\": \"training\", \"Algorithm\": \"Linear Learner\", \"epoch\": 4}, \"StartTime\": 1520935671.675913}\n",
      "\u001b[0m\n",
      "\u001b[31m#metrics {\"Metrics\": {\"training_binary_classification_cross_entropy\": {\"count\": 1, \"max\": 0.0053650349981514325, \"sum\": 0.0053650349981514325, \"min\": 0.0053650349981514325}, \"validation_binary_classification_cross_entropy\": {\"count\": 1, \"max\": -Infinity, \"sum\": NaN, \"min\": Infinity}}, \"EndTime\": 1520935671.67599, \"Dimensions\": {\"model\": 8, \"Host\": \"algo-1\", \"Operation\": \"training\", \"Algorithm\": \"Linear Learner\", \"epoch\": 4}, \"StartTime\": 1520935671.675972}\n",
      "\u001b[0m\n",
      "\u001b[31m#metrics {\"Metrics\": {\"training_binary_classification_cross_entropy\": {\"count\": 1, \"max\": 0.005026118016790554, \"sum\": 0.005026118016790554, \"min\": 0.005026118016790554}, \"validation_binary_classification_cross_entropy\": {\"count\": 1, \"max\": -Infinity, \"sum\": NaN, \"min\": Infinity}}, \"EndTime\": 1520935671.676051, \"Dimensions\": {\"model\": 9, \"Host\": \"algo-1\", \"Operation\": \"training\", \"Algorithm\": \"Linear Learner\", \"epoch\": 4}, \"StartTime\": 1520935671.676033}\n",
      "\u001b[0m\n",
      "\u001b[31m#metrics {\"Metrics\": {\"training_binary_classification_cross_entropy\": {\"count\": 1, \"max\": 0.005364482481346791, \"sum\": 0.005364482481346791, \"min\": 0.005364482481346791}, \"validation_binary_classification_cross_entropy\": {\"count\": 1, \"max\": -Infinity, \"sum\": NaN, \"min\": Infinity}}, \"EndTime\": 1520935671.676109, \"Dimensions\": {\"model\": 10, \"Host\": \"algo-1\", \"Operation\": \"training\", \"Algorithm\": \"Linear Learner\", \"epoch\": 4}, \"StartTime\": 1520935671.676091}\n",
      "\u001b[0m\n",
      "\u001b[31m#metrics {\"Metrics\": {\"training_binary_classification_cross_entropy\": {\"count\": 1, \"max\": 0.005025832397960515, \"sum\": 0.005025832397960515, \"min\": 0.005025832397960515}, \"validation_binary_classification_cross_entropy\": {\"count\": 1, \"max\": -Infinity, \"sum\": NaN, \"min\": Infinity}}, \"EndTime\": 1520935671.676163, \"Dimensions\": {\"model\": 11, \"Host\": \"algo-1\", \"Operation\": \"training\", \"Algorithm\": \"Linear Learner\", \"epoch\": 4}, \"StartTime\": 1520935671.676146}\n",
      "\u001b[0m\n",
      "\u001b[31m#metrics {\"Metrics\": {\"training_binary_classification_cross_entropy\": {\"count\": 1, \"max\": 0.005029672572770751, \"sum\": 0.005029672572770751, \"min\": 0.005029672572770751}, \"validation_binary_classification_cross_entropy\": {\"count\": 1, \"max\": -Infinity, \"sum\": NaN, \"min\": Infinity}}, \"EndTime\": 1520935671.676216, \"Dimensions\": {\"model\": 12, \"Host\": \"algo-1\", \"Operation\": \"training\", \"Algorithm\": \"Linear Learner\", \"epoch\": 4}, \"StartTime\": 1520935671.676199}\n",
      "\u001b[0m\n",
      "\u001b[31m#metrics {\"Metrics\": {\"training_binary_classification_cross_entropy\": {\"count\": 1, \"max\": 0.007021659353294926, \"sum\": 0.007021659353294926, \"min\": 0.007021659353294926}, \"validation_binary_classification_cross_entropy\": {\"count\": 1, \"max\": -Infinity, \"sum\": NaN, \"min\": Infinity}}, \"EndTime\": 1520935671.676268, \"Dimensions\": {\"model\": 13, \"Host\": \"algo-1\", \"Operation\": \"training\", \"Algorithm\": \"Linear Learner\", \"epoch\": 4}, \"StartTime\": 1520935671.676252}\n",
      "\u001b[0m\n",
      "\u001b[31m#metrics {\"Metrics\": {\"training_binary_classification_cross_entropy\": {\"count\": 1, \"max\": 0.0050295735341328454, \"sum\": 0.0050295735341328454, \"min\": 0.0050295735341328454}, \"validation_binary_classification_cross_entropy\": {\"count\": 1, \"max\": -Infinity, \"sum\": NaN, \"min\": Infinity}}, \"EndTime\": 1520935671.676321, \"Dimensions\": {\"model\": 14, \"Host\": \"algo-1\", \"Operation\": \"training\", \"Algorithm\": \"Linear Learner\", \"epoch\": 4}, \"StartTime\": 1520935671.676304}\n",
      "\u001b[0m\n",
      "\u001b[31m#metrics {\"Metrics\": {\"training_binary_classification_cross_entropy\": {\"count\": 1, \"max\": 0.007024515124449757, \"sum\": 0.007024515124449757, \"min\": 0.007024515124449757}, \"validation_binary_classification_cross_entropy\": {\"count\": 1, \"max\": -Infinity, \"sum\": NaN, \"min\": Infinity}}, \"EndTime\": 1520935671.676375, \"Dimensions\": {\"model\": 15, \"Host\": \"algo-1\", \"Operation\": \"training\", \"Algorithm\": \"Linear Learner\", \"epoch\": 4}, \"StartTime\": 1520935671.676358}\n",
      "\u001b[0m\n",
      "\u001b[31m#metrics {\"Metrics\": {\"training_binary_classification_cross_entropy\": {\"count\": 1, \"max\": 0.011823025378417298, \"sum\": 0.011823025378417298, \"min\": 0.011823025378417298}, \"validation_binary_classification_cross_entropy\": {\"count\": 1, \"max\": -Infinity, \"sum\": NaN, \"min\": Infinity}}, \"EndTime\": 1520935671.676433, \"Dimensions\": {\"model\": 16, \"Host\": \"algo-1\", \"Operation\": \"training\", \"Algorithm\": \"Linear Learner\", \"epoch\": 4}, \"StartTime\": 1520935671.676416}\n",
      "\u001b[0m\n",
      "\u001b[31m#metrics {\"Metrics\": {\"training_binary_classification_cross_entropy\": {\"count\": 1, \"max\": 0.011836684688506835, \"sum\": 0.011836684688506835, \"min\": 0.011836684688506835}, \"validation_binary_classification_cross_entropy\": {\"count\": 1, \"max\": -Infinity, \"sum\": NaN, \"min\": Infinity}}, \"EndTime\": 1520935671.676493, \"Dimensions\": {\"model\": 17, \"Host\": \"algo-1\", \"Operation\": \"training\", \"Algorithm\": \"Linear Learner\", \"epoch\": 4}, \"StartTime\": 1520935671.676476}\n",
      "\u001b[0m\n",
      "\u001b[31m#metrics {\"Metrics\": {\"training_binary_classification_cross_entropy\": {\"count\": 1, \"max\": 0.011822717457590812, \"sum\": 0.011822717457590812, \"min\": 0.011822717457590812}, \"validation_binary_classification_cross_entropy\": {\"count\": 1, \"max\": -Infinity, \"sum\": NaN, \"min\": Infinity}}, \"EndTime\": 1520935671.67655, \"Dimensions\": {\"model\": 18, \"Host\": \"algo-1\", \"Operation\": \"training\", \"Algorithm\": \"Linear Learner\", \"epoch\": 4}, \"StartTime\": 1520935671.676533}\n",
      "\u001b[0m\n",
      "\u001b[31m#metrics {\"Metrics\": {\"training_binary_classification_cross_entropy\": {\"count\": 1, \"max\": 0.011836674498266963, \"sum\": 0.011836674498266963, \"min\": 0.011836674498266963}, \"validation_binary_classification_cross_entropy\": {\"count\": 1, \"max\": -Infinity, \"sum\": NaN, \"min\": Infinity}}, \"EndTime\": 1520935671.67661, \"Dimensions\": {\"model\": 19, \"Host\": \"algo-1\", \"Operation\": \"training\", \"Algorithm\": \"Linear Learner\", \"epoch\": 4}, \"StartTime\": 1520935671.676593}\n",
      "\u001b[0m\n",
      "\u001b[31m#metrics {\"Metrics\": {\"training_binary_classification_cross_entropy\": {\"count\": 1, \"max\": 0.011847777896856208, \"sum\": 0.011847777896856208, \"min\": 0.011847777896856208}, \"validation_binary_classification_cross_entropy\": {\"count\": 1, \"max\": -Infinity, \"sum\": NaN, \"min\": Infinity}}, \"EndTime\": 1520935671.67667, \"Dimensions\": {\"model\": 20, \"Host\": \"algo-1\", \"Operation\": \"training\", \"Algorithm\": \"Linear Learner\", \"epoch\": 4}, \"StartTime\": 1520935671.676652}\n",
      "\u001b[0m\n",
      "\u001b[31m#metrics {\"Metrics\": {\"training_binary_classification_cross_entropy\": {\"count\": 1, \"max\": 0.012101646671464374, \"sum\": 0.012101646671464374, \"min\": 0.012101646671464374}, \"validation_binary_classification_cross_entropy\": {\"count\": 1, \"max\": -Infinity, \"sum\": NaN, \"min\": Infinity}}, \"EndTime\": 1520935671.676727, \"Dimensions\": {\"model\": 21, \"Host\": \"algo-1\", \"Operation\": \"training\", \"Algorithm\": \"Linear Learner\", \"epoch\": 4}, \"StartTime\": 1520935671.676709}\n",
      "\u001b[0m\n",
      "\u001b[31m#metrics {\"Metrics\": {\"training_binary_classification_cross_entropy\": {\"count\": 1, \"max\": 0.01184803616749235, \"sum\": 0.01184803616749235, \"min\": 0.01184803616749235}, \"validation_binary_classification_cross_entropy\": {\"count\": 1, \"max\": -Infinity, \"sum\": NaN, \"min\": Infinity}}, \"EndTime\": 1520935671.676786, \"Dimensions\": {\"model\": 22, \"Host\": \"algo-1\", \"Operation\": \"training\", \"Algorithm\": \"Linear Learner\", \"epoch\": 4}, \"StartTime\": 1520935671.676769}\n",
      "\u001b[0m\n",
      "\u001b[31m#metrics {\"Metrics\": {\"training_binary_classification_cross_entropy\": {\"count\": 1, \"max\": 0.012102348698232039, \"sum\": 0.012102348698232039, \"min\": 0.012102348698232039}, \"validation_binary_classification_cross_entropy\": {\"count\": 1, \"max\": -Infinity, \"sum\": NaN, \"min\": Infinity}}, \"EndTime\": 1520935671.676846, \"Dimensions\": {\"model\": 23, \"Host\": \"algo-1\", \"Operation\": \"training\", \"Algorithm\": \"Linear Learner\", \"epoch\": 4}, \"StartTime\": 1520935671.676828}\n",
      "\u001b[0m\n",
      "\u001b[31m#metrics {\"Metrics\": {\"training_binary_classification_cross_entropy\": {\"count\": 1, \"max\": 0.012757100952287994, \"sum\": 0.012757100952287994, \"min\": 0.012757100952287994}, \"validation_binary_classification_cross_entropy\": {\"count\": 1, \"max\": -Infinity, \"sum\": NaN, \"min\": Infinity}}, \"EndTime\": 1520935671.676902, \"Dimensions\": {\"model\": 24, \"Host\": \"algo-1\", \"Operation\": \"training\", \"Algorithm\": \"Linear Learner\", \"epoch\": 4}, \"StartTime\": 1520935671.676885}\n",
      "\u001b[0m\n",
      "\u001b[31m#metrics {\"Metrics\": {\"training_binary_classification_cross_entropy\": {\"count\": 1, \"max\": 0.012708294433223674, \"sum\": 0.012708294433223674, \"min\": 0.012708294433223674}, \"validation_binary_classification_cross_entropy\": {\"count\": 1, \"max\": -Infinity, \"sum\": NaN, \"min\": Infinity}}, \"EndTime\": 1520935671.676956, \"Dimensions\": {\"model\": 25, \"Host\": \"algo-1\", \"Operation\": \"training\", \"Algorithm\": \"Linear Learner\", \"epoch\": 4}, \"StartTime\": 1520935671.676939}\n",
      "\u001b[0m\n",
      "\u001b[31m#metrics {\"Metrics\": {\"training_binary_classification_cross_entropy\": {\"count\": 1, \"max\": 0.012756788369911502, \"sum\": 0.012756788369911502, \"min\": 0.012756788369911502}, \"validation_binary_classification_cross_entropy\": {\"count\": 1, \"max\": -Infinity, \"sum\": NaN, \"min\": Infinity}}, \"EndTime\": 1520935671.677015, \"Dimensions\": {\"model\": 26, \"Host\": \"algo-1\", \"Operation\": \"training\", \"Algorithm\": \"Linear Learner\", \"epoch\": 4}, \"StartTime\": 1520935671.676998}\n",
      "\u001b[0m\n",
      "\u001b[31m#metrics {\"Metrics\": {\"training_binary_classification_cross_entropy\": {\"count\": 1, \"max\": 0.01270806401175069, \"sum\": 0.01270806401175069, \"min\": 0.01270806401175069}, \"validation_binary_classification_cross_entropy\": {\"count\": 1, \"max\": -Infinity, \"sum\": NaN, \"min\": Infinity}}, \"EndTime\": 1520935671.677072, \"Dimensions\": {\"model\": 27, \"Host\": \"algo-1\", \"Operation\": \"training\", \"Algorithm\": \"Linear Learner\", \"epoch\": 4}, \"StartTime\": 1520935671.677055}\n",
      "\u001b[0m\n",
      "\u001b[31m#metrics {\"Metrics\": {\"training_binary_classification_cross_entropy\": {\"count\": 1, \"max\": 0.012723198213042264, \"sum\": 0.012723198213042264, \"min\": 0.012723198213042264}, \"validation_binary_classification_cross_entropy\": {\"count\": 1, \"max\": -Infinity, \"sum\": NaN, \"min\": Infinity}}, \"EndTime\": 1520935671.677127, \"Dimensions\": {\"model\": 28, \"Host\": \"algo-1\", \"Operation\": \"training\", \"Algorithm\": \"Linear Learner\", \"epoch\": 4}, \"StartTime\": 1520935671.67711}\n",
      "\u001b[0m\n",
      "\u001b[31m#metrics {\"Metrics\": {\"training_binary_classification_cross_entropy\": {\"count\": 1, \"max\": 0.013092452142982328, \"sum\": 0.013092452142982328, \"min\": 0.013092452142982328}, \"validation_binary_classification_cross_entropy\": {\"count\": 1, \"max\": -Infinity, \"sum\": NaN, \"min\": Infinity}}, \"EndTime\": 1520935671.677183, \"Dimensions\": {\"model\": 29, \"Host\": \"algo-1\", \"Operation\": \"training\", \"Algorithm\": \"Linear Learner\", \"epoch\": 4}, \"StartTime\": 1520935671.677166}\n",
      "\u001b[0m\n",
      "\u001b[31m#metrics {\"Metrics\": {\"training_binary_classification_cross_entropy\": {\"count\": 1, \"max\": 0.012723153411863319, \"sum\": 0.012723153411863319, \"min\": 0.012723153411863319}, \"validation_binary_classification_cross_entropy\": {\"count\": 1, \"max\": -Infinity, \"sum\": NaN, \"min\": Infinity}}, \"EndTime\": 1520935671.677238, \"Dimensions\": {\"model\": 30, \"Host\": \"algo-1\", \"Operation\": \"training\", \"Algorithm\": \"Linear Learner\", \"epoch\": 4}, \"StartTime\": 1520935671.677222}\n",
      "\u001b[0m\n",
      "\u001b[31m#metrics {\"Metrics\": {\"training_binary_classification_cross_entropy\": {\"count\": 1, \"max\": 0.01308869569287467, \"sum\": 0.01308869569287467, \"min\": 0.01308869569287467}, \"validation_binary_classification_cross_entropy\": {\"count\": 1, \"max\": -Infinity, \"sum\": NaN, \"min\": Infinity}}, \"EndTime\": 1520935671.677294, \"Dimensions\": {\"model\": 31, \"Host\": \"algo-1\", \"Operation\": \"training\", \"Algorithm\": \"Linear Learner\", \"epoch\": 4}, \"StartTime\": 1520935671.677277}\n",
      "\u001b[0m\n",
      "\u001b[31m[03/13/2018 10:07:51 INFO 139642387044160] Epoch 4: Loss improved.  Updating best model\u001b[0m\n",
      "\u001b[31m#metrics {\"Metrics\": {\"Max Batches Seen Between Resets\": {\"count\": 1, \"max\": 997, \"sum\": 997.0, \"min\": 997}, \"Number of Batches Since Last Reset\": {\"count\": 1, \"max\": 997, \"sum\": 997.0, \"min\": 997}, \"Number of Records Since Last Reset\": {\"count\": 1, \"max\": 199364, \"sum\": 199364.0, \"min\": 199364}, \"Total Batches Seen\": {\"count\": 1, \"max\": 4040, \"sum\": 4040.0, \"min\": 4040}, \"Total Records Seen\": {\"count\": 1, \"max\": 807856, \"sum\": 807856.0, \"min\": 807856}, \"Max Records Seen Between Resets\": {\"count\": 1, \"max\": 199364, \"sum\": 199364.0, \"min\": 199364}, \"Reset Count\": {\"count\": 1, \"max\": 6, \"sum\": 6.0, \"min\": 6}}, \"EndTime\": 1520935671.678398, \"Dimensions\": {\"Host\": \"algo-1\", \"Meta\": \"training_data_iter\", \"Operation\": \"training\", \"Algorithm\": \"Linear Learner\", \"epoch\": 3}, \"StartTime\": 1520935671.678344}\n",
      "\u001b[0m\n"
     ]
    },
    {
     "name": "stdout",
     "output_type": "stream",
     "text": [
      "\u001b[31m#metrics {\"Metrics\": {\"training_binary_classification_cross_entropy\": {\"count\": 1, \"max\": 0.004611711336905698, \"sum\": 0.004611711336905698, \"min\": 0.004611711336905698}, \"validation_binary_classification_cross_entropy\": {\"count\": 1, \"max\": -Infinity, \"sum\": NaN, \"min\": Infinity}}, \"EndTime\": 1520935709.738447, \"Dimensions\": {\"model\": 0, \"Host\": \"algo-1\", \"Operation\": \"training\", \"Algorithm\": \"Linear Learner\", \"epoch\": 5}, \"StartTime\": 1520935709.738363}\n",
      "\u001b[0m\n",
      "\u001b[31m#metrics {\"Metrics\": {\"training_binary_classification_cross_entropy\": {\"count\": 1, \"max\": 0.0041053236841811355, \"sum\": 0.0041053236841811355, \"min\": 0.0041053236841811355}, \"validation_binary_classification_cross_entropy\": {\"count\": 1, \"max\": -Infinity, \"sum\": NaN, \"min\": Infinity}}, \"EndTime\": 1520935709.738542, \"Dimensions\": {\"model\": 1, \"Host\": \"algo-1\", \"Operation\": \"training\", \"Algorithm\": \"Linear Learner\", \"epoch\": 5}, \"StartTime\": 1520935709.738518}\n",
      "\u001b[0m\n",
      "\u001b[31m#metrics {\"Metrics\": {\"training_binary_classification_cross_entropy\": {\"count\": 1, \"max\": 0.004597923562648785, \"sum\": 0.004597923562648785, \"min\": 0.004597923562648785}, \"validation_binary_classification_cross_entropy\": {\"count\": 1, \"max\": -Infinity, \"sum\": NaN, \"min\": Infinity}}, \"EndTime\": 1520935709.738621, \"Dimensions\": {\"model\": 2, \"Host\": \"algo-1\", \"Operation\": \"training\", \"Algorithm\": \"Linear Learner\", \"epoch\": 5}, \"StartTime\": 1520935709.738598}\n",
      "\u001b[0m\n",
      "\u001b[31m#metrics {\"Metrics\": {\"training_binary_classification_cross_entropy\": {\"count\": 1, \"max\": 0.004105155163942032, \"sum\": 0.004105155163942032, \"min\": 0.004105155163942032}, \"validation_binary_classification_cross_entropy\": {\"count\": 1, \"max\": -Infinity, \"sum\": NaN, \"min\": Infinity}}, \"EndTime\": 1520935709.738672, \"Dimensions\": {\"model\": 3, \"Host\": \"algo-1\", \"Operation\": \"training\", \"Algorithm\": \"Linear Learner\", \"epoch\": 5}, \"StartTime\": 1520935709.738657}\n",
      "\u001b[0m\n",
      "\u001b[31m#metrics {\"Metrics\": {\"training_binary_classification_cross_entropy\": {\"count\": 1, \"max\": 0.003976653361838894, \"sum\": 0.003976653361838894, \"min\": 0.003976653361838894}, \"validation_binary_classification_cross_entropy\": {\"count\": 1, \"max\": -Infinity, \"sum\": NaN, \"min\": Infinity}}, \"EndTime\": 1520935709.738726, \"Dimensions\": {\"model\": 4, \"Host\": \"algo-1\", \"Operation\": \"training\", \"Algorithm\": \"Linear Learner\", \"epoch\": 5}, \"StartTime\": 1520935709.73871}\n",
      "\u001b[0m\n",
      "\u001b[31m#metrics {\"Metrics\": {\"training_binary_classification_cross_entropy\": {\"count\": 1, \"max\": 0.007876232851404532, \"sum\": 0.007876232851404532, \"min\": 0.007876232851404532}, \"validation_binary_classification_cross_entropy\": {\"count\": 1, \"max\": -Infinity, \"sum\": NaN, \"min\": Infinity}}, \"EndTime\": 1520935709.738816, \"Dimensions\": {\"model\": 5, \"Host\": \"algo-1\", \"Operation\": \"training\", \"Algorithm\": \"Linear Learner\", \"epoch\": 5}, \"StartTime\": 1520935709.738794}\n",
      "\u001b[0m\n",
      "\u001b[31m#metrics {\"Metrics\": {\"training_binary_classification_cross_entropy\": {\"count\": 1, \"max\": 0.003935665231044722, \"sum\": 0.003935665231044722, \"min\": 0.003935665231044722}, \"validation_binary_classification_cross_entropy\": {\"count\": 1, \"max\": -Infinity, \"sum\": NaN, \"min\": Infinity}}, \"EndTime\": 1520935709.738869, \"Dimensions\": {\"model\": 6, \"Host\": \"algo-1\", \"Operation\": \"training\", \"Algorithm\": \"Linear Learner\", \"epoch\": 5}, \"StartTime\": 1520935709.738851}\n",
      "\u001b[0m\n",
      "\u001b[31m#metrics {\"Metrics\": {\"training_binary_classification_cross_entropy\": {\"count\": 1, \"max\": 0.006609595590171705, \"sum\": 0.006609595590171705, \"min\": 0.006609595590171705}, \"validation_binary_classification_cross_entropy\": {\"count\": 1, \"max\": -Infinity, \"sum\": NaN, \"min\": Infinity}}, \"EndTime\": 1520935709.738927, \"Dimensions\": {\"model\": 7, \"Host\": \"algo-1\", \"Operation\": \"training\", \"Algorithm\": \"Linear Learner\", \"epoch\": 5}, \"StartTime\": 1520935709.738908}\n",
      "\u001b[0m\n",
      "\u001b[31m#metrics {\"Metrics\": {\"training_binary_classification_cross_entropy\": {\"count\": 1, \"max\": 0.005293916314092266, \"sum\": 0.005293916314092266, \"min\": 0.005293916314092266}, \"validation_binary_classification_cross_entropy\": {\"count\": 1, \"max\": -Infinity, \"sum\": NaN, \"min\": Infinity}}, \"EndTime\": 1520935709.73899, \"Dimensions\": {\"model\": 8, \"Host\": \"algo-1\", \"Operation\": \"training\", \"Algorithm\": \"Linear Learner\", \"epoch\": 5}, \"StartTime\": 1520935709.738969}\n",
      "\u001b[0m\n",
      "\u001b[31m#metrics {\"Metrics\": {\"training_binary_classification_cross_entropy\": {\"count\": 1, \"max\": 0.005014482119820084, \"sum\": 0.005014482119820084, \"min\": 0.005014482119820084}, \"validation_binary_classification_cross_entropy\": {\"count\": 1, \"max\": -Infinity, \"sum\": NaN, \"min\": Infinity}}, \"EndTime\": 1520935709.739053, \"Dimensions\": {\"model\": 9, \"Host\": \"algo-1\", \"Operation\": \"training\", \"Algorithm\": \"Linear Learner\", \"epoch\": 5}, \"StartTime\": 1520935709.739032}\n",
      "\u001b[0m\n",
      "\u001b[31m#metrics {\"Metrics\": {\"training_binary_classification_cross_entropy\": {\"count\": 1, \"max\": 0.00528608185205474, \"sum\": 0.00528608185205474, \"min\": 0.00528608185205474}, \"validation_binary_classification_cross_entropy\": {\"count\": 1, \"max\": -Infinity, \"sum\": NaN, \"min\": Infinity}}, \"EndTime\": 1520935709.739115, \"Dimensions\": {\"model\": 10, \"Host\": \"algo-1\", \"Operation\": \"training\", \"Algorithm\": \"Linear Learner\", \"epoch\": 5}, \"StartTime\": 1520935709.739094}\n",
      "\u001b[0m\n",
      "\u001b[31m#metrics {\"Metrics\": {\"training_binary_classification_cross_entropy\": {\"count\": 1, \"max\": 0.005014375496850195, \"sum\": 0.005014375496850195, \"min\": 0.005014375496850195}, \"validation_binary_classification_cross_entropy\": {\"count\": 1, \"max\": -Infinity, \"sum\": NaN, \"min\": Infinity}}, \"EndTime\": 1520935709.739182, \"Dimensions\": {\"model\": 11, \"Host\": \"algo-1\", \"Operation\": \"training\", \"Algorithm\": \"Linear Learner\", \"epoch\": 5}, \"StartTime\": 1520935709.73916}\n",
      "\u001b[0m\n",
      "\u001b[31m#metrics {\"Metrics\": {\"training_binary_classification_cross_entropy\": {\"count\": 1, \"max\": 0.004961481075060655, \"sum\": 0.004961481075060655, \"min\": 0.004961481075060655}, \"validation_binary_classification_cross_entropy\": {\"count\": 1, \"max\": -Infinity, \"sum\": NaN, \"min\": Infinity}}, \"EndTime\": 1520935709.739252, \"Dimensions\": {\"model\": 12, \"Host\": \"algo-1\", \"Operation\": \"training\", \"Algorithm\": \"Linear Learner\", \"epoch\": 5}, \"StartTime\": 1520935709.73923}\n",
      "\u001b[0m\n",
      "\u001b[31m#metrics {\"Metrics\": {\"training_binary_classification_cross_entropy\": {\"count\": 1, \"max\": 0.006869400203925554, \"sum\": 0.006869400203925554, \"min\": 0.006869400203925554}, \"validation_binary_classification_cross_entropy\": {\"count\": 1, \"max\": -Infinity, \"sum\": NaN, \"min\": Infinity}}, \"EndTime\": 1520935709.739319, \"Dimensions\": {\"model\": 13, \"Host\": \"algo-1\", \"Operation\": \"training\", \"Algorithm\": \"Linear Learner\", \"epoch\": 5}, \"StartTime\": 1520935709.739297}\n",
      "\u001b[0m\n",
      "\u001b[31m#metrics {\"Metrics\": {\"training_binary_classification_cross_entropy\": {\"count\": 1, \"max\": 0.0049614495638174464, \"sum\": 0.0049614495638174464, \"min\": 0.0049614495638174464}, \"validation_binary_classification_cross_entropy\": {\"count\": 1, \"max\": -Infinity, \"sum\": NaN, \"min\": Infinity}}, \"EndTime\": 1520935709.739386, \"Dimensions\": {\"model\": 14, \"Host\": \"algo-1\", \"Operation\": \"training\", \"Algorithm\": \"Linear Learner\", \"epoch\": 5}, \"StartTime\": 1520935709.739364}\n",
      "\u001b[0m\n",
      "\u001b[31m#metrics {\"Metrics\": {\"training_binary_classification_cross_entropy\": {\"count\": 1, \"max\": 0.006865837064681081, \"sum\": 0.006865837064681081, \"min\": 0.006865837064681081}, \"validation_binary_classification_cross_entropy\": {\"count\": 1, \"max\": -Infinity, \"sum\": NaN, \"min\": Infinity}}, \"EndTime\": 1520935709.739461, \"Dimensions\": {\"model\": 15, \"Host\": \"algo-1\", \"Operation\": \"training\", \"Algorithm\": \"Linear Learner\", \"epoch\": 5}, \"StartTime\": 1520935709.739438}\n",
      "\u001b[0m\n",
      "\u001b[31m#metrics {\"Metrics\": {\"training_binary_classification_cross_entropy\": {\"count\": 1, \"max\": 0.011805669935233142, \"sum\": 0.011805669935233142, \"min\": 0.011805669935233142}, \"validation_binary_classification_cross_entropy\": {\"count\": 1, \"max\": -Infinity, \"sum\": NaN, \"min\": Infinity}}, \"EndTime\": 1520935709.739515, \"Dimensions\": {\"model\": 16, \"Host\": \"algo-1\", \"Operation\": \"training\", \"Algorithm\": \"Linear Learner\", \"epoch\": 5}, \"StartTime\": 1520935709.739495}\n",
      "\u001b[0m\n",
      "\u001b[31m#metrics {\"Metrics\": {\"training_binary_classification_cross_entropy\": {\"count\": 1, \"max\": 0.011839254112038986, \"sum\": 0.011839254112038986, \"min\": 0.011839254112038986}, \"validation_binary_classification_cross_entropy\": {\"count\": 1, \"max\": -Infinity, \"sum\": NaN, \"min\": Infinity}}, \"EndTime\": 1520935709.739579, \"Dimensions\": {\"model\": 17, \"Host\": \"algo-1\", \"Operation\": \"training\", \"Algorithm\": \"Linear Learner\", \"epoch\": 5}, \"StartTime\": 1520935709.739558}\n",
      "\u001b[0m\n",
      "\u001b[31m#metrics {\"Metrics\": {\"training_binary_classification_cross_entropy\": {\"count\": 1, \"max\": 0.011803128637642745, \"sum\": 0.011803128637642745, \"min\": 0.011803128637642745}, \"validation_binary_classification_cross_entropy\": {\"count\": 1, \"max\": -Infinity, \"sum\": NaN, \"min\": Infinity}}, \"EndTime\": 1520935709.739646, \"Dimensions\": {\"model\": 18, \"Host\": \"algo-1\", \"Operation\": \"training\", \"Algorithm\": \"Linear Learner\", \"epoch\": 5}, \"StartTime\": 1520935709.739624}\n",
      "\u001b[0m\n",
      "\u001b[31m#metrics {\"Metrics\": {\"training_binary_classification_cross_entropy\": {\"count\": 1, \"max\": 0.011839242469833557, \"sum\": 0.011839242469833557, \"min\": 0.011839242469833557}, \"validation_binary_classification_cross_entropy\": {\"count\": 1, \"max\": -Infinity, \"sum\": NaN, \"min\": Infinity}}, \"EndTime\": 1520935709.739714, \"Dimensions\": {\"model\": 19, \"Host\": \"algo-1\", \"Operation\": \"training\", \"Algorithm\": \"Linear Learner\", \"epoch\": 5}, \"StartTime\": 1520935709.739692}\n",
      "\u001b[0m\n",
      "\u001b[31m#metrics {\"Metrics\": {\"training_binary_classification_cross_entropy\": {\"count\": 1, \"max\": 0.0118292998060225, \"sum\": 0.0118292998060225, \"min\": 0.0118292998060225}, \"validation_binary_classification_cross_entropy\": {\"count\": 1, \"max\": -Infinity, \"sum\": NaN, \"min\": Infinity}}, \"EndTime\": 1520935709.739781, \"Dimensions\": {\"model\": 20, \"Host\": \"algo-1\", \"Operation\": \"training\", \"Algorithm\": \"Linear Learner\", \"epoch\": 5}, \"StartTime\": 1520935709.739759}\n",
      "\u001b[0m\n",
      "\u001b[31m#metrics {\"Metrics\": {\"training_binary_classification_cross_entropy\": {\"count\": 1, \"max\": 0.01215635249077017, \"sum\": 0.01215635249077017, \"min\": 0.01215635249077017}, \"validation_binary_classification_cross_entropy\": {\"count\": 1, \"max\": -Infinity, \"sum\": NaN, \"min\": Infinity}}, \"EndTime\": 1520935709.739853, \"Dimensions\": {\"model\": 21, \"Host\": \"algo-1\", \"Operation\": \"training\", \"Algorithm\": \"Linear Learner\", \"epoch\": 5}, \"StartTime\": 1520935709.739831}\n",
      "\u001b[0m\n",
      "\u001b[31m#metrics {\"Metrics\": {\"training_binary_classification_cross_entropy\": {\"count\": 1, \"max\": 0.011829381193890869, \"sum\": 0.011829381193890869, \"min\": 0.011829381193890869}, \"validation_binary_classification_cross_entropy\": {\"count\": 1, \"max\": -Infinity, \"sum\": NaN, \"min\": Infinity}}, \"EndTime\": 1520935709.739906, \"Dimensions\": {\"model\": 22, \"Host\": \"algo-1\", \"Operation\": \"training\", \"Algorithm\": \"Linear Learner\", \"epoch\": 5}, \"StartTime\": 1520935709.739886}\n",
      "\u001b[0m\n",
      "\u001b[31m#metrics {\"Metrics\": {\"training_binary_classification_cross_entropy\": {\"count\": 1, \"max\": 0.012156713432351867, \"sum\": 0.012156713432351867, \"min\": 0.012156713432351867}, \"validation_binary_classification_cross_entropy\": {\"count\": 1, \"max\": -Infinity, \"sum\": NaN, \"min\": Infinity}}, \"EndTime\": 1520935709.739974, \"Dimensions\": {\"model\": 23, \"Host\": \"algo-1\", \"Operation\": \"training\", \"Algorithm\": \"Linear Learner\", \"epoch\": 5}, \"StartTime\": 1520935709.739952}\n",
      "\u001b[0m\n",
      "\u001b[31m#metrics {\"Metrics\": {\"training_binary_classification_cross_entropy\": {\"count\": 1, \"max\": 0.012739559562211056, \"sum\": 0.012739559562211056, \"min\": 0.012739559562211056}, \"validation_binary_classification_cross_entropy\": {\"count\": 1, \"max\": -Infinity, \"sum\": NaN, \"min\": Infinity}}, \"EndTime\": 1520935709.740043, \"Dimensions\": {\"model\": 24, \"Host\": \"algo-1\", \"Operation\": \"training\", \"Algorithm\": \"Linear Learner\", \"epoch\": 5}, \"StartTime\": 1520935709.74002}\n",
      "\u001b[0m\n",
      "\u001b[31m#metrics {\"Metrics\": {\"training_binary_classification_cross_entropy\": {\"count\": 1, \"max\": 0.012712230465737691, \"sum\": 0.012712230465737691, \"min\": 0.012712230465737691}, \"validation_binary_classification_cross_entropy\": {\"count\": 1, \"max\": -Infinity, \"sum\": NaN, \"min\": Infinity}}, \"EndTime\": 1520935709.740111, \"Dimensions\": {\"model\": 25, \"Host\": \"algo-1\", \"Operation\": \"training\", \"Algorithm\": \"Linear Learner\", \"epoch\": 5}, \"StartTime\": 1520935709.74009}\n",
      "\u001b[0m\n",
      "\u001b[31m#metrics {\"Metrics\": {\"training_binary_classification_cross_entropy\": {\"count\": 1, \"max\": 0.012737001888453961, \"sum\": 0.012737001888453961, \"min\": 0.012737001888453961}, \"validation_binary_classification_cross_entropy\": {\"count\": 1, \"max\": -Infinity, \"sum\": NaN, \"min\": Infinity}}, \"EndTime\": 1520935709.740175, \"Dimensions\": {\"model\": 26, \"Host\": \"algo-1\", \"Operation\": \"training\", \"Algorithm\": \"Linear Learner\", \"epoch\": 5}, \"StartTime\": 1520935709.740159}\n",
      "\u001b[0m\n",
      "\u001b[31m#metrics {\"Metrics\": {\"training_binary_classification_cross_entropy\": {\"count\": 1, \"max\": 0.012712316856715812, \"sum\": 0.012712316856715812, \"min\": 0.012712316856715812}, \"validation_binary_classification_cross_entropy\": {\"count\": 1, \"max\": -Infinity, \"sum\": NaN, \"min\": Infinity}}, \"EndTime\": 1520935709.740231, \"Dimensions\": {\"model\": 27, \"Host\": \"algo-1\", \"Operation\": \"training\", \"Algorithm\": \"Linear Learner\", \"epoch\": 5}, \"StartTime\": 1520935709.740215}\n",
      "\u001b[0m\n",
      "\u001b[31m#metrics {\"Metrics\": {\"training_binary_classification_cross_entropy\": {\"count\": 1, \"max\": 0.012713815661887807, \"sum\": 0.012713815661887807, \"min\": 0.012713815661887807}, \"validation_binary_classification_cross_entropy\": {\"count\": 1, \"max\": -Infinity, \"sum\": NaN, \"min\": Infinity}}, \"EndTime\": 1520935709.740295, \"Dimensions\": {\"model\": 28, \"Host\": \"algo-1\", \"Operation\": \"training\", \"Algorithm\": \"Linear Learner\", \"epoch\": 5}, \"StartTime\": 1520935709.740275}\n",
      "\u001b[0m\n",
      "\u001b[31m#metrics {\"Metrics\": {\"training_binary_classification_cross_entropy\": {\"count\": 1, \"max\": 0.013131031471241011, \"sum\": 0.013131031471241011, \"min\": 0.013131031471241011}, \"validation_binary_classification_cross_entropy\": {\"count\": 1, \"max\": -Infinity, \"sum\": NaN, \"min\": Infinity}}, \"EndTime\": 1520935709.740361, \"Dimensions\": {\"model\": 29, \"Host\": \"algo-1\", \"Operation\": \"training\", \"Algorithm\": \"Linear Learner\", \"epoch\": 5}, \"StartTime\": 1520935709.74034}\n",
      "\u001b[0m\n",
      "\u001b[31m#metrics {\"Metrics\": {\"training_binary_classification_cross_entropy\": {\"count\": 1, \"max\": 0.012713467098742604, \"sum\": 0.012713467098742604, \"min\": 0.012713467098742604}, \"validation_binary_classification_cross_entropy\": {\"count\": 1, \"max\": -Infinity, \"sum\": NaN, \"min\": Infinity}}, \"EndTime\": 1520935709.740432, \"Dimensions\": {\"model\": 30, \"Host\": \"algo-1\", \"Operation\": \"training\", \"Algorithm\": \"Linear Learner\", \"epoch\": 5}, \"StartTime\": 1520935709.74041}\n",
      "\u001b[0m\n",
      "\u001b[31m#metrics {\"Metrics\": {\"training_binary_classification_cross_entropy\": {\"count\": 1, \"max\": 0.013128724242869136, \"sum\": 0.013128724242869136, \"min\": 0.013128724242869136}, \"validation_binary_classification_cross_entropy\": {\"count\": 1, \"max\": -Infinity, \"sum\": NaN, \"min\": Infinity}}, \"EndTime\": 1520935709.740506, \"Dimensions\": {\"model\": 31, \"Host\": \"algo-1\", \"Operation\": \"training\", \"Algorithm\": \"Linear Learner\", \"epoch\": 5}, \"StartTime\": 1520935709.740485}\n",
      "\u001b[0m\n",
      "\u001b[31m[03/13/2018 10:08:29 INFO 139642387044160] Epoch 5: Loss improved.  Updating best model\u001b[0m\n",
      "\u001b[31m#metrics {\"Metrics\": {\"Max Batches Seen Between Resets\": {\"count\": 1, \"max\": 997, \"sum\": 997.0, \"min\": 997}, \"Number of Batches Since Last Reset\": {\"count\": 1, \"max\": 997, \"sum\": 997.0, \"min\": 997}, \"Number of Records Since Last Reset\": {\"count\": 1, \"max\": 199364, \"sum\": 199364.0, \"min\": 199364}, \"Total Batches Seen\": {\"count\": 1, \"max\": 5037, \"sum\": 5037.0, \"min\": 5037}, \"Total Records Seen\": {\"count\": 1, \"max\": 1007220, \"sum\": 1007220.0, \"min\": 1007220}, \"Max Records Seen Between Resets\": {\"count\": 1, \"max\": 199364, \"sum\": 199364.0, \"min\": 199364}, \"Reset Count\": {\"count\": 1, \"max\": 7, \"sum\": 7.0, \"min\": 7}}, \"EndTime\": 1520935709.741693, \"Dimensions\": {\"Host\": \"algo-1\", \"Meta\": \"training_data_iter\", \"Operation\": \"training\", \"Algorithm\": \"Linear Learner\", \"epoch\": 4}, \"StartTime\": 1520935709.741645}\n",
      "\u001b[0m\n"
     ]
    },
    {
     "name": "stdout",
     "output_type": "stream",
     "text": [
      "\u001b[31m#metrics {\"Metrics\": {\"training_binary_classification_cross_entropy\": {\"count\": 1, \"max\": 0.004567882297149145, \"sum\": 0.004567882297149145, \"min\": 0.004567882297149145}, \"validation_binary_classification_cross_entropy\": {\"count\": 1, \"max\": -Infinity, \"sum\": NaN, \"min\": Infinity}}, \"EndTime\": 1520935747.893205, \"Dimensions\": {\"model\": 0, \"Host\": \"algo-1\", \"Operation\": \"training\", \"Algorithm\": \"Linear Learner\", \"epoch\": 6}, \"StartTime\": 1520935747.893123}\n",
      "\u001b[0m\n",
      "\u001b[31m#metrics {\"Metrics\": {\"training_binary_classification_cross_entropy\": {\"count\": 1, \"max\": 0.004108989604124163, \"sum\": 0.004108989604124163, \"min\": 0.004108989604124163}, \"validation_binary_classification_cross_entropy\": {\"count\": 1, \"max\": -Infinity, \"sum\": NaN, \"min\": Infinity}}, \"EndTime\": 1520935747.893306, \"Dimensions\": {\"model\": 1, \"Host\": \"algo-1\", \"Operation\": \"training\", \"Algorithm\": \"Linear Learner\", \"epoch\": 6}, \"StartTime\": 1520935747.893272}\n",
      "\u001b[0m\n",
      "\u001b[31m#metrics {\"Metrics\": {\"training_binary_classification_cross_entropy\": {\"count\": 1, \"max\": 0.004496083196521883, \"sum\": 0.004496083196521883, \"min\": 0.004496083196521883}, \"validation_binary_classification_cross_entropy\": {\"count\": 1, \"max\": -Infinity, \"sum\": NaN, \"min\": Infinity}}, \"EndTime\": 1520935747.89338, \"Dimensions\": {\"model\": 2, \"Host\": \"algo-1\", \"Operation\": \"training\", \"Algorithm\": \"Linear Learner\", \"epoch\": 6}, \"StartTime\": 1520935747.893358}\n",
      "\u001b[0m\n",
      "\u001b[31m#metrics {\"Metrics\": {\"training_binary_classification_cross_entropy\": {\"count\": 1, \"max\": 0.004109521880671083, \"sum\": 0.004109521880671083, \"min\": 0.004109521880671083}, \"validation_binary_classification_cross_entropy\": {\"count\": 1, \"max\": -Infinity, \"sum\": NaN, \"min\": Infinity}}, \"EndTime\": 1520935747.893436, \"Dimensions\": {\"model\": 3, \"Host\": \"algo-1\", \"Operation\": \"training\", \"Algorithm\": \"Linear Learner\", \"epoch\": 6}, \"StartTime\": 1520935747.893416}\n",
      "\u001b[0m\n",
      "\u001b[31m#metrics {\"Metrics\": {\"training_binary_classification_cross_entropy\": {\"count\": 1, \"max\": 0.003910596923992397, \"sum\": 0.003910596923992397, \"min\": 0.003910596923992397}, \"validation_binary_classification_cross_entropy\": {\"count\": 1, \"max\": -Infinity, \"sum\": NaN, \"min\": Infinity}}, \"EndTime\": 1520935747.89353, \"Dimensions\": {\"model\": 4, \"Host\": \"algo-1\", \"Operation\": \"training\", \"Algorithm\": \"Linear Learner\", \"epoch\": 6}, \"StartTime\": 1520935747.89347}\n",
      "\u001b[0m\n",
      "\u001b[31m#metrics {\"Metrics\": {\"training_binary_classification_cross_entropy\": {\"count\": 1, \"max\": 0.0063861206774861665, \"sum\": 0.0063861206774861665, \"min\": 0.0063861206774861665}, \"validation_binary_classification_cross_entropy\": {\"count\": 1, \"max\": -Infinity, \"sum\": NaN, \"min\": Infinity}}, \"EndTime\": 1520935747.893607, \"Dimensions\": {\"model\": 5, \"Host\": \"algo-1\", \"Operation\": \"training\", \"Algorithm\": \"Linear Learner\", \"epoch\": 6}, \"StartTime\": 1520935747.893584}\n",
      "\u001b[0m\n",
      "\u001b[31m#metrics {\"Metrics\": {\"training_binary_classification_cross_entropy\": {\"count\": 1, \"max\": 0.0038892724012851297, \"sum\": 0.0038892724012851297, \"min\": 0.0038892724012851297}, \"validation_binary_classification_cross_entropy\": {\"count\": 1, \"max\": -Infinity, \"sum\": NaN, \"min\": Infinity}}, \"EndTime\": 1520935747.893677, \"Dimensions\": {\"model\": 6, \"Host\": \"algo-1\", \"Operation\": \"training\", \"Algorithm\": \"Linear Learner\", \"epoch\": 6}, \"StartTime\": 1520935747.893655}\n",
      "\u001b[0m\n",
      "\u001b[31m#metrics {\"Metrics\": {\"training_binary_classification_cross_entropy\": {\"count\": 1, \"max\": 0.007738234744593869, \"sum\": 0.007738234744593869, \"min\": 0.007738234744593869}, \"validation_binary_classification_cross_entropy\": {\"count\": 1, \"max\": -Infinity, \"sum\": NaN, \"min\": Infinity}}, \"EndTime\": 1520935747.893746, \"Dimensions\": {\"model\": 7, \"Host\": \"algo-1\", \"Operation\": \"training\", \"Algorithm\": \"Linear Learner\", \"epoch\": 6}, \"StartTime\": 1520935747.893723}\n",
      "\u001b[0m\n",
      "\u001b[31m#metrics {\"Metrics\": {\"training_binary_classification_cross_entropy\": {\"count\": 1, \"max\": 0.005262416164020458, \"sum\": 0.005262416164020458, \"min\": 0.005262416164020458}, \"validation_binary_classification_cross_entropy\": {\"count\": 1, \"max\": -Infinity, \"sum\": NaN, \"min\": Infinity}}, \"EndTime\": 1520935747.893809, \"Dimensions\": {\"model\": 8, \"Host\": \"algo-1\", \"Operation\": \"training\", \"Algorithm\": \"Linear Learner\", \"epoch\": 6}, \"StartTime\": 1520935747.893789}\n",
      "\u001b[0m\n",
      "\u001b[31m#metrics {\"Metrics\": {\"training_binary_classification_cross_entropy\": {\"count\": 1, \"max\": 0.005009080017187509, \"sum\": 0.005009080017187509, \"min\": 0.005009080017187509}, \"validation_binary_classification_cross_entropy\": {\"count\": 1, \"max\": -Infinity, \"sum\": NaN, \"min\": Infinity}}, \"EndTime\": 1520935747.893876, \"Dimensions\": {\"model\": 9, \"Host\": \"algo-1\", \"Operation\": \"training\", \"Algorithm\": \"Linear Learner\", \"epoch\": 6}, \"StartTime\": 1520935747.893855}\n",
      "\u001b[0m\n",
      "\u001b[31m#metrics {\"Metrics\": {\"training_binary_classification_cross_entropy\": {\"count\": 1, \"max\": 0.005213723326453483, \"sum\": 0.005213723326453483, \"min\": 0.005213723326453483}, \"validation_binary_classification_cross_entropy\": {\"count\": 1, \"max\": -Infinity, \"sum\": NaN, \"min\": Infinity}}, \"EndTime\": 1520935747.89394, \"Dimensions\": {\"model\": 10, \"Host\": \"algo-1\", \"Operation\": \"training\", \"Algorithm\": \"Linear Learner\", \"epoch\": 6}, \"StartTime\": 1520935747.893918}\n",
      "\u001b[0m\n",
      "\u001b[31m#metrics {\"Metrics\": {\"training_binary_classification_cross_entropy\": {\"count\": 1, \"max\": 0.005009045735914186, \"sum\": 0.005009045735914186, \"min\": 0.005009045735914186}, \"validation_binary_classification_cross_entropy\": {\"count\": 1, \"max\": -Infinity, \"sum\": NaN, \"min\": Infinity}}, \"EndTime\": 1520935747.893992, \"Dimensions\": {\"model\": 11, \"Host\": \"algo-1\", \"Operation\": \"training\", \"Algorithm\": \"Linear Learner\", \"epoch\": 6}, \"StartTime\": 1520935747.893972}\n",
      "\u001b[0m\n",
      "\u001b[31m#metrics {\"Metrics\": {\"training_binary_classification_cross_entropy\": {\"count\": 1, \"max\": 0.004925963872048749, \"sum\": 0.004925963872048749, \"min\": 0.004925963872048749}, \"validation_binary_classification_cross_entropy\": {\"count\": 1, \"max\": -Infinity, \"sum\": NaN, \"min\": Infinity}}, \"EndTime\": 1520935747.894045, \"Dimensions\": {\"model\": 12, \"Host\": \"algo-1\", \"Operation\": \"training\", \"Algorithm\": \"Linear Learner\", \"epoch\": 6}, \"StartTime\": 1520935747.894026}\n",
      "\u001b[0m\n",
      "\u001b[31m#metrics {\"Metrics\": {\"training_binary_classification_cross_entropy\": {\"count\": 1, \"max\": 0.006781071410121688, \"sum\": 0.006781071410121688, \"min\": 0.006781071410121688}, \"validation_binary_classification_cross_entropy\": {\"count\": 1, \"max\": -Infinity, \"sum\": NaN, \"min\": Infinity}}, \"EndTime\": 1520935747.894097, \"Dimensions\": {\"model\": 13, \"Host\": \"algo-1\", \"Operation\": \"training\", \"Algorithm\": \"Linear Learner\", \"epoch\": 6}, \"StartTime\": 1520935747.894077}\n",
      "\u001b[0m\n",
      "\u001b[31m#metrics {\"Metrics\": {\"training_binary_classification_cross_entropy\": {\"count\": 1, \"max\": 0.004925954096976773, \"sum\": 0.004925954096976773, \"min\": 0.004925954096976773}, \"validation_binary_classification_cross_entropy\": {\"count\": 1, \"max\": -Infinity, \"sum\": NaN, \"min\": Infinity}}, \"EndTime\": 1520935747.894165, \"Dimensions\": {\"model\": 14, \"Host\": \"algo-1\", \"Operation\": \"training\", \"Algorithm\": \"Linear Learner\", \"epoch\": 6}, \"StartTime\": 1520935747.894147}\n",
      "\u001b[0m\n",
      "\u001b[31m#metrics {\"Metrics\": {\"training_binary_classification_cross_entropy\": {\"count\": 1, \"max\": 0.0067824655376168075, \"sum\": 0.0067824655376168075, \"min\": 0.0067824655376168075}, \"validation_binary_classification_cross_entropy\": {\"count\": 1, \"max\": -Infinity, \"sum\": NaN, \"min\": Infinity}}, \"EndTime\": 1520935747.894229, \"Dimensions\": {\"model\": 15, \"Host\": \"algo-1\", \"Operation\": \"training\", \"Algorithm\": \"Linear Learner\", \"epoch\": 6}, \"StartTime\": 1520935747.894208}\n",
      "\u001b[0m\n",
      "\u001b[31m#metrics {\"Metrics\": {\"training_binary_classification_cross_entropy\": {\"count\": 1, \"max\": 0.011795597379376372, \"sum\": 0.011795597379376372, \"min\": 0.011795597379376372}, \"validation_binary_classification_cross_entropy\": {\"count\": 1, \"max\": -Infinity, \"sum\": NaN, \"min\": Infinity}}, \"EndTime\": 1520935747.894283, \"Dimensions\": {\"model\": 16, \"Host\": \"algo-1\", \"Operation\": \"training\", \"Algorithm\": \"Linear Learner\", \"epoch\": 6}, \"StartTime\": 1520935747.894263}\n",
      "\u001b[0m\n",
      "\u001b[31m#metrics {\"Metrics\": {\"training_binary_classification_cross_entropy\": {\"count\": 1, \"max\": 0.011842862434804919, \"sum\": 0.011842862434804919, \"min\": 0.011842862434804919}, \"validation_binary_classification_cross_entropy\": {\"count\": 1, \"max\": -Infinity, \"sum\": NaN, \"min\": Infinity}}, \"EndTime\": 1520935747.894348, \"Dimensions\": {\"model\": 17, \"Host\": \"algo-1\", \"Operation\": \"training\", \"Algorithm\": \"Linear Learner\", \"epoch\": 6}, \"StartTime\": 1520935747.894327}\n",
      "\u001b[0m\n",
      "\u001b[31m#metrics {\"Metrics\": {\"training_binary_classification_cross_entropy\": {\"count\": 1, \"max\": 0.011787788653559235, \"sum\": 0.011787788653559235, \"min\": 0.011787788653559235}, \"validation_binary_classification_cross_entropy\": {\"count\": 1, \"max\": -Infinity, \"sum\": NaN, \"min\": Infinity}}, \"EndTime\": 1520935747.894421, \"Dimensions\": {\"model\": 18, \"Host\": \"algo-1\", \"Operation\": \"training\", \"Algorithm\": \"Linear Learner\", \"epoch\": 6}, \"StartTime\": 1520935747.8944}\n",
      "\u001b[0m\n",
      "\u001b[31m#metrics {\"Metrics\": {\"training_binary_classification_cross_entropy\": {\"count\": 1, \"max\": 0.01184285222466691, \"sum\": 0.01184285222466691, \"min\": 0.01184285222466691}, \"validation_binary_classification_cross_entropy\": {\"count\": 1, \"max\": -Infinity, \"sum\": NaN, \"min\": Infinity}}, \"EndTime\": 1520935747.894483, \"Dimensions\": {\"model\": 19, \"Host\": \"algo-1\", \"Operation\": \"training\", \"Algorithm\": \"Linear Learner\", \"epoch\": 6}, \"StartTime\": 1520935747.894463}\n",
      "\u001b[0m\n",
      "\u001b[31m#metrics {\"Metrics\": {\"training_binary_classification_cross_entropy\": {\"count\": 1, \"max\": 0.011788364326259697, \"sum\": 0.011788364326259697, \"min\": 0.011788364326259697}, \"validation_binary_classification_cross_entropy\": {\"count\": 1, \"max\": -Infinity, \"sum\": NaN, \"min\": Infinity}}, \"EndTime\": 1520935747.89455, \"Dimensions\": {\"model\": 20, \"Host\": \"algo-1\", \"Operation\": \"training\", \"Algorithm\": \"Linear Learner\", \"epoch\": 6}, \"StartTime\": 1520935747.894528}\n",
      "\u001b[0m\n",
      "\u001b[31m#metrics {\"Metrics\": {\"training_binary_classification_cross_entropy\": {\"count\": 1, \"max\": 0.012187641194037884, \"sum\": 0.012187641194037884, \"min\": 0.012187641194037884}, \"validation_binary_classification_cross_entropy\": {\"count\": 1, \"max\": -Infinity, \"sum\": NaN, \"min\": Infinity}}, \"EndTime\": 1520935747.894616, \"Dimensions\": {\"model\": 21, \"Host\": \"algo-1\", \"Operation\": \"training\", \"Algorithm\": \"Linear Learner\", \"epoch\": 6}, \"StartTime\": 1520935747.894595}\n",
      "\u001b[0m\n",
      "\u001b[31m#metrics {\"Metrics\": {\"training_binary_classification_cross_entropy\": {\"count\": 1, \"max\": 0.011788384220506772, \"sum\": 0.011788384220506772, \"min\": 0.011788384220506772}, \"validation_binary_classification_cross_entropy\": {\"count\": 1, \"max\": -Infinity, \"sum\": NaN, \"min\": Infinity}}, \"EndTime\": 1520935747.894695, \"Dimensions\": {\"model\": 22, \"Host\": \"algo-1\", \"Operation\": \"training\", \"Algorithm\": \"Linear Learner\", \"epoch\": 6}, \"StartTime\": 1520935747.894672}\n",
      "\u001b[0m\n",
      "\u001b[31m#metrics {\"Metrics\": {\"training_binary_classification_cross_entropy\": {\"count\": 1, \"max\": 0.01218779655917731, \"sum\": 0.01218779655917731, \"min\": 0.01218779655917731}, \"validation_binary_classification_cross_entropy\": {\"count\": 1, \"max\": -Infinity, \"sum\": NaN, \"min\": Infinity}}, \"EndTime\": 1520935747.894769, \"Dimensions\": {\"model\": 23, \"Host\": \"algo-1\", \"Operation\": \"training\", \"Algorithm\": \"Linear Learner\", \"epoch\": 6}, \"StartTime\": 1520935747.894733}\n",
      "\u001b[0m\n",
      "\u001b[31m#metrics {\"Metrics\": {\"training_binary_classification_cross_entropy\": {\"count\": 1, \"max\": 0.012732437036512606, \"sum\": 0.012732437036512606, \"min\": 0.012732437036512606}, \"validation_binary_classification_cross_entropy\": {\"count\": 1, \"max\": -Infinity, \"sum\": NaN, \"min\": Infinity}}, \"EndTime\": 1520935747.89484, \"Dimensions\": {\"model\": 24, \"Host\": \"algo-1\", \"Operation\": \"training\", \"Algorithm\": \"Linear Learner\", \"epoch\": 6}, \"StartTime\": 1520935747.894821}\n",
      "\u001b[0m\n",
      "\u001b[31m#metrics {\"Metrics\": {\"training_binary_classification_cross_entropy\": {\"count\": 1, \"max\": 0.012717095234966183, \"sum\": 0.012717095234966183, \"min\": 0.012717095234966183}, \"validation_binary_classification_cross_entropy\": {\"count\": 1, \"max\": -Infinity, \"sum\": NaN, \"min\": Infinity}}, \"EndTime\": 1520935747.894898, \"Dimensions\": {\"model\": 25, \"Host\": \"algo-1\", \"Operation\": \"training\", \"Algorithm\": \"Linear Learner\", \"epoch\": 6}, \"StartTime\": 1520935747.894879}\n",
      "\u001b[0m\n",
      "\u001b[31m#metrics {\"Metrics\": {\"training_binary_classification_cross_entropy\": {\"count\": 1, \"max\": 0.012721729587359601, \"sum\": 0.012721729587359601, \"min\": 0.012721729587359601}, \"validation_binary_classification_cross_entropy\": {\"count\": 1, \"max\": -Infinity, \"sum\": NaN, \"min\": Infinity}}, \"EndTime\": 1520935747.894963, \"Dimensions\": {\"model\": 26, \"Host\": \"algo-1\", \"Operation\": \"training\", \"Algorithm\": \"Linear Learner\", \"epoch\": 6}, \"StartTime\": 1520935747.89494}\n",
      "\u001b[0m\n",
      "\u001b[31m#metrics {\"Metrics\": {\"training_binary_classification_cross_entropy\": {\"count\": 1, \"max\": 0.012716884811120818, \"sum\": 0.012716884811120818, \"min\": 0.012716884811120818}, \"validation_binary_classification_cross_entropy\": {\"count\": 1, \"max\": -Infinity, \"sum\": NaN, \"min\": Infinity}}, \"EndTime\": 1520935747.895029, \"Dimensions\": {\"model\": 27, \"Host\": \"algo-1\", \"Operation\": \"training\", \"Algorithm\": \"Linear Learner\", \"epoch\": 6}, \"StartTime\": 1520935747.895007}\n",
      "\u001b[0m\n",
      "\u001b[31m#metrics {\"Metrics\": {\"training_binary_classification_cross_entropy\": {\"count\": 1, \"max\": 0.012706778089714097, \"sum\": 0.012706778089714097, \"min\": 0.012706778089714097}, \"validation_binary_classification_cross_entropy\": {\"count\": 1, \"max\": -Infinity, \"sum\": NaN, \"min\": Infinity}}, \"EndTime\": 1520935747.895106, \"Dimensions\": {\"model\": 28, \"Host\": \"algo-1\", \"Operation\": \"training\", \"Algorithm\": \"Linear Learner\", \"epoch\": 6}, \"StartTime\": 1520935747.895083}\n",
      "\u001b[0m\n",
      "\u001b[31m#metrics {\"Metrics\": {\"training_binary_classification_cross_entropy\": {\"count\": 1, \"max\": 0.01312382613607948, \"sum\": 0.01312382613607948, \"min\": 0.01312382613607948}, \"validation_binary_classification_cross_entropy\": {\"count\": 1, \"max\": -Infinity, \"sum\": NaN, \"min\": Infinity}}, \"EndTime\": 1520935747.895161, \"Dimensions\": {\"model\": 29, \"Host\": \"algo-1\", \"Operation\": \"training\", \"Algorithm\": \"Linear Learner\", \"epoch\": 6}, \"StartTime\": 1520935747.895146}\n",
      "\u001b[0m\n",
      "\u001b[31m#metrics {\"Metrics\": {\"training_binary_classification_cross_entropy\": {\"count\": 1, \"max\": 0.012706586411260217, \"sum\": 0.012706586411260217, \"min\": 0.012706586411260217}, \"validation_binary_classification_cross_entropy\": {\"count\": 1, \"max\": -Infinity, \"sum\": NaN, \"min\": Infinity}}, \"EndTime\": 1520935747.895216, \"Dimensions\": {\"model\": 30, \"Host\": \"algo-1\", \"Operation\": \"training\", \"Algorithm\": \"Linear Learner\", \"epoch\": 6}, \"StartTime\": 1520935747.895199}\n",
      "\u001b[0m\n",
      "\u001b[31m#metrics {\"Metrics\": {\"training_binary_classification_cross_entropy\": {\"count\": 1, \"max\": 0.013123198056230733, \"sum\": 0.013123198056230733, \"min\": 0.013123198056230733}, \"validation_binary_classification_cross_entropy\": {\"count\": 1, \"max\": -Infinity, \"sum\": NaN, \"min\": Infinity}}, \"EndTime\": 1520935747.895281, \"Dimensions\": {\"model\": 31, \"Host\": \"algo-1\", \"Operation\": \"training\", \"Algorithm\": \"Linear Learner\", \"epoch\": 6}, \"StartTime\": 1520935747.89526}\n",
      "\u001b[0m\n",
      "\u001b[31m[03/13/2018 10:09:07 INFO 139642387044160] Epoch 6: Loss improved.  Updating best model\u001b[0m\n",
      "\u001b[31m#metrics {\"Metrics\": {\"Max Batches Seen Between Resets\": {\"count\": 1, \"max\": 997, \"sum\": 997.0, \"min\": 997}, \"Number of Batches Since Last Reset\": {\"count\": 1, \"max\": 997, \"sum\": 997.0, \"min\": 997}, \"Number of Records Since Last Reset\": {\"count\": 1, \"max\": 199364, \"sum\": 199364.0, \"min\": 199364}, \"Total Batches Seen\": {\"count\": 1, \"max\": 6034, \"sum\": 6034.0, \"min\": 6034}, \"Total Records Seen\": {\"count\": 1, \"max\": 1206584, \"sum\": 1206584.0, \"min\": 1206584}, \"Max Records Seen Between Resets\": {\"count\": 1, \"max\": 199364, \"sum\": 199364.0, \"min\": 199364}, \"Reset Count\": {\"count\": 1, \"max\": 8, \"sum\": 8.0, \"min\": 8}}, \"EndTime\": 1520935747.89643, \"Dimensions\": {\"Host\": \"algo-1\", \"Meta\": \"training_data_iter\", \"Operation\": \"training\", \"Algorithm\": \"Linear Learner\", \"epoch\": 5}, \"StartTime\": 1520935747.896395}\n",
      "\u001b[0m\n"
     ]
    },
    {
     "name": "stdout",
     "output_type": "stream",
     "text": [
      "\u001b[31m#metrics {\"Metrics\": {\"training_binary_classification_cross_entropy\": {\"count\": 1, \"max\": 0.004545868605704432, \"sum\": 0.004545868605704432, \"min\": 0.004545868605704432}, \"validation_binary_classification_cross_entropy\": {\"count\": 1, \"max\": -Infinity, \"sum\": NaN, \"min\": Infinity}}, \"EndTime\": 1520935786.02129, \"Dimensions\": {\"model\": 0, \"Host\": \"algo-1\", \"Operation\": \"training\", \"Algorithm\": \"Linear Learner\", \"epoch\": 7}, \"StartTime\": 1520935786.021163}\n",
      "\u001b[0m\n",
      "\u001b[31m#metrics {\"Metrics\": {\"training_binary_classification_cross_entropy\": {\"count\": 1, \"max\": 0.00404934419876331, \"sum\": 0.00404934419876331, \"min\": 0.00404934419876331}, \"validation_binary_classification_cross_entropy\": {\"count\": 1, \"max\": -Infinity, \"sum\": NaN, \"min\": Infinity}}, \"EndTime\": 1520935786.021398, \"Dimensions\": {\"model\": 1, \"Host\": \"algo-1\", \"Operation\": \"training\", \"Algorithm\": \"Linear Learner\", \"epoch\": 7}, \"StartTime\": 1520935786.021376}\n",
      "\u001b[0m\n",
      "\u001b[31m#metrics {\"Metrics\": {\"training_binary_classification_cross_entropy\": {\"count\": 1, \"max\": 0.0043974109476499525, \"sum\": 0.0043974109476499525, \"min\": 0.0043974109476499525}, \"validation_binary_classification_cross_entropy\": {\"count\": 1, \"max\": -Infinity, \"sum\": NaN, \"min\": Infinity}}, \"EndTime\": 1520935786.021468, \"Dimensions\": {\"model\": 2, \"Host\": \"algo-1\", \"Operation\": \"training\", \"Algorithm\": \"Linear Learner\", \"epoch\": 7}, \"StartTime\": 1520935786.021449}\n",
      "\u001b[0m\n",
      "\u001b[31m#metrics {\"Metrics\": {\"training_binary_classification_cross_entropy\": {\"count\": 1, \"max\": 0.004049361773287825, \"sum\": 0.004049361773287825, \"min\": 0.004049361773287825}, \"validation_binary_classification_cross_entropy\": {\"count\": 1, \"max\": -Infinity, \"sum\": NaN, \"min\": Infinity}}, \"EndTime\": 1520935786.021549, \"Dimensions\": {\"model\": 3, \"Host\": \"algo-1\", \"Operation\": \"training\", \"Algorithm\": \"Linear Learner\", \"epoch\": 7}, \"StartTime\": 1520935786.02153}\n",
      "\u001b[0m\n",
      "\u001b[31m#metrics {\"Metrics\": {\"training_binary_classification_cross_entropy\": {\"count\": 1, \"max\": 0.0038826590647778837, \"sum\": 0.0038826590647778837, \"min\": 0.0038826590647778837}, \"validation_binary_classification_cross_entropy\": {\"count\": 1, \"max\": -Infinity, \"sum\": NaN, \"min\": Infinity}}, \"EndTime\": 1520935786.021609, \"Dimensions\": {\"model\": 4, \"Host\": \"algo-1\", \"Operation\": \"training\", \"Algorithm\": \"Linear Learner\", \"epoch\": 7}, \"StartTime\": 1520935786.021592}\n",
      "\u001b[0m\n",
      "\u001b[31m#metrics {\"Metrics\": {\"training_binary_classification_cross_entropy\": {\"count\": 1, \"max\": 0.007831224101185556, \"sum\": 0.007831224101185556, \"min\": 0.007831224101185556}, \"validation_binary_classification_cross_entropy\": {\"count\": 1, \"max\": -Infinity, \"sum\": NaN, \"min\": Infinity}}, \"EndTime\": 1520935786.021666, \"Dimensions\": {\"model\": 5, \"Host\": \"algo-1\", \"Operation\": \"training\", \"Algorithm\": \"Linear Learner\", \"epoch\": 7}, \"StartTime\": 1520935786.021649}\n",
      "\u001b[0m\n",
      "\u001b[31m#metrics {\"Metrics\": {\"training_binary_classification_cross_entropy\": {\"count\": 1, \"max\": 0.003856997669124639, \"sum\": 0.003856997669124639, \"min\": 0.003856997669124639}, \"validation_binary_classification_cross_entropy\": {\"count\": 1, \"max\": -Infinity, \"sum\": NaN, \"min\": Infinity}}, \"EndTime\": 1520935786.021721, \"Dimensions\": {\"model\": 6, \"Host\": \"algo-1\", \"Operation\": \"training\", \"Algorithm\": \"Linear Learner\", \"epoch\": 7}, \"StartTime\": 1520935786.021704}\n",
      "\u001b[0m\n",
      "\u001b[31m#metrics {\"Metrics\": {\"training_binary_classification_cross_entropy\": {\"count\": 1, \"max\": 0.00675714918727209, \"sum\": 0.00675714918727209, \"min\": 0.00675714918727209}, \"validation_binary_classification_cross_entropy\": {\"count\": 1, \"max\": -Infinity, \"sum\": NaN, \"min\": Infinity}}, \"EndTime\": 1520935786.021774, \"Dimensions\": {\"model\": 7, \"Host\": \"algo-1\", \"Operation\": \"training\", \"Algorithm\": \"Linear Learner\", \"epoch\": 7}, \"StartTime\": 1520935786.021757}\n",
      "\u001b[0m\n",
      "\u001b[31m#metrics {\"Metrics\": {\"training_binary_classification_cross_entropy\": {\"count\": 1, \"max\": 0.005247287381604972, \"sum\": 0.005247287381604972, \"min\": 0.005247287381604972}, \"validation_binary_classification_cross_entropy\": {\"count\": 1, \"max\": -Infinity, \"sum\": NaN, \"min\": Infinity}}, \"EndTime\": 1520935786.021829, \"Dimensions\": {\"model\": 8, \"Host\": \"algo-1\", \"Operation\": \"training\", \"Algorithm\": \"Linear Learner\", \"epoch\": 7}, \"StartTime\": 1520935786.021812}\n",
      "\u001b[0m\n",
      "\u001b[31m#metrics {\"Metrics\": {\"training_binary_classification_cross_entropy\": {\"count\": 1, \"max\": 0.005004265091520356, \"sum\": 0.005004265091520356, \"min\": 0.005004265091520356}, \"validation_binary_classification_cross_entropy\": {\"count\": 1, \"max\": -Infinity, \"sum\": NaN, \"min\": Infinity}}, \"EndTime\": 1520935786.021889, \"Dimensions\": {\"model\": 9, \"Host\": \"algo-1\", \"Operation\": \"training\", \"Algorithm\": \"Linear Learner\", \"epoch\": 7}, \"StartTime\": 1520935786.021871}\n",
      "\u001b[0m\n",
      "\u001b[31m#metrics {\"Metrics\": {\"training_binary_classification_cross_entropy\": {\"count\": 1, \"max\": 0.005145370338680634, \"sum\": 0.005145370338680634, \"min\": 0.005145370338680634}, \"validation_binary_classification_cross_entropy\": {\"count\": 1, \"max\": -Infinity, \"sum\": NaN, \"min\": Infinity}}, \"EndTime\": 1520935786.02195, \"Dimensions\": {\"model\": 10, \"Host\": \"algo-1\", \"Operation\": \"training\", \"Algorithm\": \"Linear Learner\", \"epoch\": 7}, \"StartTime\": 1520935786.021932}\n",
      "\u001b[0m\n",
      "\u001b[31m#metrics {\"Metrics\": {\"training_binary_classification_cross_entropy\": {\"count\": 1, \"max\": 0.00500425663870202, \"sum\": 0.00500425663870202, \"min\": 0.00500425663870202}, \"validation_binary_classification_cross_entropy\": {\"count\": 1, \"max\": -Infinity, \"sum\": NaN, \"min\": Infinity}}, \"EndTime\": 1520935786.022007, \"Dimensions\": {\"model\": 11, \"Host\": \"algo-1\", \"Operation\": \"training\", \"Algorithm\": \"Linear Learner\", \"epoch\": 7}, \"StartTime\": 1520935786.021989}\n",
      "\u001b[0m\n",
      "\u001b[31m#metrics {\"Metrics\": {\"training_binary_classification_cross_entropy\": {\"count\": 1, \"max\": 0.004907966149619305, \"sum\": 0.004907966149619305, \"min\": 0.004907966149619305}, \"validation_binary_classification_cross_entropy\": {\"count\": 1, \"max\": -Infinity, \"sum\": NaN, \"min\": Infinity}}, \"EndTime\": 1520935786.022062, \"Dimensions\": {\"model\": 12, \"Host\": \"algo-1\", \"Operation\": \"training\", \"Algorithm\": \"Linear Learner\", \"epoch\": 7}, \"StartTime\": 1520935786.022044}\n",
      "\u001b[0m\n",
      "\u001b[31m#metrics {\"Metrics\": {\"training_binary_classification_cross_entropy\": {\"count\": 1, \"max\": 0.0066095231342887745, \"sum\": 0.0066095231342887745, \"min\": 0.0066095231342887745}, \"validation_binary_classification_cross_entropy\": {\"count\": 1, \"max\": -Infinity, \"sum\": NaN, \"min\": Infinity}}, \"EndTime\": 1520935786.022117, \"Dimensions\": {\"model\": 13, \"Host\": \"algo-1\", \"Operation\": \"training\", \"Algorithm\": \"Linear Learner\", \"epoch\": 7}, \"StartTime\": 1520935786.0221}\n",
      "\u001b[0m\n",
      "\u001b[31m#metrics {\"Metrics\": {\"training_binary_classification_cross_entropy\": {\"count\": 1, \"max\": 0.004907936201501922, \"sum\": 0.004907936201501922, \"min\": 0.004907936201501922}, \"validation_binary_classification_cross_entropy\": {\"count\": 1, \"max\": -Infinity, \"sum\": NaN, \"min\": Infinity}}, \"EndTime\": 1520935786.022173, \"Dimensions\": {\"model\": 14, \"Host\": \"algo-1\", \"Operation\": \"training\", \"Algorithm\": \"Linear Learner\", \"epoch\": 7}, \"StartTime\": 1520935786.022156}\n",
      "\u001b[0m\n",
      "\u001b[31m#metrics {\"Metrics\": {\"training_binary_classification_cross_entropy\": {\"count\": 1, \"max\": 0.006611414136821835, \"sum\": 0.006611414136821835, \"min\": 0.006611414136821835}, \"validation_binary_classification_cross_entropy\": {\"count\": 1, \"max\": -Infinity, \"sum\": NaN, \"min\": Infinity}}, \"EndTime\": 1520935786.022228, \"Dimensions\": {\"model\": 15, \"Host\": \"algo-1\", \"Operation\": \"training\", \"Algorithm\": \"Linear Learner\", \"epoch\": 7}, \"StartTime\": 1520935786.022211}\n",
      "\u001b[0m\n",
      "\u001b[31m#metrics {\"Metrics\": {\"training_binary_classification_cross_entropy\": {\"count\": 1, \"max\": 0.011789075167153973, \"sum\": 0.011789075167153973, \"min\": 0.011789075167153973}, \"validation_binary_classification_cross_entropy\": {\"count\": 1, \"max\": -Infinity, \"sum\": NaN, \"min\": Infinity}}, \"EndTime\": 1520935786.022283, \"Dimensions\": {\"model\": 16, \"Host\": \"algo-1\", \"Operation\": \"training\", \"Algorithm\": \"Linear Learner\", \"epoch\": 7}, \"StartTime\": 1520935786.022266}\n",
      "\u001b[0m\n",
      "\u001b[31m#metrics {\"Metrics\": {\"training_binary_classification_cross_entropy\": {\"count\": 1, \"max\": 0.011846058535498069, \"sum\": 0.011846058535498069, \"min\": 0.011846058535498069}, \"validation_binary_classification_cross_entropy\": {\"count\": 1, \"max\": -Infinity, \"sum\": NaN, \"min\": Infinity}}, \"EndTime\": 1520935786.022339, \"Dimensions\": {\"model\": 17, \"Host\": \"algo-1\", \"Operation\": \"training\", \"Algorithm\": \"Linear Learner\", \"epoch\": 7}, \"StartTime\": 1520935786.022322}\n",
      "\u001b[0m\n",
      "\u001b[31m#metrics {\"Metrics\": {\"training_binary_classification_cross_entropy\": {\"count\": 1, \"max\": 0.011777278517773113, \"sum\": 0.011777278517773113, \"min\": 0.011777278517773113}, \"validation_binary_classification_cross_entropy\": {\"count\": 1, \"max\": -Infinity, \"sum\": NaN, \"min\": Infinity}}, \"EndTime\": 1520935786.022399, \"Dimensions\": {\"model\": 18, \"Host\": \"algo-1\", \"Operation\": \"training\", \"Algorithm\": \"Linear Learner\", \"epoch\": 7}, \"StartTime\": 1520935786.022381}\n",
      "\u001b[0m\n",
      "\u001b[31m#metrics {\"Metrics\": {\"training_binary_classification_cross_entropy\": {\"count\": 1, \"max\": 0.011846051187101138, \"sum\": 0.011846051187101138, \"min\": 0.011846051187101138}, \"validation_binary_classification_cross_entropy\": {\"count\": 1, \"max\": -Infinity, \"sum\": NaN, \"min\": Infinity}}, \"EndTime\": 1520935786.022455, \"Dimensions\": {\"model\": 19, \"Host\": \"algo-1\", \"Operation\": \"training\", \"Algorithm\": \"Linear Learner\", \"epoch\": 7}, \"StartTime\": 1520935786.022438}\n",
      "\u001b[0m\n",
      "\u001b[31m#metrics {\"Metrics\": {\"training_binary_classification_cross_entropy\": {\"count\": 1, \"max\": 0.01176927949904079, \"sum\": 0.01176927949904079, \"min\": 0.01176927949904079}, \"validation_binary_classification_cross_entropy\": {\"count\": 1, \"max\": -Infinity, \"sum\": NaN, \"min\": Infinity}}, \"EndTime\": 1520935786.022511, \"Dimensions\": {\"model\": 20, \"Host\": \"algo-1\", \"Operation\": \"training\", \"Algorithm\": \"Linear Learner\", \"epoch\": 7}, \"StartTime\": 1520935786.022494}\n",
      "\u001b[0m\n",
      "\u001b[31m#metrics {\"Metrics\": {\"training_binary_classification_cross_entropy\": {\"count\": 1, \"max\": 0.012179446821400229, \"sum\": 0.012179446821400229, \"min\": 0.012179446821400229}, \"validation_binary_classification_cross_entropy\": {\"count\": 1, \"max\": -Infinity, \"sum\": NaN, \"min\": Infinity}}, \"EndTime\": 1520935786.022564, \"Dimensions\": {\"model\": 21, \"Host\": \"algo-1\", \"Operation\": \"training\", \"Algorithm\": \"Linear Learner\", \"epoch\": 7}, \"StartTime\": 1520935786.022547}\n",
      "\u001b[0m\n",
      "\u001b[31m#metrics {\"Metrics\": {\"training_binary_classification_cross_entropy\": {\"count\": 1, \"max\": 0.01176929975624185, \"sum\": 0.01176929975624185, \"min\": 0.01176929975624185}, \"validation_binary_classification_cross_entropy\": {\"count\": 1, \"max\": -Infinity, \"sum\": NaN, \"min\": Infinity}}, \"EndTime\": 1520935786.022619, \"Dimensions\": {\"model\": 22, \"Host\": \"algo-1\", \"Operation\": \"training\", \"Algorithm\": \"Linear Learner\", \"epoch\": 7}, \"StartTime\": 1520935786.022602}\n",
      "\u001b[0m\n",
      "\u001b[31m#metrics {\"Metrics\": {\"training_binary_classification_cross_entropy\": {\"count\": 1, \"max\": 0.012179503324030184, \"sum\": 0.012179503324030184, \"min\": 0.012179503324030184}, \"validation_binary_classification_cross_entropy\": {\"count\": 1, \"max\": -Infinity, \"sum\": NaN, \"min\": Infinity}}, \"EndTime\": 1520935786.022678, \"Dimensions\": {\"model\": 23, \"Host\": \"algo-1\", \"Operation\": \"training\", \"Algorithm\": \"Linear Learner\", \"epoch\": 7}, \"StartTime\": 1520935786.022661}\n",
      "\u001b[0m\n",
      "\u001b[31m#metrics {\"Metrics\": {\"training_binary_classification_cross_entropy\": {\"count\": 1, \"max\": 0.012728928184832435, \"sum\": 0.012728928184832435, \"min\": 0.012728928184832435}, \"validation_binary_classification_cross_entropy\": {\"count\": 1, \"max\": -Infinity, \"sum\": NaN, \"min\": Infinity}}, \"EndTime\": 1520935786.022739, \"Dimensions\": {\"model\": 24, \"Host\": \"algo-1\", \"Operation\": \"training\", \"Algorithm\": \"Linear Learner\", \"epoch\": 7}, \"StartTime\": 1520935786.022721}\n",
      "\u001b[0m\n",
      "\u001b[31m#metrics {\"Metrics\": {\"training_binary_classification_cross_entropy\": {\"count\": 1, \"max\": 0.012720759155221254, \"sum\": 0.012720759155221254, \"min\": 0.012720759155221254}, \"validation_binary_classification_cross_entropy\": {\"count\": 1, \"max\": -Infinity, \"sum\": NaN, \"min\": Infinity}}, \"EndTime\": 1520935786.022819, \"Dimensions\": {\"model\": 25, \"Host\": \"algo-1\", \"Operation\": \"training\", \"Algorithm\": \"Linear Learner\", \"epoch\": 7}, \"StartTime\": 1520935786.0228}\n",
      "\u001b[0m\n",
      "\u001b[31m#metrics {\"Metrics\": {\"training_binary_classification_cross_entropy\": {\"count\": 1, \"max\": 0.012711438694632197, \"sum\": 0.012711438694632197, \"min\": 0.012711438694632197}, \"validation_binary_classification_cross_entropy\": {\"count\": 1, \"max\": -Infinity, \"sum\": NaN, \"min\": Infinity}}, \"EndTime\": 1520935786.022874, \"Dimensions\": {\"model\": 26, \"Host\": \"algo-1\", \"Operation\": \"training\", \"Algorithm\": \"Linear Learner\", \"epoch\": 7}, \"StartTime\": 1520935786.022857}\n",
      "\u001b[0m\n",
      "\u001b[31m#metrics {\"Metrics\": {\"training_binary_classification_cross_entropy\": {\"count\": 1, \"max\": 0.012720677681626326, \"sum\": 0.012720677681626326, \"min\": 0.012720677681626326}, \"validation_binary_classification_cross_entropy\": {\"count\": 1, \"max\": -Infinity, \"sum\": NaN, \"min\": Infinity}}, \"EndTime\": 1520935786.022934, \"Dimensions\": {\"model\": 27, \"Host\": \"algo-1\", \"Operation\": \"training\", \"Algorithm\": \"Linear Learner\", \"epoch\": 7}, \"StartTime\": 1520935786.022916}\n",
      "\u001b[0m\n",
      "\u001b[31m#metrics {\"Metrics\": {\"training_binary_classification_cross_entropy\": {\"count\": 1, \"max\": 0.012704518948902328, \"sum\": 0.012704518948902328, \"min\": 0.012704518948902328}, \"validation_binary_classification_cross_entropy\": {\"count\": 1, \"max\": -Infinity, \"sum\": NaN, \"min\": Infinity}}, \"EndTime\": 1520935786.022994, \"Dimensions\": {\"model\": 28, \"Host\": \"algo-1\", \"Operation\": \"training\", \"Algorithm\": \"Linear Learner\", \"epoch\": 7}, \"StartTime\": 1520935786.022977}\n",
      "\u001b[0m\n",
      "\u001b[31m#metrics {\"Metrics\": {\"training_binary_classification_cross_entropy\": {\"count\": 1, \"max\": 0.013100453330518073, \"sum\": 0.013100453330518073, \"min\": 0.013100453330518073}, \"validation_binary_classification_cross_entropy\": {\"count\": 1, \"max\": -Infinity, \"sum\": NaN, \"min\": Infinity}}, \"EndTime\": 1520935786.023054, \"Dimensions\": {\"model\": 29, \"Host\": \"algo-1\", \"Operation\": \"training\", \"Algorithm\": \"Linear Learner\", \"epoch\": 7}, \"StartTime\": 1520935786.023037}\n",
      "\u001b[0m\n",
      "\u001b[31m#metrics {\"Metrics\": {\"training_binary_classification_cross_entropy\": {\"count\": 1, \"max\": 0.012704512404958646, \"sum\": 0.012704512404958646, \"min\": 0.012704512404958646}, \"validation_binary_classification_cross_entropy\": {\"count\": 1, \"max\": -Infinity, \"sum\": NaN, \"min\": Infinity}}, \"EndTime\": 1520935786.023114, \"Dimensions\": {\"model\": 30, \"Host\": \"algo-1\", \"Operation\": \"training\", \"Algorithm\": \"Linear Learner\", \"epoch\": 7}, \"StartTime\": 1520935786.023097}\n",
      "\u001b[0m\n",
      "\u001b[31m#metrics {\"Metrics\": {\"training_binary_classification_cross_entropy\": {\"count\": 1, \"max\": 0.013100190397752186, \"sum\": 0.013100190397752186, \"min\": 0.013100190397752186}, \"validation_binary_classification_cross_entropy\": {\"count\": 1, \"max\": -Infinity, \"sum\": NaN, \"min\": Infinity}}, \"EndTime\": 1520935786.023174, \"Dimensions\": {\"model\": 31, \"Host\": \"algo-1\", \"Operation\": \"training\", \"Algorithm\": \"Linear Learner\", \"epoch\": 7}, \"StartTime\": 1520935786.023157}\n",
      "\u001b[0m\n",
      "\u001b[31m[03/13/2018 10:09:46 INFO 139642387044160] Epoch 7: Loss improved.  Updating best model\u001b[0m\n",
      "\u001b[31m#metrics {\"Metrics\": {\"Max Batches Seen Between Resets\": {\"count\": 1, \"max\": 997, \"sum\": 997.0, \"min\": 997}, \"Number of Batches Since Last Reset\": {\"count\": 1, \"max\": 997, \"sum\": 997.0, \"min\": 997}, \"Number of Records Since Last Reset\": {\"count\": 1, \"max\": 199364, \"sum\": 199364.0, \"min\": 199364}, \"Total Batches Seen\": {\"count\": 1, \"max\": 7031, \"sum\": 7031.0, \"min\": 7031}, \"Total Records Seen\": {\"count\": 1, \"max\": 1405948, \"sum\": 1405948.0, \"min\": 1405948}, \"Max Records Seen Between Resets\": {\"count\": 1, \"max\": 199364, \"sum\": 199364.0, \"min\": 199364}, \"Reset Count\": {\"count\": 1, \"max\": 9, \"sum\": 9.0, \"min\": 9}}, \"EndTime\": 1520935786.024282, \"Dimensions\": {\"Host\": \"algo-1\", \"Meta\": \"training_data_iter\", \"Operation\": \"training\", \"Algorithm\": \"Linear Learner\", \"epoch\": 6}, \"StartTime\": 1520935786.024228}\n",
      "\u001b[0m\n"
     ]
    },
    {
     "name": "stdout",
     "output_type": "stream",
     "text": [
      "\u001b[31m#metrics {\"Metrics\": {\"training_binary_classification_cross_entropy\": {\"count\": 1, \"max\": 0.004526677778192672, \"sum\": 0.004526677778192672, \"min\": 0.004526677778192672}, \"validation_binary_classification_cross_entropy\": {\"count\": 1, \"max\": -Infinity, \"sum\": NaN, \"min\": Infinity}}, \"EndTime\": 1520935825.535233, \"Dimensions\": {\"model\": 0, \"Host\": \"algo-1\", \"Operation\": \"training\", \"Algorithm\": \"Linear Learner\", \"epoch\": 8}, \"StartTime\": 1520935825.535151}\n",
      "\u001b[0m\n",
      "\u001b[31m#metrics {\"Metrics\": {\"training_binary_classification_cross_entropy\": {\"count\": 1, \"max\": 0.0040510251828241185, \"sum\": 0.0040510251828241185, \"min\": 0.0040510251828241185}, \"validation_binary_classification_cross_entropy\": {\"count\": 1, \"max\": -Infinity, \"sum\": NaN, \"min\": Infinity}}, \"EndTime\": 1520935825.535328, \"Dimensions\": {\"model\": 1, \"Host\": \"algo-1\", \"Operation\": \"training\", \"Algorithm\": \"Linear Learner\", \"epoch\": 8}, \"StartTime\": 1520935825.535304}\n",
      "\u001b[0m\n",
      "\u001b[31m#metrics {\"Metrics\": {\"training_binary_classification_cross_entropy\": {\"count\": 1, \"max\": 0.0043158132050291126, \"sum\": 0.0043158132050291126, \"min\": 0.0043158132050291126}, \"validation_binary_classification_cross_entropy\": {\"count\": 1, \"max\": -Infinity, \"sum\": NaN, \"min\": Infinity}}, \"EndTime\": 1520935825.535403, \"Dimensions\": {\"model\": 2, \"Host\": \"algo-1\", \"Operation\": \"training\", \"Algorithm\": \"Linear Learner\", \"epoch\": 8}, \"StartTime\": 1520935825.535382}\n",
      "\u001b[0m\n",
      "\u001b[31m#metrics {\"Metrics\": {\"training_binary_classification_cross_entropy\": {\"count\": 1, \"max\": 0.004050180944595411, \"sum\": 0.004050180944595411, \"min\": 0.004050180944595411}, \"validation_binary_classification_cross_entropy\": {\"count\": 1, \"max\": -Infinity, \"sum\": NaN, \"min\": Infinity}}, \"EndTime\": 1520935825.535459, \"Dimensions\": {\"model\": 3, \"Host\": \"algo-1\", \"Operation\": \"training\", \"Algorithm\": \"Linear Learner\", \"epoch\": 8}, \"StartTime\": 1520935825.535439}\n",
      "\u001b[0m\n",
      "\u001b[31m#metrics {\"Metrics\": {\"training_binary_classification_cross_entropy\": {\"count\": 1, \"max\": 0.003871279326809877, \"sum\": 0.003871279326809877, \"min\": 0.003871279326809877}, \"validation_binary_classification_cross_entropy\": {\"count\": 1, \"max\": -Infinity, \"sum\": NaN, \"min\": Infinity}}, \"EndTime\": 1520935825.535528, \"Dimensions\": {\"model\": 4, \"Host\": \"algo-1\", \"Operation\": \"training\", \"Algorithm\": \"Linear Learner\", \"epoch\": 8}, \"StartTime\": 1520935825.535506}\n",
      "\u001b[0m\n",
      "\u001b[31m#metrics {\"Metrics\": {\"training_binary_classification_cross_entropy\": {\"count\": 1, \"max\": 0.005999574514424305, \"sum\": 0.005999574514424305, \"min\": 0.005999574514424305}, \"validation_binary_classification_cross_entropy\": {\"count\": 1, \"max\": -Infinity, \"sum\": NaN, \"min\": Infinity}}, \"EndTime\": 1520935825.535596, \"Dimensions\": {\"model\": 5, \"Host\": \"algo-1\", \"Operation\": \"training\", \"Algorithm\": \"Linear Learner\", \"epoch\": 8}, \"StartTime\": 1520935825.535576}\n",
      "\u001b[0m\n",
      "\u001b[31m#metrics {\"Metrics\": {\"training_binary_classification_cross_entropy\": {\"count\": 1, \"max\": 0.003850509470541883, \"sum\": 0.003850509470541883, \"min\": 0.003850509470541883}, \"validation_binary_classification_cross_entropy\": {\"count\": 1, \"max\": -Infinity, \"sum\": NaN, \"min\": Infinity}}, \"EndTime\": 1520935825.535657, \"Dimensions\": {\"model\": 6, \"Host\": \"algo-1\", \"Operation\": \"training\", \"Algorithm\": \"Linear Learner\", \"epoch\": 8}, \"StartTime\": 1520935825.535638}\n",
      "\u001b[0m\n",
      "\u001b[31m#metrics {\"Metrics\": {\"training_binary_classification_cross_entropy\": {\"count\": 1, \"max\": 0.006178274866843752, \"sum\": 0.006178274866843752, \"min\": 0.006178274866843752}, \"validation_binary_classification_cross_entropy\": {\"count\": 1, \"max\": -Infinity, \"sum\": NaN, \"min\": Infinity}}, \"EndTime\": 1520935825.535722, \"Dimensions\": {\"model\": 7, \"Host\": \"algo-1\", \"Operation\": \"training\", \"Algorithm\": \"Linear Learner\", \"epoch\": 8}, \"StartTime\": 1520935825.535702}\n",
      "\u001b[0m\n",
      "\u001b[31m#metrics {\"Metrics\": {\"training_binary_classification_cross_entropy\": {\"count\": 1, \"max\": 0.005234769326017564, \"sum\": 0.005234769326017564, \"min\": 0.005234769326017564}, \"validation_binary_classification_cross_entropy\": {\"count\": 1, \"max\": -Infinity, \"sum\": NaN, \"min\": Infinity}}, \"EndTime\": 1520935825.535776, \"Dimensions\": {\"model\": 8, \"Host\": \"algo-1\", \"Operation\": \"training\", \"Algorithm\": \"Linear Learner\", \"epoch\": 8}, \"StartTime\": 1520935825.535755}\n",
      "\u001b[0m\n",
      "\u001b[31m#metrics {\"Metrics\": {\"training_binary_classification_cross_entropy\": {\"count\": 1, \"max\": 0.004998800142043566, \"sum\": 0.004998800142043566, \"min\": 0.004998800142043566}, \"validation_binary_classification_cross_entropy\": {\"count\": 1, \"max\": -Infinity, \"sum\": NaN, \"min\": Infinity}}, \"EndTime\": 1520935825.535828, \"Dimensions\": {\"model\": 9, \"Host\": \"algo-1\", \"Operation\": \"training\", \"Algorithm\": \"Linear Learner\", \"epoch\": 8}, \"StartTime\": 1520935825.535808}\n",
      "\u001b[0m\n",
      "\u001b[31m#metrics {\"Metrics\": {\"training_binary_classification_cross_entropy\": {\"count\": 1, \"max\": 0.0050895890555378185, \"sum\": 0.0050895890555378185, \"min\": 0.0050895890555378185}, \"validation_binary_classification_cross_entropy\": {\"count\": 1, \"max\": -Infinity, \"sum\": NaN, \"min\": Infinity}}, \"EndTime\": 1520935825.535894, \"Dimensions\": {\"model\": 10, \"Host\": \"algo-1\", \"Operation\": \"training\", \"Algorithm\": \"Linear Learner\", \"epoch\": 8}, \"StartTime\": 1520935825.535873}\n",
      "\u001b[0m\n",
      "\u001b[31m#metrics {\"Metrics\": {\"training_binary_classification_cross_entropy\": {\"count\": 1, \"max\": 0.004998799308416355, \"sum\": 0.004998799308416355, \"min\": 0.004998799308416355}, \"validation_binary_classification_cross_entropy\": {\"count\": 1, \"max\": -Infinity, \"sum\": NaN, \"min\": Infinity}}, \"EndTime\": 1520935825.535964, \"Dimensions\": {\"model\": 11, \"Host\": \"algo-1\", \"Operation\": \"training\", \"Algorithm\": \"Linear Learner\", \"epoch\": 8}, \"StartTime\": 1520935825.535942}\n",
      "\u001b[0m\n",
      "\u001b[31m#metrics {\"Metrics\": {\"training_binary_classification_cross_entropy\": {\"count\": 1, \"max\": 0.004900847045876774, \"sum\": 0.004900847045876774, \"min\": 0.004900847045876774}, \"validation_binary_classification_cross_entropy\": {\"count\": 1, \"max\": -Infinity, \"sum\": NaN, \"min\": Infinity}}, \"EndTime\": 1520935825.536032, \"Dimensions\": {\"model\": 12, \"Host\": \"algo-1\", \"Operation\": \"training\", \"Algorithm\": \"Linear Learner\", \"epoch\": 8}, \"StartTime\": 1520935825.536011}\n",
      "\u001b[0m\n",
      "\u001b[31m#metrics {\"Metrics\": {\"training_binary_classification_cross_entropy\": {\"count\": 1, \"max\": 0.006530738546944085, \"sum\": 0.006530738546944085, \"min\": 0.006530738546944085}, \"validation_binary_classification_cross_entropy\": {\"count\": 1, \"max\": -Infinity, \"sum\": NaN, \"min\": Infinity}}, \"EndTime\": 1520935825.536104, \"Dimensions\": {\"model\": 13, \"Host\": \"algo-1\", \"Operation\": \"training\", \"Algorithm\": \"Linear Learner\", \"epoch\": 8}, \"StartTime\": 1520935825.536082}\n",
      "\u001b[0m\n",
      "\u001b[31m#metrics {\"Metrics\": {\"training_binary_classification_cross_entropy\": {\"count\": 1, \"max\": 0.004905023857068465, \"sum\": 0.004905023857068465, \"min\": 0.004905023857068465}, \"validation_binary_classification_cross_entropy\": {\"count\": 1, \"max\": -Infinity, \"sum\": NaN, \"min\": Infinity}}, \"EndTime\": 1520935825.53616, \"Dimensions\": {\"model\": 14, \"Host\": \"algo-1\", \"Operation\": \"training\", \"Algorithm\": \"Linear Learner\", \"epoch\": 8}, \"StartTime\": 1520935825.53614}\n",
      "\u001b[0m\n",
      "\u001b[31m#metrics {\"Metrics\": {\"training_binary_classification_cross_entropy\": {\"count\": 1, \"max\": 0.006530864075280681, \"sum\": 0.006530864075280681, \"min\": 0.006530864075280681}, \"validation_binary_classification_cross_entropy\": {\"count\": 1, \"max\": -Infinity, \"sum\": NaN, \"min\": Infinity}}, \"EndTime\": 1520935825.536223, \"Dimensions\": {\"model\": 15, \"Host\": \"algo-1\", \"Operation\": \"training\", \"Algorithm\": \"Linear Learner\", \"epoch\": 8}, \"StartTime\": 1520935825.536204}\n",
      "\u001b[0m\n",
      "\u001b[31m#metrics {\"Metrics\": {\"training_binary_classification_cross_entropy\": {\"count\": 1, \"max\": 0.011786108992724533, \"sum\": 0.011786108992724533, \"min\": 0.011786108992724533}, \"validation_binary_classification_cross_entropy\": {\"count\": 1, \"max\": -Infinity, \"sum\": NaN, \"min\": Infinity}}, \"EndTime\": 1520935825.536291, \"Dimensions\": {\"model\": 16, \"Host\": \"algo-1\", \"Operation\": \"training\", \"Algorithm\": \"Linear Learner\", \"epoch\": 8}, \"StartTime\": 1520935825.53627}\n",
      "\u001b[0m\n",
      "\u001b[31m#metrics {\"Metrics\": {\"training_binary_classification_cross_entropy\": {\"count\": 1, \"max\": 0.011847347252549656, \"sum\": 0.011847347252549656, \"min\": 0.011847347252549656}, \"validation_binary_classification_cross_entropy\": {\"count\": 1, \"max\": -Infinity, \"sum\": NaN, \"min\": Infinity}}, \"EndTime\": 1520935825.536358, \"Dimensions\": {\"model\": 17, \"Host\": \"algo-1\", \"Operation\": \"training\", \"Algorithm\": \"Linear Learner\", \"epoch\": 8}, \"StartTime\": 1520935825.536336}\n",
      "\u001b[0m\n",
      "\u001b[31m#metrics {\"Metrics\": {\"training_binary_classification_cross_entropy\": {\"count\": 1, \"max\": 0.01177206226486159, \"sum\": 0.01177206226486159, \"min\": 0.01177206226486159}, \"validation_binary_classification_cross_entropy\": {\"count\": 1, \"max\": -Infinity, \"sum\": NaN, \"min\": Infinity}}, \"EndTime\": 1520935825.536424, \"Dimensions\": {\"model\": 18, \"Host\": \"algo-1\", \"Operation\": \"training\", \"Algorithm\": \"Linear Learner\", \"epoch\": 8}, \"StartTime\": 1520935825.536403}\n",
      "\u001b[0m\n",
      "\u001b[31m#metrics {\"Metrics\": {\"training_binary_classification_cross_entropy\": {\"count\": 1, \"max\": 0.011847343217267329, \"sum\": 0.011847343217267329, \"min\": 0.011847343217267329}, \"validation_binary_classification_cross_entropy\": {\"count\": 1, \"max\": -Infinity, \"sum\": NaN, \"min\": Infinity}}, \"EndTime\": 1520935825.536498, \"Dimensions\": {\"model\": 19, \"Host\": \"algo-1\", \"Operation\": \"training\", \"Algorithm\": \"Linear Learner\", \"epoch\": 8}, \"StartTime\": 1520935825.536477}\n",
      "\u001b[0m\n",
      "\u001b[31m#metrics {\"Metrics\": {\"training_binary_classification_cross_entropy\": {\"count\": 1, \"max\": 0.011768166285352296, \"sum\": 0.011768166285352296, \"min\": 0.011768166285352296}, \"validation_binary_classification_cross_entropy\": {\"count\": 1, \"max\": -Infinity, \"sum\": NaN, \"min\": Infinity}}, \"EndTime\": 1520935825.536552, \"Dimensions\": {\"model\": 20, \"Host\": \"algo-1\", \"Operation\": \"training\", \"Algorithm\": \"Linear Learner\", \"epoch\": 8}, \"StartTime\": 1520935825.536536}\n",
      "\u001b[0m\n",
      "\u001b[31m#metrics {\"Metrics\": {\"training_binary_classification_cross_entropy\": {\"count\": 1, \"max\": 0.012139096862980609, \"sum\": 0.012139096862980609, \"min\": 0.012139096862980609}, \"validation_binary_classification_cross_entropy\": {\"count\": 1, \"max\": -Infinity, \"sum\": NaN, \"min\": Infinity}}, \"EndTime\": 1520935825.536621, \"Dimensions\": {\"model\": 21, \"Host\": \"algo-1\", \"Operation\": \"training\", \"Algorithm\": \"Linear Learner\", \"epoch\": 8}, \"StartTime\": 1520935825.5366}\n",
      "\u001b[0m\n",
      "\u001b[31m#metrics {\"Metrics\": {\"training_binary_classification_cross_entropy\": {\"count\": 1, \"max\": 0.01176890274337736, \"sum\": 0.01176890274337736, \"min\": 0.01176890274337736}, \"validation_binary_classification_cross_entropy\": {\"count\": 1, \"max\": -Infinity, \"sum\": NaN, \"min\": Infinity}}, \"EndTime\": 1520935825.536692, \"Dimensions\": {\"model\": 22, \"Host\": \"algo-1\", \"Operation\": \"training\", \"Algorithm\": \"Linear Learner\", \"epoch\": 8}, \"StartTime\": 1520935825.536669}\n",
      "\u001b[0m\n",
      "\u001b[31m#metrics {\"Metrics\": {\"training_binary_classification_cross_entropy\": {\"count\": 1, \"max\": 0.012139115288150478, \"sum\": 0.012139115288150478, \"min\": 0.012139115288150478}, \"validation_binary_classification_cross_entropy\": {\"count\": 1, \"max\": -Infinity, \"sum\": NaN, \"min\": Infinity}}, \"EndTime\": 1520935825.536759, \"Dimensions\": {\"model\": 23, \"Host\": \"algo-1\", \"Operation\": \"training\", \"Algorithm\": \"Linear Learner\", \"epoch\": 8}, \"StartTime\": 1520935825.536737}\n",
      "\u001b[0m\n",
      "\u001b[31m#metrics {\"Metrics\": {\"training_binary_classification_cross_entropy\": {\"count\": 1, \"max\": 0.012726223472520769, \"sum\": 0.012726223472520769, \"min\": 0.012726223472520769}, \"validation_binary_classification_cross_entropy\": {\"count\": 1, \"max\": -Infinity, \"sum\": NaN, \"min\": Infinity}}, \"EndTime\": 1520935825.536824, \"Dimensions\": {\"model\": 24, \"Host\": \"algo-1\", \"Operation\": \"training\", \"Algorithm\": \"Linear Learner\", \"epoch\": 8}, \"StartTime\": 1520935825.536803}\n",
      "\u001b[0m\n",
      "\u001b[31m#metrics {\"Metrics\": {\"training_binary_classification_cross_entropy\": {\"count\": 1, \"max\": 0.012722106522854312, \"sum\": 0.012722106522854312, \"min\": 0.012722106522854312}, \"validation_binary_classification_cross_entropy\": {\"count\": 1, \"max\": -Infinity, \"sum\": NaN, \"min\": Infinity}}, \"EndTime\": 1520935825.536864, \"Dimensions\": {\"model\": 25, \"Host\": \"algo-1\", \"Operation\": \"training\", \"Algorithm\": \"Linear Learner\", \"epoch\": 8}, \"StartTime\": 1520935825.536853}\n",
      "\u001b[0m\n",
      "\u001b[31m#metrics {\"Metrics\": {\"training_binary_classification_cross_entropy\": {\"count\": 1, \"max\": 0.012706393057173753, \"sum\": 0.012706393057173753, \"min\": 0.012706393057173753}, \"validation_binary_classification_cross_entropy\": {\"count\": 1, \"max\": -Infinity, \"sum\": NaN, \"min\": Infinity}}, \"EndTime\": 1520935825.536926, \"Dimensions\": {\"model\": 26, \"Host\": \"algo-1\", \"Operation\": \"training\", \"Algorithm\": \"Linear Learner\", \"epoch\": 8}, \"StartTime\": 1520935825.536909}\n",
      "\u001b[0m\n",
      "\u001b[31m#metrics {\"Metrics\": {\"training_binary_classification_cross_entropy\": {\"count\": 1, \"max\": 0.01272216352099276, \"sum\": 0.01272216352099276, \"min\": 0.01272216352099276}, \"validation_binary_classification_cross_entropy\": {\"count\": 1, \"max\": -Infinity, \"sum\": NaN, \"min\": Infinity}}, \"EndTime\": 1520935825.536974, \"Dimensions\": {\"model\": 27, \"Host\": \"algo-1\", \"Operation\": \"training\", \"Algorithm\": \"Linear Learner\", \"epoch\": 8}, \"StartTime\": 1520935825.53696}\n",
      "\u001b[0m\n",
      "\u001b[31m#metrics {\"Metrics\": {\"training_binary_classification_cross_entropy\": {\"count\": 1, \"max\": 0.012702869320490274, \"sum\": 0.012702869320490274, \"min\": 0.012702869320490274}, \"validation_binary_classification_cross_entropy\": {\"count\": 1, \"max\": -Infinity, \"sum\": NaN, \"min\": Infinity}}, \"EndTime\": 1520935825.537037, \"Dimensions\": {\"model\": 28, \"Host\": \"algo-1\", \"Operation\": \"training\", \"Algorithm\": \"Linear Learner\", \"epoch\": 8}, \"StartTime\": 1520935825.537017}\n",
      "\u001b[0m\n",
      "\u001b[31m#metrics {\"Metrics\": {\"training_binary_classification_cross_entropy\": {\"count\": 1, \"max\": 0.013068543827931685, \"sum\": 0.013068543827931685, \"min\": 0.013068543827931685}, \"validation_binary_classification_cross_entropy\": {\"count\": 1, \"max\": -Infinity, \"sum\": NaN, \"min\": Infinity}}, \"EndTime\": 1520935825.537089, \"Dimensions\": {\"model\": 29, \"Host\": \"algo-1\", \"Operation\": \"training\", \"Algorithm\": \"Linear Learner\", \"epoch\": 8}, \"StartTime\": 1520935825.537069}\n",
      "\u001b[0m\n",
      "\u001b[31m#metrics {\"Metrics\": {\"training_binary_classification_cross_entropy\": {\"count\": 1, \"max\": 0.01270383550385275, \"sum\": 0.01270383550385275, \"min\": 0.01270383550385275}, \"validation_binary_classification_cross_entropy\": {\"count\": 1, \"max\": -Infinity, \"sum\": NaN, \"min\": Infinity}}, \"EndTime\": 1520935825.537157, \"Dimensions\": {\"model\": 30, \"Host\": \"algo-1\", \"Operation\": \"training\", \"Algorithm\": \"Linear Learner\", \"epoch\": 8}, \"StartTime\": 1520935825.537136}\n",
      "\u001b[0m\n",
      "\u001b[31m#metrics {\"Metrics\": {\"training_binary_classification_cross_entropy\": {\"count\": 1, \"max\": 0.013068431260655204, \"sum\": 0.013068431260655204, \"min\": 0.013068431260655204}, \"validation_binary_classification_cross_entropy\": {\"count\": 1, \"max\": -Infinity, \"sum\": NaN, \"min\": Infinity}}, \"EndTime\": 1520935825.537209, \"Dimensions\": {\"model\": 31, \"Host\": \"algo-1\", \"Operation\": \"training\", \"Algorithm\": \"Linear Learner\", \"epoch\": 8}, \"StartTime\": 1520935825.537189}\n",
      "\u001b[0m\n",
      "\u001b[31m[03/13/2018 10:10:25 INFO 139642387044160] Epoch 8: Loss improved.  Updating best model\u001b[0m\n",
      "\u001b[31m#metrics {\"Metrics\": {\"Max Batches Seen Between Resets\": {\"count\": 1, \"max\": 997, \"sum\": 997.0, \"min\": 997}, \"Number of Batches Since Last Reset\": {\"count\": 1, \"max\": 997, \"sum\": 997.0, \"min\": 997}, \"Number of Records Since Last Reset\": {\"count\": 1, \"max\": 199364, \"sum\": 199364.0, \"min\": 199364}, \"Total Batches Seen\": {\"count\": 1, \"max\": 8028, \"sum\": 8028.0, \"min\": 8028}, \"Total Records Seen\": {\"count\": 1, \"max\": 1605312, \"sum\": 1605312.0, \"min\": 1605312}, \"Max Records Seen Between Resets\": {\"count\": 1, \"max\": 199364, \"sum\": 199364.0, \"min\": 199364}, \"Reset Count\": {\"count\": 1, \"max\": 10, \"sum\": 10.0, \"min\": 10}}, \"EndTime\": 1520935825.53835, \"Dimensions\": {\"Host\": \"algo-1\", \"Meta\": \"training_data_iter\", \"Operation\": \"training\", \"Algorithm\": \"Linear Learner\", \"epoch\": 7}, \"StartTime\": 1520935825.538314}\n",
      "\u001b[0m\n"
     ]
    },
    {
     "name": "stdout",
     "output_type": "stream",
     "text": [
      "\u001b[31m#metrics {\"Metrics\": {\"training_binary_classification_cross_entropy\": {\"count\": 1, \"max\": 0.004505496464639783, \"sum\": 0.004505496464639783, \"min\": 0.004505496464639783}, \"validation_binary_classification_cross_entropy\": {\"count\": 1, \"max\": -Infinity, \"sum\": NaN, \"min\": Infinity}}, \"EndTime\": 1520935863.76322, \"Dimensions\": {\"model\": 0, \"Host\": \"algo-1\", \"Operation\": \"training\", \"Algorithm\": \"Linear Learner\", \"epoch\": 9}, \"StartTime\": 1520935863.763132}\n",
      "\u001b[0m\n",
      "\u001b[31m#metrics {\"Metrics\": {\"training_binary_classification_cross_entropy\": {\"count\": 1, \"max\": 0.004010293117862748, \"sum\": 0.004010293117862748, \"min\": 0.004010293117862748}, \"validation_binary_classification_cross_entropy\": {\"count\": 1, \"max\": -Infinity, \"sum\": NaN, \"min\": Infinity}}, \"EndTime\": 1520935863.763306, \"Dimensions\": {\"model\": 1, \"Host\": \"algo-1\", \"Operation\": \"training\", \"Algorithm\": \"Linear Learner\", \"epoch\": 9}, \"StartTime\": 1520935863.763287}\n",
      "\u001b[0m\n",
      "\u001b[31m#metrics {\"Metrics\": {\"training_binary_classification_cross_entropy\": {\"count\": 1, \"max\": 0.0042553444329394875, \"sum\": 0.0042553444329394875, \"min\": 0.0042553444329394875}, \"validation_binary_classification_cross_entropy\": {\"count\": 1, \"max\": -Infinity, \"sum\": NaN, \"min\": Infinity}}, \"EndTime\": 1520935863.763373, \"Dimensions\": {\"model\": 2, \"Host\": \"algo-1\", \"Operation\": \"training\", \"Algorithm\": \"Linear Learner\", \"epoch\": 9}, \"StartTime\": 1520935863.763352}\n",
      "\u001b[0m\n",
      "\u001b[31m#metrics {\"Metrics\": {\"training_binary_classification_cross_entropy\": {\"count\": 1, \"max\": 0.004009794285090782, \"sum\": 0.004009794285090782, \"min\": 0.004009794285090782}, \"validation_binary_classification_cross_entropy\": {\"count\": 1, \"max\": -Infinity, \"sum\": NaN, \"min\": Infinity}}, \"EndTime\": 1520935863.763424, \"Dimensions\": {\"model\": 3, \"Host\": \"algo-1\", \"Operation\": \"training\", \"Algorithm\": \"Linear Learner\", \"epoch\": 9}, \"StartTime\": 1520935863.763409}\n",
      "\u001b[0m\n",
      "\u001b[31m#metrics {\"Metrics\": {\"training_binary_classification_cross_entropy\": {\"count\": 1, \"max\": 0.00386691662254762, \"sum\": 0.00386691662254762, \"min\": 0.00386691662254762}, \"validation_binary_classification_cross_entropy\": {\"count\": 1, \"max\": -Infinity, \"sum\": NaN, \"min\": Infinity}}, \"EndTime\": 1520935863.76348, \"Dimensions\": {\"model\": 4, \"Host\": \"algo-1\", \"Operation\": \"training\", \"Algorithm\": \"Linear Learner\", \"epoch\": 9}, \"StartTime\": 1520935863.763462}\n",
      "\u001b[0m\n",
      "\u001b[31m#metrics {\"Metrics\": {\"training_binary_classification_cross_entropy\": {\"count\": 1, \"max\": 0.006915447515173465, \"sum\": 0.006915447515173465, \"min\": 0.006915447515173465}, \"validation_binary_classification_cross_entropy\": {\"count\": 1, \"max\": -Infinity, \"sum\": NaN, \"min\": Infinity}}, \"EndTime\": 1520935863.763554, \"Dimensions\": {\"model\": 5, \"Host\": \"algo-1\", \"Operation\": \"training\", \"Algorithm\": \"Linear Learner\", \"epoch\": 9}, \"StartTime\": 1520935863.76353}\n",
      "\u001b[0m\n",
      "\u001b[31m#metrics {\"Metrics\": {\"training_binary_classification_cross_entropy\": {\"count\": 1, \"max\": 0.003849467492314527, \"sum\": 0.003849467492314527, \"min\": 0.003849467492314527}, \"validation_binary_classification_cross_entropy\": {\"count\": 1, \"max\": -Infinity, \"sum\": NaN, \"min\": Infinity}}, \"EndTime\": 1520935863.763627, \"Dimensions\": {\"model\": 6, \"Host\": \"algo-1\", \"Operation\": \"training\", \"Algorithm\": \"Linear Learner\", \"epoch\": 9}, \"StartTime\": 1520935863.763603}\n",
      "\u001b[0m\n",
      "\u001b[31m#metrics {\"Metrics\": {\"training_binary_classification_cross_entropy\": {\"count\": 1, \"max\": 0.006020300454856551, \"sum\": 0.006020300454856551, \"min\": 0.006020300454856551}, \"validation_binary_classification_cross_entropy\": {\"count\": 1, \"max\": -Infinity, \"sum\": NaN, \"min\": Infinity}}, \"EndTime\": 1520935863.763696, \"Dimensions\": {\"model\": 7, \"Host\": \"algo-1\", \"Operation\": \"training\", \"Algorithm\": \"Linear Learner\", \"epoch\": 9}, \"StartTime\": 1520935863.763673}\n",
      "\u001b[0m\n",
      "\u001b[31m#metrics {\"Metrics\": {\"training_binary_classification_cross_entropy\": {\"count\": 1, \"max\": 0.005221268920355054, \"sum\": 0.005221268920355054, \"min\": 0.005221268920355054}, \"validation_binary_classification_cross_entropy\": {\"count\": 1, \"max\": -Infinity, \"sum\": NaN, \"min\": Infinity}}, \"EndTime\": 1520935863.763767, \"Dimensions\": {\"model\": 8, \"Host\": \"algo-1\", \"Operation\": \"training\", \"Algorithm\": \"Linear Learner\", \"epoch\": 9}, \"StartTime\": 1520935863.763748}\n",
      "\u001b[0m\n",
      "\u001b[31m#metrics {\"Metrics\": {\"training_binary_classification_cross_entropy\": {\"count\": 1, \"max\": 0.004992413661222022, \"sum\": 0.004992413661222022, \"min\": 0.004992413661222022}, \"validation_binary_classification_cross_entropy\": {\"count\": 1, \"max\": -Infinity, \"sum\": NaN, \"min\": Infinity}}, \"EndTime\": 1520935863.76382, \"Dimensions\": {\"model\": 9, \"Host\": \"algo-1\", \"Operation\": \"training\", \"Algorithm\": \"Linear Learner\", \"epoch\": 9}, \"StartTime\": 1520935863.763804}\n",
      "\u001b[0m\n",
      "\u001b[31m#metrics {\"Metrics\": {\"training_binary_classification_cross_entropy\": {\"count\": 1, \"max\": 0.005048058589164871, \"sum\": 0.005048058589164871, \"min\": 0.005048058589164871}, \"validation_binary_classification_cross_entropy\": {\"count\": 1, \"max\": -Infinity, \"sum\": NaN, \"min\": Infinity}}, \"EndTime\": 1520935863.763891, \"Dimensions\": {\"model\": 10, \"Host\": \"algo-1\", \"Operation\": \"training\", \"Algorithm\": \"Linear Learner\", \"epoch\": 9}, \"StartTime\": 1520935863.763868}\n",
      "\u001b[0m\n",
      "\u001b[31m#metrics {\"Metrics\": {\"training_binary_classification_cross_entropy\": {\"count\": 1, \"max\": 0.004992413620827308, \"sum\": 0.004992413620827308, \"min\": 0.004992413620827308}, \"validation_binary_classification_cross_entropy\": {\"count\": 1, \"max\": -Infinity, \"sum\": NaN, \"min\": Infinity}}, \"EndTime\": 1520935863.763963, \"Dimensions\": {\"model\": 11, \"Host\": \"algo-1\", \"Operation\": \"training\", \"Algorithm\": \"Linear Learner\", \"epoch\": 9}, \"StartTime\": 1520935863.763939}\n",
      "\u001b[0m\n",
      "\u001b[31m#metrics {\"Metrics\": {\"training_binary_classification_cross_entropy\": {\"count\": 1, \"max\": 0.004898119441207394, \"sum\": 0.004898119441207394, \"min\": 0.004898119441207394}, \"validation_binary_classification_cross_entropy\": {\"count\": 1, \"max\": -Infinity, \"sum\": NaN, \"min\": Infinity}}, \"EndTime\": 1520935863.764035, \"Dimensions\": {\"model\": 12, \"Host\": \"algo-1\", \"Operation\": \"training\", \"Algorithm\": \"Linear Learner\", \"epoch\": 9}, \"StartTime\": 1520935863.764012}\n",
      "\u001b[0m\n",
      "\u001b[31m#metrics {\"Metrics\": {\"training_binary_classification_cross_entropy\": {\"count\": 1, \"max\": 0.006300828574878916, \"sum\": 0.006300828574878916, \"min\": 0.006300828574878916}, \"validation_binary_classification_cross_entropy\": {\"count\": 1, \"max\": -Infinity, \"sum\": NaN, \"min\": Infinity}}, \"EndTime\": 1520935863.764105, \"Dimensions\": {\"model\": 13, \"Host\": \"algo-1\", \"Operation\": \"training\", \"Algorithm\": \"Linear Learner\", \"epoch\": 9}, \"StartTime\": 1520935863.764082}\n",
      "\u001b[0m\n",
      "\u001b[31m#metrics {\"Metrics\": {\"training_binary_classification_cross_entropy\": {\"count\": 1, \"max\": 0.0049045469777950325, \"sum\": 0.0049045469777950325, \"min\": 0.0049045469777950325}, \"validation_binary_classification_cross_entropy\": {\"count\": 1, \"max\": -Infinity, \"sum\": NaN, \"min\": Infinity}}, \"EndTime\": 1520935863.764175, \"Dimensions\": {\"model\": 14, \"Host\": \"algo-1\", \"Operation\": \"training\", \"Algorithm\": \"Linear Learner\", \"epoch\": 9}, \"StartTime\": 1520935863.764152}\n",
      "\u001b[0m\n",
      "\u001b[31m#metrics {\"Metrics\": {\"training_binary_classification_cross_entropy\": {\"count\": 1, \"max\": 0.006300838523816474, \"sum\": 0.006300838523816474, \"min\": 0.006300838523816474}, \"validation_binary_classification_cross_entropy\": {\"count\": 1, \"max\": -Infinity, \"sum\": NaN, \"min\": Infinity}}, \"EndTime\": 1520935863.764244, \"Dimensions\": {\"model\": 15, \"Host\": \"algo-1\", \"Operation\": \"training\", \"Algorithm\": \"Linear Learner\", \"epoch\": 9}, \"StartTime\": 1520935863.764223}\n",
      "\u001b[0m\n",
      "\u001b[31m#metrics {\"Metrics\": {\"training_binary_classification_cross_entropy\": {\"count\": 1, \"max\": 0.011783242223851652, \"sum\": 0.011783242223851652, \"min\": 0.011783242223851652}, \"validation_binary_classification_cross_entropy\": {\"count\": 1, \"max\": -Infinity, \"sum\": NaN, \"min\": Infinity}}, \"EndTime\": 1520935863.764314, \"Dimensions\": {\"model\": 16, \"Host\": \"algo-1\", \"Operation\": \"training\", \"Algorithm\": \"Linear Learner\", \"epoch\": 9}, \"StartTime\": 1520935863.764292}\n",
      "\u001b[0m\n",
      "\u001b[31m#metrics {\"Metrics\": {\"training_binary_classification_cross_entropy\": {\"count\": 1, \"max\": 0.011846591975973791, \"sum\": 0.011846591975973791, \"min\": 0.011846591975973791}, \"validation_binary_classification_cross_entropy\": {\"count\": 1, \"max\": -Infinity, \"sum\": NaN, \"min\": Infinity}}, \"EndTime\": 1520935863.764384, \"Dimensions\": {\"model\": 17, \"Host\": \"algo-1\", \"Operation\": \"training\", \"Algorithm\": \"Linear Learner\", \"epoch\": 9}, \"StartTime\": 1520935863.764362}\n",
      "\u001b[0m\n",
      "\u001b[31m#metrics {\"Metrics\": {\"training_binary_classification_cross_entropy\": {\"count\": 1, \"max\": 0.01177007754090201, \"sum\": 0.01177007754090201, \"min\": 0.01177007754090201}, \"validation_binary_classification_cross_entropy\": {\"count\": 1, \"max\": -Infinity, \"sum\": NaN, \"min\": Infinity}}, \"EndTime\": 1520935863.764453, \"Dimensions\": {\"model\": 18, \"Host\": \"algo-1\", \"Operation\": \"training\", \"Algorithm\": \"Linear Learner\", \"epoch\": 9}, \"StartTime\": 1520935863.764432}\n",
      "\u001b[0m\n",
      "\u001b[31m#metrics {\"Metrics\": {\"training_binary_classification_cross_entropy\": {\"count\": 1, \"max\": 0.011846590325924528, \"sum\": 0.011846590325924528, \"min\": 0.011846590325924528}, \"validation_binary_classification_cross_entropy\": {\"count\": 1, \"max\": -Infinity, \"sum\": NaN, \"min\": Infinity}}, \"EndTime\": 1520935863.764505, \"Dimensions\": {\"model\": 19, \"Host\": \"algo-1\", \"Operation\": \"training\", \"Algorithm\": \"Linear Learner\", \"epoch\": 9}, \"StartTime\": 1520935863.764485}\n",
      "\u001b[0m\n",
      "\u001b[31m#metrics {\"Metrics\": {\"training_binary_classification_cross_entropy\": {\"count\": 1, \"max\": 0.011764718600993894, \"sum\": 0.011764718600993894, \"min\": 0.011764718600993894}, \"validation_binary_classification_cross_entropy\": {\"count\": 1, \"max\": -Infinity, \"sum\": NaN, \"min\": Infinity}}, \"EndTime\": 1520935863.764556, \"Dimensions\": {\"model\": 20, \"Host\": \"algo-1\", \"Operation\": \"training\", \"Algorithm\": \"Linear Learner\", \"epoch\": 9}, \"StartTime\": 1520935863.764536}\n",
      "\u001b[0m\n",
      "\u001b[31m#metrics {\"Metrics\": {\"training_binary_classification_cross_entropy\": {\"count\": 1, \"max\": 0.012089582446618492, \"sum\": 0.012089582446618492, \"min\": 0.012089582446618492}, \"validation_binary_classification_cross_entropy\": {\"count\": 1, \"max\": -Infinity, \"sum\": NaN, \"min\": Infinity}}, \"EndTime\": 1520935863.764629, \"Dimensions\": {\"model\": 21, \"Host\": \"algo-1\", \"Operation\": \"training\", \"Algorithm\": \"Linear Learner\", \"epoch\": 9}, \"StartTime\": 1520935863.764607}\n",
      "\u001b[0m\n",
      "\u001b[31m#metrics {\"Metrics\": {\"training_binary_classification_cross_entropy\": {\"count\": 1, \"max\": 0.011769188991990913, \"sum\": 0.011769188991990913, \"min\": 0.011769188991990913}, \"validation_binary_classification_cross_entropy\": {\"count\": 1, \"max\": -Infinity, \"sum\": NaN, \"min\": Infinity}}, \"EndTime\": 1520935863.764703, \"Dimensions\": {\"model\": 22, \"Host\": \"algo-1\", \"Operation\": \"training\", \"Algorithm\": \"Linear Learner\", \"epoch\": 9}, \"StartTime\": 1520935863.764681}\n",
      "\u001b[0m\n",
      "\u001b[31m#metrics {\"Metrics\": {\"training_binary_classification_cross_entropy\": {\"count\": 1, \"max\": 0.01208958860191266, \"sum\": 0.01208958860191266, \"min\": 0.01208958860191266}, \"validation_binary_classification_cross_entropy\": {\"count\": 1, \"max\": -Infinity, \"sum\": NaN, \"min\": Infinity}}, \"EndTime\": 1520935863.764772, \"Dimensions\": {\"model\": 23, \"Host\": \"algo-1\", \"Operation\": \"training\", \"Algorithm\": \"Linear Learner\", \"epoch\": 9}, \"StartTime\": 1520935863.76475}\n",
      "\u001b[0m\n",
      "\u001b[31m#metrics {\"Metrics\": {\"training_binary_classification_cross_entropy\": {\"count\": 1, \"max\": 0.012723508118894923, \"sum\": 0.012723508118894923, \"min\": 0.012723508118894923}, \"validation_binary_classification_cross_entropy\": {\"count\": 1, \"max\": -Infinity, \"sum\": NaN, \"min\": Infinity}}, \"EndTime\": 1520935863.764837, \"Dimensions\": {\"model\": 24, \"Host\": \"algo-1\", \"Operation\": \"training\", \"Algorithm\": \"Linear Learner\", \"epoch\": 9}, \"StartTime\": 1520935863.764819}\n",
      "\u001b[0m\n",
      "\u001b[31m#metrics {\"Metrics\": {\"training_binary_classification_cross_entropy\": {\"count\": 1, \"max\": 0.012721733193859518, \"sum\": 0.012721733193859518, \"min\": 0.012721733193859518}, \"validation_binary_classification_cross_entropy\": {\"count\": 1, \"max\": -Infinity, \"sum\": NaN, \"min\": Infinity}}, \"EndTime\": 1520935863.764904, \"Dimensions\": {\"model\": 25, \"Host\": \"algo-1\", \"Operation\": \"training\", \"Algorithm\": \"Linear Learner\", \"epoch\": 9}, \"StartTime\": 1520935863.764884}\n",
      "\u001b[0m\n",
      "\u001b[31m#metrics {\"Metrics\": {\"training_binary_classification_cross_entropy\": {\"count\": 1, \"max\": 0.012704492828034493, \"sum\": 0.012704492828034493, \"min\": 0.012704492828034493}, \"validation_binary_classification_cross_entropy\": {\"count\": 1, \"max\": -Infinity, \"sum\": NaN, \"min\": Infinity}}, \"EndTime\": 1520935863.764966, \"Dimensions\": {\"model\": 26, \"Host\": \"algo-1\", \"Operation\": \"training\", \"Algorithm\": \"Linear Learner\", \"epoch\": 9}, \"StartTime\": 1520935863.764945}\n",
      "\u001b[0m\n",
      "\u001b[31m#metrics {\"Metrics\": {\"training_binary_classification_cross_entropy\": {\"count\": 1, \"max\": 0.012721765919412714, \"sum\": 0.012721765919412714, \"min\": 0.012721765919412714}, \"validation_binary_classification_cross_entropy\": {\"count\": 1, \"max\": -Infinity, \"sum\": NaN, \"min\": Infinity}}, \"EndTime\": 1520935863.765042, \"Dimensions\": {\"model\": 27, \"Host\": \"algo-1\", \"Operation\": \"training\", \"Algorithm\": \"Linear Learner\", \"epoch\": 9}, \"StartTime\": 1520935863.76502}\n",
      "\u001b[0m\n",
      "\u001b[31m#metrics {\"Metrics\": {\"training_binary_classification_cross_entropy\": {\"count\": 1, \"max\": 0.012702389768059234, \"sum\": 0.012702389768059234, \"min\": 0.012702389768059234}, \"validation_binary_classification_cross_entropy\": {\"count\": 1, \"max\": -Infinity, \"sum\": NaN, \"min\": Infinity}}, \"EndTime\": 1520935863.765108, \"Dimensions\": {\"model\": 28, \"Host\": \"algo-1\", \"Operation\": \"training\", \"Algorithm\": \"Linear Learner\", \"epoch\": 9}, \"StartTime\": 1520935863.765086}\n",
      "\u001b[0m\n",
      "\u001b[31m#metrics {\"Metrics\": {\"training_binary_classification_cross_entropy\": {\"count\": 1, \"max\": 0.013035495161587545, \"sum\": 0.013035495161587545, \"min\": 0.013035495161587545}, \"validation_binary_classification_cross_entropy\": {\"count\": 1, \"max\": -Infinity, \"sum\": NaN, \"min\": Infinity}}, \"EndTime\": 1520935863.765176, \"Dimensions\": {\"model\": 29, \"Host\": \"algo-1\", \"Operation\": \"training\", \"Algorithm\": \"Linear Learner\", \"epoch\": 9}, \"StartTime\": 1520935863.765154}\n",
      "\u001b[0m\n",
      "\u001b[31m#metrics {\"Metrics\": {\"training_binary_classification_cross_entropy\": {\"count\": 1, \"max\": 0.01270381375653557, \"sum\": 0.01270381375653557, \"min\": 0.01270381375653557}, \"validation_binary_classification_cross_entropy\": {\"count\": 1, \"max\": -Infinity, \"sum\": NaN, \"min\": Infinity}}, \"EndTime\": 1520935863.76525, \"Dimensions\": {\"model\": 30, \"Host\": \"algo-1\", \"Operation\": \"training\", \"Algorithm\": \"Linear Learner\", \"epoch\": 9}, \"StartTime\": 1520935863.765227}\n",
      "\u001b[0m\n",
      "\u001b[31m#metrics {\"Metrics\": {\"training_binary_classification_cross_entropy\": {\"count\": 1, \"max\": 0.013035462793190945, \"sum\": 0.013035462793190945, \"min\": 0.013035462793190945}, \"validation_binary_classification_cross_entropy\": {\"count\": 1, \"max\": -Infinity, \"sum\": NaN, \"min\": Infinity}}, \"EndTime\": 1520935863.765317, \"Dimensions\": {\"model\": 31, \"Host\": \"algo-1\", \"Operation\": \"training\", \"Algorithm\": \"Linear Learner\", \"epoch\": 9}, \"StartTime\": 1520935863.765295}\n",
      "\u001b[0m\n",
      "\u001b[31m#metrics {\"Metrics\": {\"Max Batches Seen Between Resets\": {\"count\": 1, \"max\": 997, \"sum\": 997.0, \"min\": 997}, \"Number of Batches Since Last Reset\": {\"count\": 1, \"max\": 997, \"sum\": 997.0, \"min\": 997}, \"Number of Records Since Last Reset\": {\"count\": 1, \"max\": 199364, \"sum\": 199364.0, \"min\": 199364}, \"Total Batches Seen\": {\"count\": 1, \"max\": 9025, \"sum\": 9025.0, \"min\": 9025}, \"Total Records Seen\": {\"count\": 1, \"max\": 1804676, \"sum\": 1804676.0, \"min\": 1804676}, \"Max Records Seen Between Resets\": {\"count\": 1, \"max\": 199364, \"sum\": 199364.0, \"min\": 199364}, \"Reset Count\": {\"count\": 1, \"max\": 11, \"sum\": 11.0, \"min\": 11}}, \"EndTime\": 1520935863.765602, \"Dimensions\": {\"Host\": \"algo-1\", \"Meta\": \"training_data_iter\", \"Operation\": \"training\", \"Algorithm\": \"Linear Learner\", \"epoch\": 8}, \"StartTime\": 1520935863.765548}\n",
      "\u001b[0m\n"
     ]
    },
    {
     "name": "stdout",
     "output_type": "stream",
     "text": [
      "\u001b[31m#metrics {\"Metrics\": {\"training_binary_classification_cross_entropy\": {\"count\": 1, \"max\": 0.004484349691110802, \"sum\": 0.004484349691110802, \"min\": 0.004484349691110802}, \"validation_binary_classification_cross_entropy\": {\"count\": 1, \"max\": -Infinity, \"sum\": NaN, \"min\": Infinity}}, \"EndTime\": 1520935901.91758, \"Dimensions\": {\"model\": 0, \"Host\": \"algo-1\", \"Operation\": \"training\", \"Algorithm\": \"Linear Learner\", \"epoch\": 10}, \"StartTime\": 1520935901.91745}\n",
      "\u001b[0m\n",
      "\u001b[31m#metrics {\"Metrics\": {\"training_binary_classification_cross_entropy\": {\"count\": 1, \"max\": 0.00402259058017942, \"sum\": 0.00402259058017942, \"min\": 0.00402259058017942}, \"validation_binary_classification_cross_entropy\": {\"count\": 1, \"max\": -Infinity, \"sum\": NaN, \"min\": Infinity}}, \"EndTime\": 1520935901.917689, \"Dimensions\": {\"model\": 1, \"Host\": \"algo-1\", \"Operation\": \"training\", \"Algorithm\": \"Linear Learner\", \"epoch\": 10}, \"StartTime\": 1520935901.917666}\n",
      "\u001b[0m\n",
      "\u001b[31m#metrics {\"Metrics\": {\"training_binary_classification_cross_entropy\": {\"count\": 1, \"max\": 0.004211591096056334, \"sum\": 0.004211591096056334, \"min\": 0.004211591096056334}, \"validation_binary_classification_cross_entropy\": {\"count\": 1, \"max\": -Infinity, \"sum\": NaN, \"min\": Infinity}}, \"EndTime\": 1520935901.91776, \"Dimensions\": {\"model\": 2, \"Host\": \"algo-1\", \"Operation\": \"training\", \"Algorithm\": \"Linear Learner\", \"epoch\": 10}, \"StartTime\": 1520935901.91774}\n",
      "\u001b[0m\n",
      "\u001b[31m#metrics {\"Metrics\": {\"training_binary_classification_cross_entropy\": {\"count\": 1, \"max\": 0.004024087728027359, \"sum\": 0.004024087728027359, \"min\": 0.004024087728027359}, \"validation_binary_classification_cross_entropy\": {\"count\": 1, \"max\": -Infinity, \"sum\": NaN, \"min\": Infinity}}, \"EndTime\": 1520935901.917824, \"Dimensions\": {\"model\": 3, \"Host\": \"algo-1\", \"Operation\": \"training\", \"Algorithm\": \"Linear Learner\", \"epoch\": 10}, \"StartTime\": 1520935901.917805}\n",
      "\u001b[0m\n",
      "\u001b[31m#metrics {\"Metrics\": {\"training_binary_classification_cross_entropy\": {\"count\": 1, \"max\": 0.00386533543815365, \"sum\": 0.00386533543815365, \"min\": 0.00386533543815365}, \"validation_binary_classification_cross_entropy\": {\"count\": 1, \"max\": -Infinity, \"sum\": NaN, \"min\": Infinity}}, \"EndTime\": 1520935901.917884, \"Dimensions\": {\"model\": 4, \"Host\": \"algo-1\", \"Operation\": \"training\", \"Algorithm\": \"Linear Learner\", \"epoch\": 10}, \"StartTime\": 1520935901.917866}\n",
      "\u001b[0m\n",
      "\u001b[31m#metrics {\"Metrics\": {\"training_binary_classification_cross_entropy\": {\"count\": 1, \"max\": 0.005654576864391827, \"sum\": 0.005654576864391827, \"min\": 0.005654576864391827}, \"validation_binary_classification_cross_entropy\": {\"count\": 1, \"max\": -Infinity, \"sum\": NaN, \"min\": Infinity}}, \"EndTime\": 1520935901.91794, \"Dimensions\": {\"model\": 5, \"Host\": \"algo-1\", \"Operation\": \"training\", \"Algorithm\": \"Linear Learner\", \"epoch\": 10}, \"StartTime\": 1520935901.917922}\n",
      "\u001b[0m\n",
      "\u001b[31m#metrics {\"Metrics\": {\"training_binary_classification_cross_entropy\": {\"count\": 1, \"max\": 0.0038483884434840345, \"sum\": 0.0038483884434840345, \"min\": 0.0038483884434840345}, \"validation_binary_classification_cross_entropy\": {\"count\": 1, \"max\": -Infinity, \"sum\": NaN, \"min\": Infinity}}, \"EndTime\": 1520935901.917994, \"Dimensions\": {\"model\": 6, \"Host\": \"algo-1\", \"Operation\": \"training\", \"Algorithm\": \"Linear Learner\", \"epoch\": 10}, \"StartTime\": 1520935901.917976}\n",
      "\u001b[0m\n",
      "\u001b[31m#metrics {\"Metrics\": {\"training_binary_classification_cross_entropy\": {\"count\": 1, \"max\": 0.0058446863352930745, \"sum\": 0.0058446863352930745, \"min\": 0.0058446863352930745}, \"validation_binary_classification_cross_entropy\": {\"count\": 1, \"max\": -Infinity, \"sum\": NaN, \"min\": Infinity}}, \"EndTime\": 1520935901.918057, \"Dimensions\": {\"model\": 7, \"Host\": \"algo-1\", \"Operation\": \"training\", \"Algorithm\": \"Linear Learner\", \"epoch\": 10}, \"StartTime\": 1520935901.918038}\n",
      "\u001b[0m\n",
      "\u001b[31m#metrics {\"Metrics\": {\"training_binary_classification_cross_entropy\": {\"count\": 1, \"max\": 0.00520785849070154, \"sum\": 0.00520785849070154, \"min\": 0.00520785849070154}, \"validation_binary_classification_cross_entropy\": {\"count\": 1, \"max\": -Infinity, \"sum\": NaN, \"min\": Infinity}}, \"EndTime\": 1520935901.91812, \"Dimensions\": {\"model\": 8, \"Host\": \"algo-1\", \"Operation\": \"training\", \"Algorithm\": \"Linear Learner\", \"epoch\": 10}, \"StartTime\": 1520935901.918101}\n",
      "\u001b[0m\n",
      "\u001b[31m#metrics {\"Metrics\": {\"training_binary_classification_cross_entropy\": {\"count\": 1, \"max\": 0.004985605148845408, \"sum\": 0.004985605148845408, \"min\": 0.004985605148845408}, \"validation_binary_classification_cross_entropy\": {\"count\": 1, \"max\": -Infinity, \"sum\": NaN, \"min\": Infinity}}, \"EndTime\": 1520935901.918181, \"Dimensions\": {\"model\": 9, \"Host\": \"algo-1\", \"Operation\": \"training\", \"Algorithm\": \"Linear Learner\", \"epoch\": 10}, \"StartTime\": 1520935901.918163}\n",
      "\u001b[0m\n",
      "\u001b[31m#metrics {\"Metrics\": {\"training_binary_classification_cross_entropy\": {\"count\": 1, \"max\": 0.00501769044058749, \"sum\": 0.00501769044058749, \"min\": 0.00501769044058749}, \"validation_binary_classification_cross_entropy\": {\"count\": 1, \"max\": -Infinity, \"sum\": NaN, \"min\": Infinity}}, \"EndTime\": 1520935901.918243, \"Dimensions\": {\"model\": 10, \"Host\": \"algo-1\", \"Operation\": \"training\", \"Algorithm\": \"Linear Learner\", \"epoch\": 10}, \"StartTime\": 1520935901.918225}\n",
      "\u001b[0m\n",
      "\u001b[31m#metrics {\"Metrics\": {\"training_binary_classification_cross_entropy\": {\"count\": 1, \"max\": 0.004985605566145246, \"sum\": 0.004985605566145246, \"min\": 0.004985605566145246}, \"validation_binary_classification_cross_entropy\": {\"count\": 1, \"max\": -Infinity, \"sum\": NaN, \"min\": Infinity}}, \"EndTime\": 1520935901.918304, \"Dimensions\": {\"model\": 11, \"Host\": \"algo-1\", \"Operation\": \"training\", \"Algorithm\": \"Linear Learner\", \"epoch\": 10}, \"StartTime\": 1520935901.918286}\n",
      "\u001b[0m\n",
      "\u001b[31m#metrics {\"Metrics\": {\"training_binary_classification_cross_entropy\": {\"count\": 1, \"max\": 0.00489719802117252, \"sum\": 0.00489719802117252, \"min\": 0.00489719802117252}, \"validation_binary_classification_cross_entropy\": {\"count\": 1, \"max\": -Infinity, \"sum\": NaN, \"min\": Infinity}}, \"EndTime\": 1520935901.918365, \"Dimensions\": {\"model\": 12, \"Host\": \"algo-1\", \"Operation\": \"training\", \"Algorithm\": \"Linear Learner\", \"epoch\": 10}, \"StartTime\": 1520935901.918348}\n",
      "\u001b[0m\n",
      "\u001b[31m#metrics {\"Metrics\": {\"training_binary_classification_cross_entropy\": {\"count\": 1, \"max\": 0.006017270903420975, \"sum\": 0.006017270903420975, \"min\": 0.006017270903420975}, \"validation_binary_classification_cross_entropy\": {\"count\": 1, \"max\": -Infinity, \"sum\": NaN, \"min\": Infinity}}, \"EndTime\": 1520935901.918425, \"Dimensions\": {\"model\": 13, \"Host\": \"algo-1\", \"Operation\": \"training\", \"Algorithm\": \"Linear Learner\", \"epoch\": 10}, \"StartTime\": 1520935901.918407}\n",
      "\u001b[0m\n",
      "\u001b[31m#metrics {\"Metrics\": {\"training_binary_classification_cross_entropy\": {\"count\": 1, \"max\": 0.004904112131540555, \"sum\": 0.004904112131540555, \"min\": 0.004904112131540555}, \"validation_binary_classification_cross_entropy\": {\"count\": 1, \"max\": -Infinity, \"sum\": NaN, \"min\": Infinity}}, \"EndTime\": 1520935901.918486, \"Dimensions\": {\"model\": 14, \"Host\": \"algo-1\", \"Operation\": \"training\", \"Algorithm\": \"Linear Learner\", \"epoch\": 10}, \"StartTime\": 1520935901.918468}\n",
      "\u001b[0m\n",
      "\u001b[31m#metrics {\"Metrics\": {\"training_binary_classification_cross_entropy\": {\"count\": 1, \"max\": 0.006017276760392699, \"sum\": 0.006017276760392699, \"min\": 0.006017276760392699}, \"validation_binary_classification_cross_entropy\": {\"count\": 1, \"max\": -Infinity, \"sum\": NaN, \"min\": Infinity}}, \"EndTime\": 1520935901.918546, \"Dimensions\": {\"model\": 15, \"Host\": \"algo-1\", \"Operation\": \"training\", \"Algorithm\": \"Linear Learner\", \"epoch\": 10}, \"StartTime\": 1520935901.918528}\n",
      "\u001b[0m\n",
      "\u001b[31m#metrics {\"Metrics\": {\"training_binary_classification_cross_entropy\": {\"count\": 1, \"max\": 0.011780606644699373, \"sum\": 0.011780606644699373, \"min\": 0.011780606644699373}, \"validation_binary_classification_cross_entropy\": {\"count\": 1, \"max\": -Infinity, \"sum\": NaN, \"min\": Infinity}}, \"EndTime\": 1520935901.918606, \"Dimensions\": {\"model\": 16, \"Host\": \"algo-1\", \"Operation\": \"training\", \"Algorithm\": \"Linear Learner\", \"epoch\": 10}, \"StartTime\": 1520935901.918589}\n",
      "\u001b[0m\n",
      "\u001b[31m#metrics {\"Metrics\": {\"training_binary_classification_cross_entropy\": {\"count\": 1, \"max\": 0.011844644642708053, \"sum\": 0.011844644642708053, \"min\": 0.011844644642708053}, \"validation_binary_classification_cross_entropy\": {\"count\": 1, \"max\": -Infinity, \"sum\": NaN, \"min\": Infinity}}, \"EndTime\": 1520935901.918668, \"Dimensions\": {\"model\": 17, \"Host\": \"algo-1\", \"Operation\": \"training\", \"Algorithm\": \"Linear Learner\", \"epoch\": 10}, \"StartTime\": 1520935901.91865}\n",
      "\u001b[0m\n",
      "\u001b[31m#metrics {\"Metrics\": {\"training_binary_classification_cross_entropy\": {\"count\": 1, \"max\": 0.011769445450101272, \"sum\": 0.011769445450101272, \"min\": 0.011769445450101272}, \"validation_binary_classification_cross_entropy\": {\"count\": 1, \"max\": -Infinity, \"sum\": NaN, \"min\": Infinity}}, \"EndTime\": 1520935901.918729, \"Dimensions\": {\"model\": 18, \"Host\": \"algo-1\", \"Operation\": \"training\", \"Algorithm\": \"Linear Learner\", \"epoch\": 10}, \"StartTime\": 1520935901.918711}\n",
      "\u001b[0m\n",
      "\u001b[31m#metrics {\"Metrics\": {\"training_binary_classification_cross_entropy\": {\"count\": 1, \"max\": 0.011844643967966717, \"sum\": 0.011844643967966717, \"min\": 0.011844643967966717}, \"validation_binary_classification_cross_entropy\": {\"count\": 1, \"max\": -Infinity, \"sum\": NaN, \"min\": Infinity}}, \"EndTime\": 1520935901.918812, \"Dimensions\": {\"model\": 19, \"Host\": \"algo-1\", \"Operation\": \"training\", \"Algorithm\": \"Linear Learner\", \"epoch\": 10}, \"StartTime\": 1520935901.918791}\n",
      "\u001b[0m\n",
      "\u001b[31m#metrics {\"Metrics\": {\"training_binary_classification_cross_entropy\": {\"count\": 1, \"max\": 0.011761395070686877, \"sum\": 0.011761395070686877, \"min\": 0.011761395070686877}, \"validation_binary_classification_cross_entropy\": {\"count\": 1, \"max\": -Infinity, \"sum\": NaN, \"min\": Infinity}}, \"EndTime\": 1520935901.918875, \"Dimensions\": {\"model\": 20, \"Host\": \"algo-1\", \"Operation\": \"training\", \"Algorithm\": \"Linear Learner\", \"epoch\": 10}, \"StartTime\": 1520935901.918857}\n",
      "\u001b[0m\n",
      "\u001b[31m#metrics {\"Metrics\": {\"training_binary_classification_cross_entropy\": {\"count\": 1, \"max\": 0.012047038052163749, \"sum\": 0.012047038052163749, \"min\": 0.012047038052163749}, \"validation_binary_classification_cross_entropy\": {\"count\": 1, \"max\": -Infinity, \"sum\": NaN, \"min\": Infinity}}, \"EndTime\": 1520935901.918933, \"Dimensions\": {\"model\": 21, \"Host\": \"algo-1\", \"Operation\": \"training\", \"Algorithm\": \"Linear Learner\", \"epoch\": 10}, \"StartTime\": 1520935901.918916}\n",
      "\u001b[0m\n",
      "\u001b[31m#metrics {\"Metrics\": {\"training_binary_classification_cross_entropy\": {\"count\": 1, \"max\": 0.011769212986899907, \"sum\": 0.011769212986899907, \"min\": 0.011769212986899907}, \"validation_binary_classification_cross_entropy\": {\"count\": 1, \"max\": -Infinity, \"sum\": NaN, \"min\": Infinity}}, \"EndTime\": 1520935901.91903, \"Dimensions\": {\"model\": 22, \"Host\": \"algo-1\", \"Operation\": \"training\", \"Algorithm\": \"Linear Learner\", \"epoch\": 10}, \"StartTime\": 1520935901.919008}\n",
      "\u001b[0m\n",
      "\u001b[31m#metrics {\"Metrics\": {\"training_binary_classification_cross_entropy\": {\"count\": 1, \"max\": 0.01204704018556569, \"sum\": 0.01204704018556569, \"min\": 0.01204704018556569}, \"validation_binary_classification_cross_entropy\": {\"count\": 1, \"max\": -Infinity, \"sum\": NaN, \"min\": Infinity}}, \"EndTime\": 1520935901.91909, \"Dimensions\": {\"model\": 23, \"Host\": \"algo-1\", \"Operation\": \"training\", \"Algorithm\": \"Linear Learner\", \"epoch\": 10}, \"StartTime\": 1520935901.919072}\n",
      "\u001b[0m\n",
      "\u001b[31m#metrics {\"Metrics\": {\"training_binary_classification_cross_entropy\": {\"count\": 1, \"max\": 0.012720975071550851, \"sum\": 0.012720975071550851, \"min\": 0.012720975071550851}, \"validation_binary_classification_cross_entropy\": {\"count\": 1, \"max\": -Infinity, \"sum\": NaN, \"min\": Infinity}}, \"EndTime\": 1520935901.919152, \"Dimensions\": {\"model\": 24, \"Host\": \"algo-1\", \"Operation\": \"training\", \"Algorithm\": \"Linear Learner\", \"epoch\": 10}, \"StartTime\": 1520935901.919134}\n",
      "\u001b[0m\n",
      "\u001b[31m#metrics {\"Metrics\": {\"training_binary_classification_cross_entropy\": {\"count\": 1, \"max\": 0.012720586996091656, \"sum\": 0.012720586996091656, \"min\": 0.012720586996091656}, \"validation_binary_classification_cross_entropy\": {\"count\": 1, \"max\": -Infinity, \"sum\": NaN, \"min\": Infinity}}, \"EndTime\": 1520935901.919214, \"Dimensions\": {\"model\": 25, \"Host\": \"algo-1\", \"Operation\": \"training\", \"Algorithm\": \"Linear Learner\", \"epoch\": 10}, \"StartTime\": 1520935901.919196}\n",
      "\u001b[0m\n",
      "\u001b[31m#metrics {\"Metrics\": {\"training_binary_classification_cross_entropy\": {\"count\": 1, \"max\": 0.01270391387992116, \"sum\": 0.01270391387992116, \"min\": 0.01270391387992116}, \"validation_binary_classification_cross_entropy\": {\"count\": 1, \"max\": -Infinity, \"sum\": NaN, \"min\": Infinity}}, \"EndTime\": 1520935901.919277, \"Dimensions\": {\"model\": 26, \"Host\": \"algo-1\", \"Operation\": \"training\", \"Algorithm\": \"Linear Learner\", \"epoch\": 10}, \"StartTime\": 1520935901.919258}\n",
      "\u001b[0m\n",
      "\u001b[31m#metrics {\"Metrics\": {\"training_binary_classification_cross_entropy\": {\"count\": 1, \"max\": 0.012720593902540494, \"sum\": 0.012720593902540494, \"min\": 0.012720593902540494}, \"validation_binary_classification_cross_entropy\": {\"count\": 1, \"max\": -Infinity, \"sum\": NaN, \"min\": Infinity}}, \"EndTime\": 1520935901.919334, \"Dimensions\": {\"model\": 27, \"Host\": \"algo-1\", \"Operation\": \"training\", \"Algorithm\": \"Linear Learner\", \"epoch\": 10}, \"StartTime\": 1520935901.919316}\n",
      "\u001b[0m\n",
      "\u001b[31m#metrics {\"Metrics\": {\"training_binary_classification_cross_entropy\": {\"count\": 1, \"max\": 0.01270207732137906, \"sum\": 0.01270207732137906, \"min\": 0.01270207732137906}, \"validation_binary_classification_cross_entropy\": {\"count\": 1, \"max\": -Infinity, \"sum\": NaN, \"min\": Infinity}}, \"EndTime\": 1520935901.919388, \"Dimensions\": {\"model\": 28, \"Host\": \"algo-1\", \"Operation\": \"training\", \"Algorithm\": \"Linear Learner\", \"epoch\": 10}, \"StartTime\": 1520935901.919371}\n",
      "\u001b[0m\n",
      "\u001b[31m#metrics {\"Metrics\": {\"training_binary_classification_cross_entropy\": {\"count\": 1, \"max\": 0.013001564730736746, \"sum\": 0.013001564730736746, \"min\": 0.013001564730736746}, \"validation_binary_classification_cross_entropy\": {\"count\": 1, \"max\": -Infinity, \"sum\": NaN, \"min\": Infinity}}, \"EndTime\": 1520935901.919443, \"Dimensions\": {\"model\": 29, \"Host\": \"algo-1\", \"Operation\": \"training\", \"Algorithm\": \"Linear Learner\", \"epoch\": 10}, \"StartTime\": 1520935901.919426}\n",
      "\u001b[0m\n",
      "\u001b[31m#metrics {\"Metrics\": {\"training_binary_classification_cross_entropy\": {\"count\": 1, \"max\": 0.012703782003746934, \"sum\": 0.012703782003746934, \"min\": 0.012703782003746934}, \"validation_binary_classification_cross_entropy\": {\"count\": 1, \"max\": -Infinity, \"sum\": NaN, \"min\": Infinity}}, \"EndTime\": 1520935901.919504, \"Dimensions\": {\"model\": 30, \"Host\": \"algo-1\", \"Operation\": \"training\", \"Algorithm\": \"Linear Learner\", \"epoch\": 10}, \"StartTime\": 1520935901.919487}\n",
      "\u001b[0m\n",
      "\u001b[31m#metrics {\"Metrics\": {\"training_binary_classification_cross_entropy\": {\"count\": 1, \"max\": 0.013001554601836994, \"sum\": 0.013001554601836994, \"min\": 0.013001554601836994}, \"validation_binary_classification_cross_entropy\": {\"count\": 1, \"max\": -Infinity, \"sum\": NaN, \"min\": Infinity}}, \"EndTime\": 1520935901.919561, \"Dimensions\": {\"model\": 31, \"Host\": \"algo-1\", \"Operation\": \"training\", \"Algorithm\": \"Linear Learner\", \"epoch\": 10}, \"StartTime\": 1520935901.919544}\n",
      "\u001b[0m\n",
      "\u001b[31m#metrics {\"Metrics\": {\"Max Batches Seen Between Resets\": {\"count\": 1, \"max\": 997, \"sum\": 997.0, \"min\": 997}, \"Number of Batches Since Last Reset\": {\"count\": 1, \"max\": 997, \"sum\": 997.0, \"min\": 997}, \"Number of Records Since Last Reset\": {\"count\": 1, \"max\": 199364, \"sum\": 199364.0, \"min\": 199364}, \"Total Batches Seen\": {\"count\": 1, \"max\": 10022, \"sum\": 10022.0, \"min\": 10022}, \"Total Records Seen\": {\"count\": 1, \"max\": 2004040, \"sum\": 2004040.0, \"min\": 2004040}, \"Max Records Seen Between Resets\": {\"count\": 1, \"max\": 199364, \"sum\": 199364.0, \"min\": 199364}, \"Reset Count\": {\"count\": 1, \"max\": 12, \"sum\": 12.0, \"min\": 12}}, \"EndTime\": 1520935901.919832, \"Dimensions\": {\"Host\": \"algo-1\", \"Meta\": \"training_data_iter\", \"Operation\": \"training\", \"Algorithm\": \"Linear Learner\", \"epoch\": 9}, \"StartTime\": 1520935901.919778}\n",
      "\u001b[0m\n",
      "\u001b[31m[03/13/2018 10:11:41 WARNING 139642387044160] wait_for_all_workers will not sync workers since the kv store is not running distributed\u001b[0m\n",
      "\u001b[31m[03/13/2018 10:11:41 WARNING 139642387044160] wait_for_all_workers will not sync workers since the kv store is not running distributed\u001b[0m\n",
      "\u001b[31m#metrics {\"Metrics\": {\"f1\": {\"count\": 1, \"max\": 0.7965116279069767, \"sum\": 0.7965116279069767, \"min\": 0.7965116279069767}, \"threshold_for_accuracy\": {\"count\": 1, \"max\": 0.09898779541254044, \"sum\": 0.09898779541254044, \"min\": 0.09898779541254044}, \"threshold_for_precision_at_target_recall\": {\"count\": 1, \"max\": 0.059171270579099655, \"sum\": 0.059171270579099655, \"min\": 0.059171270579099655}, \"threshold_for_recall_at_target_precision\": {\"count\": 1, \"max\": 0.09898779541254044, \"sum\": 0.09898779541254044, \"min\": 0.09898779541254044}, \"recall_at_precision\": {\"count\": 1, \"max\": 0.7826086956522369, \"sum\": 0.7826086956522369, \"min\": 0.7826086956522369}, \"precision_at_target_recall\": {\"count\": 1, \"max\": 0.7793296089386091, \"sum\": 0.7793296089386091, \"min\": 0.7793296089386091}, \"accuracy\": {\"count\": 1, \"max\": 0.9993027828494613, \"sum\": 0.9993027828494613, \"min\": 0.9993027828494613}, \"threshold_for_f1\": {\"count\": 1, \"max\": 0.08682582527399063, \"sum\": 0.08682582527399063, \"min\": 0.08682582527399063}}, \"EndTime\": 1520935903.932269, \"Dimensions\": {\"model\": 0, \"Host\": \"algo-1\", \"Operation\": \"training\", \"Algorithm\": \"Linear Learner\"}, \"StartTime\": 1520935903.922585}\n",
      "\u001b[0m\n",
      "\u001b[31m[03/13/2018 10:11:43 INFO 139642387044160] Selection criteria: accuracy\u001b[0m\n",
      "\u001b[31mmodel: 0\u001b[0m\n",
      "\u001b[31mthreshold: 0.098988\u001b[0m\n",
      "\u001b[31mscore: 0.999303\u001b[0m\n",
      "\u001b[31m[03/13/2018 10:11:43 INFO 139642387044160] Saved checkpoint to \"/tmp/tmpYnlji1/mx-mod-0000.params\"\u001b[0m\n",
      "\u001b[31m[03/13/2018 10:11:43 INFO 139642387044160] Test data was not provided.\u001b[0m\n",
      "\u001b[31m#metrics {\"Metrics\": {\"totaltime\": {\"count\": 1, \"max\": 388094.6159362793, \"sum\": 388094.6159362793, \"min\": 388094.6159362793}, \"finalize.time\": {\"count\": 1, \"max\": 2017.1160697937012, \"sum\": 2017.1160697937012, \"min\": 2017.1160697937012}, \"initialize.time\": {\"count\": 1, \"max\": 3341.4840698242188, \"sum\": 3341.4840698242188, \"min\": 3341.4840698242188}, \"check_early_stopping.time\": {\"count\": 10, \"max\": 1.241922378540039, \"sum\": 8.175373077392578, \"min\": 0.09107589721679688}, \"setuptime\": {\"count\": 1, \"max\": 28.1219482421875, \"sum\": 28.1219482421875, \"min\": 28.1219482421875}, \"update.time\": {\"count\": 10, \"max\": 39513.81802558899, \"sum\": 382643.45026016235, \"min\": 38063.045024871826}, \"epochs\": {\"count\": 1, \"max\": 10, \"sum\": 10.0, \"min\": 10}}, \"EndTime\": 1520935903.944303, \"Dimensions\": {\"Host\": \"algo-1\", \"Operation\": \"training\", \"Algorithm\": \"Linear Learner\"}, \"StartTime\": 1520935515.916434}\n",
      "\u001b[0m\n"
     ]
    },
    {
     "name": "stdout",
     "output_type": "stream",
     "text": [
      "===== Job Complete =====\n"
     ]
    }
   ],
   "source": [
    "sess = sagemaker.Session()\n",
    "\n",
    "#Instantiating Estimator\n",
    "linear = sagemaker.estimator.Estimator(containers[boto3.Session().region_name],\n",
    "                                       role, #S3 role, so the notebook can read the data and upload the model\n",
    "                                       train_instance_count=1, #number of instances for training\n",
    "                                       train_instance_type='ml.p2.xlarge', # type of training instance\n",
    "                                       output_path=output_location, #s3 location for uploading trained mdoel\n",
    "                                       sagemaker_session=sess)\n",
    "\n",
    "#Setting hyperparameters\n",
    "linear.set_hyperparameters(feature_dim=30, #dataset has 30 columns (features)\n",
    "                           predictor_type='binary_classifier', # we predict a binary value. it could have been regressor\n",
    "                           mini_batch_size=200)\n",
    "\n",
    "#Calling fit that results in training the model\n",
    "linear.fit({'train': s3_train_data})"
   ]
  },
  {
   "cell_type": "markdown",
   "metadata": {},
   "source": [
    "### Monitoring your training job\n",
    "Amazon SageMaker has logs training using Amazon CloudWatch. The logs are located under aws/TrainingJobs\n",
    "![training logs](../images/logging.png)\n",
    "\n",
    "Amazon SageMaker also provides a set of Metrics. Metrics include:\n",
    "- Memory Utilization\n",
    "- CPU Utilization\n",
    "- GPU Utilization\n",
    "- Disk Utilization\n",
    "You can use these metrics to size your training cluster accordingly.\n",
    "\n",
    "We would also measure whether we have chosen the correct Amazon EC2 profile for the model training. The following screenshot shows utilization of the resources.\n",
    "The picture below shows that our GPU in underutilized. Generally for a linear model, a p2 instance is an overkill.\n",
    "\n",
    "![util](../images/underutilization.png)\n"
   ]
  },
  {
   "cell_type": "markdown",
   "metadata": {
    "nbpresent": {
     "id": "4c358790-fbeb-4134-98da-44a9fd2f0a0a"
    }
   },
   "source": [
    "# Amazon SageMaker process - Hosting the model\n",
    "Now that we have completed and saved the training job, we can venture into creating endpoints. Amazon SageMaker requires a single line of code in order to create a fully managed and elastically scalable endpoint environment. \n",
    "\n",
    "Amazon SageMaker takes your model artefacts from the Amazon S3 bucket and Dockerizes them. It also creates an [Amazon ECS (Amazon Elastic Container Service)](https://aws.amazon.com/documentation/ecs/) infrastructre, fronted with an [ELB or ElasticLoadBalncer](https://aws.amazon.com/documentation/elastic-load-balancing/).\n",
    "\n",
    "The instances are also members of an [Auto Scaling Group](https://docs.aws.amazon.com/autoscaling/ec2/userguide/AutoScalingGroup.html), meaning that based on the incoming load the number of underlying EC2 instances can grow and shrink dynamically. \n",
    "\n",
    "Model hosting is independent of how you develop your models, meaning that you do not need to develop your model within Amazon SageMaker or use Amazon Algorithms in order to host your models in Amazon SageMaker. \n",
    "\n",
    "This blog is focused on LinearLearner. So hosting your own models is out of the scope of this blog post. For more information please refer to [Amazon SageMaker doumentation](https://docs.aws.amazon.com/sagemaker/latest/dg/your-algorithms.html)\n",
    "\n",
    "From the class diagram we delved into previously, we can remember that EstimatorBase implements a method called `deploy()`. All the deployment magic happens through a single call to `Estimator.deploy()`\n",
    "\n",
    "We pass initial cluster size and instance type to `deploy()`. \n",
    "```python\n",
    "linear_predictor = linear.deploy(initial_instance_count=1, #Initial number of instances. \n",
    "                                                           #Autoscaling can increase the number of instances.\n",
    "                                 instance_type='ml.m4.xlarge') # instance type\n",
    "```\n",
    "\n",
    "\n",
    "## Model class hierarchy\n",
    "![Model](../images/model.png)\n",
    "\n",
    "\n",
    "## Predictor Class \n",
    "![predictor](../images/predictor.png)\n"
   ]
  },
  {
   "cell_type": "code",
   "execution_count": 21,
   "metadata": {
    "nbpresent": {
     "id": "2d9a143f-c309-4634-a8a4-98bd2dea8678"
    }
   },
   "outputs": [
    {
     "name": "stderr",
     "output_type": "stream",
     "text": [
      "INFO:sagemaker:Creating model with name: linear-learner-2018-03-13-10-26-27-683\n",
      "INFO:sagemaker:Creating endpoint with name linear-learner-2018-03-13-09-59-05-546\n"
     ]
    },
    {
     "name": "stdout",
     "output_type": "stream",
     "text": [
      "---------------------------------------------------------------------------------------------------------------!"
     ]
    }
   ],
   "source": [
    "linear_predictor = linear.deploy(initial_instance_count=1, #Initial number of instances. \n",
    "                                                           #Autoscaling can increase the number of instances.\n",
    "                                 instance_type='ml.m4.xlarge') # instance type"
   ]
  },
  {
   "cell_type": "code",
   "execution_count": 57,
   "metadata": {},
   "outputs": [
    {
     "data": {
      "text/plain": [
       "sagemaker.predictor.RealTimePredictor"
      ]
     },
     "execution_count": 57,
     "metadata": {},
     "output_type": "execute_result"
    }
   ],
   "source": [
    "type(linear_predictor)"
   ]
  },
  {
   "cell_type": "markdown",
   "metadata": {},
   "source": [
    "## SageMaker process - Prediction\n",
    "`Estimator.deploy()` eventually returns a `sagemaker.predictor.RealTimePredictor` object. `sagemaker.predictor.RealTimePredictor` implements a method called `predict()`, which is used to make live predictions.\n",
    "\n",
    "Predictors in Amazon Sagemaker accept CSV and JSON. In this blog we use JSON serialization."
   ]
  },
  {
   "cell_type": "code",
   "execution_count": 58,
   "metadata": {
    "collapsed": true,
    "nbpresent": {
     "id": "ccabbb87-c916-47c3-90b3-2fbb8b5e2fd4"
    }
   },
   "outputs": [],
   "source": [
    "linear_predictor.content_type = 'text/csv'\n",
    "linear_predictor.serializer = csv_serializer\n",
    "linear_predictor.deserializer = json_deserializer"
   ]
  },
  {
   "cell_type": "markdown",
   "metadata": {},
   "source": [
    "Since Fraudulent records are rare, I have created an array of all records in a validation set with *\"Class==1\"* in order to test model accuracy by testing the predictor endpoint on ranges that in fact includes fraudulent transactions.\n",
    "\n",
    "You can observe that record number 516 is correctly predicted to be a fraud when we would run prediction in range of 515-519, as is shown in the following snippet.\n",
    "\n",
    "*\n",
    "{'predictions': [{'score': 0.0006907652714289725, 'predicted_label': 0.0}, **{'score': 0.9957004189491272, 'predicted_label': 1.0}**, {'score': 0.0006745134014636278, 'predicted_label': 0.0}, {'score': 0.0006603851797990501, 'predicted_label': 0.0}]}\n",
    "*"
   ]
  },
  {
   "cell_type": "code",
   "execution_count": 59,
   "metadata": {
    "nbpresent": {
     "id": "8a8d4e2f-5ffb-48bb-b4d0-297b4b9ccb14"
    }
   },
   "outputs": [
    {
     "name": "stdout",
     "output_type": "stream",
     "text": [
      "[516, 765, 867, 2636, 2704, 3360, 3583, 4111, 4482, 5115, 6463, 7810, 8008, 8420, 9171, 9178, 10236, 10591, 10604, 10701, 11363, 13516, 14479, 15167, 15396, 15949, 16334, 16348, 16982, 17309, 17698, 18155, 19023, 19048, 19116, 20236, 20382, 20701, 21038, 21080, 21509, 22228, 24887, 25425, 25840, 26055, 26797, 27138, 27982, 28853, 30106, 30733, 31027, 31317, 31353, 32757, 33018, 33285, 33710, 34422, 34926, 35447, 35595, 35699, 35700, 35922, 37207, 39095, 39165, 39623, 39954, 40098, 40486, 41384, 41871, 42159, 43274, 43573, 43641, 43798, 43949, 44281, 44954, 45959, 46102, 48351, 48763, 49023, 49041, 49576, 52158, 52165, 53136, 54002, 54994, 57241, 57242, 58254, 58297, 58298, 58707, 59283, 59350, 59791, 59795, 59966, 59981, 60137, 60226, 60260, 60705, 62107, 62426, 64015, 64309, 64645, 65028, 66338, 68281, 69096, 69159, 69280, 69344, 69487, 69530, 71003, 71055, 71580, 72302, 73057, 73358, 73389, 73644, 75015, 75384, 77773, 77821, 77843, 78179, 79448, 79479, 80184, 82184, 82484, 83329, 85205, 85541, 85631, 85798, 86175, 86542, 86984, 87085, 87275, 87322, 90181, 90636, 91183, 94353, 94395, 94646, 94958, 95182, 96212, 97344, 98572, 98904, 99231, 99719, 99722, 99935, 100199, 100509, 101493, 101808, 102346, 102709, 103100, 103570, 103714, 104054, 104246, 104450, 105055, 105240, 106181, 106214, 106812, 106911, 107044, 108243, 108951, 109621, 111525, 111778, 112474, 112756, 113534, 113714, 114785, 115154, 115852, 117623, 117682, 118246, 118937, 119090, 119616, 119929, 121209, 121536, 121771, 122555, 123096, 123482, 123501, 124644, 124673, 126110, 126147, 126656, 126959, 128237, 128689, 129194, 131229, 131504, 131520, 131533, 131623, 131931, 132397, 132414, 132459, 132480, 132857, 132932, 133089, 134211, 134907, 135081, 135946, 136203, 136905, 137200, 137212, 137712, 140411, 140648, 142014, 142217, 142953, 143797, 143830, 144571, 145568, 145766, 146034, 146213, 147399, 147729, 148246, 149001, 149283, 149550, 149921, 149951, 150637, 151396, 151600, 151949, 152459, 152720, 152962, 153407, 153879, 154322, 154790, 156451, 156862, 157117, 157187, 158781, 159248, 160650, 161017, 161281, 161672, 164168, 164349, 165301, 166123, 166517, 166712, 167151, 168004, 168814, 168852, 169054, 169340, 169606, 169662, 170038, 170170, 170371, 171193, 171718, 173451, 174960, 175122, 175149, 175234, 177779, 178221, 179529, 180132, 180615, 181925, 183154, 183253, 184306, 186262, 186445, 186468, 187248, 187564, 188202, 188639, 189316, 190103, 191011, 191782, 192915, 193004, 193051, 193233, 193468, 194871, 195540, 196806, 197501, 197669, 198918, 199113, 199305]\n",
      "\n",
      "\n",
      "{'predictions': [{'score': 0.00013768798089586198, 'predicted_label': 0.0}, {'score': 1.0, 'predicted_label': 1.0}, {'score': 0.0002609600778669119, 'predicted_label': 0.0}, {'score': 0.00021634736913256347, 'predicted_label': 0.0}]}\n"
     ]
    }
   ],
   "source": [
    "#since score==1 is very rare we want to make sure we can correctly predict fradulant transaction. \n",
    "#First we print a lost of all labels where score == 1, then then run a prediction\n",
    "t = []\n",
    "for i in range(len(train_label)):\n",
    "    if train_label[i] == 1:\n",
    "        t.append(i)\n",
    "        \n",
    "print(t)\n",
    "\n",
    "print('\\n')\n",
    "print(linear_predictor.predict(train_set[0][515:519]))\n"
   ]
  },
  {
   "cell_type": "code",
   "execution_count": 60,
   "metadata": {
    "nbpresent": {
     "id": "d55359c3-9144-4079-936e-acabb15c003f"
    }
   },
   "outputs": [
    {
     "name": "stdout",
     "output_type": "stream",
     "text": [
      "validation set includes: 147 non zero and 85296 items woth value zero\n"
     ]
    }
   ],
   "source": [
    "non_zero = np.count_nonzero(test_set[1])\n",
    "zero = len(test_set[1]) - non_zero\n",
    "print(\"validation set includes: {} non zero and {} items woth value zero\".format(non_zero, zero))"
   ]
  },
  {
   "cell_type": "code",
   "execution_count": 61,
   "metadata": {
    "collapsed": true,
    "nbpresent": {
     "id": "79f4f9a3-e64b-4223-b09c-9a1133a9d55d"
    }
   },
   "outputs": [],
   "source": [
    "predictions = []\n",
    "for array in np.array_split(test_set[0], 100):\n",
    "    result = linear_predictor.predict(array)\n",
    "    predictions += [r['predicted_label'] for r in result['predictions']]\n",
    "\n",
    "predictions = np.array(predictions)"
   ]
  },
  {
   "cell_type": "code",
   "execution_count": 63,
   "metadata": {
    "nbpresent": {
     "id": "a59cccae-fced-4008-b5a8-fbd2d4deaa61"
    }
   },
   "outputs": [
    {
     "data": {
      "text/html": [
       "<div>\n",
       "<style>\n",
       "    .dataframe thead tr:only-child th {\n",
       "        text-align: right;\n",
       "    }\n",
       "\n",
       "    .dataframe thead th {\n",
       "        text-align: left;\n",
       "    }\n",
       "\n",
       "    .dataframe tbody tr th {\n",
       "        vertical-align: top;\n",
       "    }\n",
       "</style>\n",
       "<table border=\"1\" class=\"dataframe\">\n",
       "  <thead>\n",
       "    <tr style=\"text-align: right;\">\n",
       "      <th>predictions</th>\n",
       "      <th>0.0</th>\n",
       "      <th>1.0</th>\n",
       "    </tr>\n",
       "    <tr>\n",
       "      <th>actuals</th>\n",
       "      <th></th>\n",
       "      <th></th>\n",
       "    </tr>\n",
       "  </thead>\n",
       "  <tbody>\n",
       "    <tr>\n",
       "      <th>0.0</th>\n",
       "      <td>85265</td>\n",
       "      <td>31</td>\n",
       "    </tr>\n",
       "    <tr>\n",
       "      <th>1.0</th>\n",
       "      <td>29</td>\n",
       "      <td>118</td>\n",
       "    </tr>\n",
       "  </tbody>\n",
       "</table>\n",
       "</div>"
      ],
      "text/plain": [
       "predictions    0.0  1.0\n",
       "actuals                \n",
       "0.0          85265   31\n",
       "1.0             29  118"
      ]
     },
     "execution_count": 63,
     "metadata": {},
     "output_type": "execute_result"
    }
   ],
   "source": [
    "import pandas as pd\n",
    "\n",
    "pd.crosstab(test_set[1], predictions, rownames=['actuals'], colnames=['predictions'])"
   ]
  },
  {
   "cell_type": "markdown",
   "metadata": {
    "nbpresent": {
     "id": "1258c01b-c2f7-484b-a824-04123115c4e0"
    }
   },
   "source": [
    "### Analyzing the Results\n",
    "The confusion matrix above indicates that:\n",
    "- Total fraudulent transactions: 147\n",
    " - Num Examples (NE) = 85443\n",
    " - True Positive (TP) = 118\n",
    " - False Positive (FP) = 31\n",
    " - False Negative (FN) = 29\n",
    "\n",
    "- **Recall** = TP/(TP+FN) = 118/(118+29) = 0.80\n",
    "- **Precision** = TP/(TP+FP) = 118/(118+31) = 0.79\n",
    "- **Accuracy** = 1- (FP+FN)/NE = 1 - (60/85443) = 0.99\n",
    "\n",
    "The model produces a superb accuracy, but how about precision and recall? Can we improve recall to be able to pick out more fraudulent transactions accurately?\n",
    "\n",
    "We can optimize the model to balance between recall and precision. In [blog post three, \"Excel in tuning models using Amazon LinearLearner algorithm\"](linearlearner-blogpost-part3.ipynb), I will attempt to tune the model to prioritize recall over accuracy and report the results. \n",
    "\n",
    "The model performance is based on default parameters that are located in training instances in `/opt/ml/input/config/hyperparameters.json`\n",
    "\n",
    "The default parameters are:\n",
    "\n",
    "u'epochs': u'10', u'init_bias': u'0.0', u'lr_scheduler_factor': u'0.99', u'num_calibration_samples': u'10000000', u'_num_kv_servers': u'auto', u'use_bias': u'true', u'num_point_for_scaler': u'10000', u'_log_level': u'info', u'bias_lr_mult': u'10', u'lr_scheduler_step': u'100', u'init_method': u'uniform', u'init_sigma': u'0.01', u'lr_scheduler_minimum_lr': u'0.00001', **u'target_recall': u'0.8'**, **u'num_models': u'32'**, u'momentum': u'0.0', u'unbias_label': u'auto', u'wd': u'0.0', u'optimizer': u'adam', u'learning_rate': u'auto', u'_kvstore': u'auto', **u'normalize_data': u'true'**, **u'binary_classifier_model_selection_criteria': u'accuracy'**, u'use_lr_scheduler': u'true', **u'target_precision': u'0.8'**, u'force_dense': u'true', u'unbias_data': u'auto', u'init_scale': u'0.07', u'bias_wd_mult': u'0', u'mini_batch_size': u'1000', u'beta_1': u'0.9', u'loss': u'auto', u'beta_2': u'0.999', u'normalize_label': u'auto', u'_num_gpus': u'auto', u'_data_format': u'record', u'positive_example_weight_mult': u'1.0', u'l1': u'0.0'}le_weight_mult': u'1.0', u'l1': u'0.0'}\n",
    "\n",
    "\n",
    "\n",
    "A detailed description of the parameters can be found [in the Amazon SageMaker documentation](https://docs.aws.amazon.com/sagemaker/latest/dg/ll_hyperparameters.html)\n",
    "\n",
    "The most likely parameters that could be useful for improving recall are:\n",
    "- binary_classifier_model_selection_criteria\n",
    "- target_recall: *If selection criterial is set to prioritized for recall, then this value is ignored*\n",
    "- target_precision\n",
    "- num_models\n"
   ]
  },
  {
   "cell_type": "markdown",
   "metadata": {},
   "source": [
    "### Monitor the live environment\n",
    "A key feature of monitoring Amazon SageMaker endpoints is that you do not monitor infrastructure, instead, you are monitoring your models even if they might be deployed on multiple machines. This gives you a holistic view of your model performance.\n",
    "\n",
    "Amazon Cloud Watch Logs includes /aws/sagemaker/Endpoints per endpoint you create. You can use logs to monitor your model logs including all the calls to your endpoints.\n",
    "\n",
    "![endpoint_logs](../images/logging.png)\n",
    "For a graphical view of your metrics you can use Amazon Cloud Watch metrics. You can monitor your model metrics such as:\n",
    "- GPU Utilization\n",
    "- CPU Utilization\n",
    "- Latency\n",
    "- Memory Utilization\n",
    "\n",
    "For more information please see the  [Amazon SageMaker documentation](!https://docs.aws.amazon.com/sagemaker/latest/dg/monitoring-overview.html)\n",
    "\n",
    "The following screenshot is the results of several thousands of endpoint calls I performed on my Linear Learner.\n",
    "\n",
    "![monitoring](../images/metrics.png)"
   ]
  },
  {
   "cell_type": "markdown",
   "metadata": {},
   "source": [
    "# Local prediction\n",
    "It might be useful to download the model created by Amazon SageMaker training, explore the model parameters and use it for predictions locally. The following section is still experimental and the model formats and api may be changed in the future for a better user experience.\n",
    "First we need to upgrade MXNet.\n",
    "\n"
   ]
  },
  {
   "cell_type": "code",
   "execution_count": 22,
   "metadata": {},
   "outputs": [
    {
     "name": "stdout",
     "output_type": "stream",
     "text": [
      "Collecting mxnet\n",
      "  Downloading mxnet-1.1.0-py2.py3-none-manylinux1_x86_64.whl (23.7MB)\n",
      "\u001b[K    100% |████████████████████████████████| 23.8MB 46kB/s  eta 0:00:01\n",
      "\u001b[?25hCollecting numpy<=1.13.3 (from mxnet)\n",
      "  Downloading numpy-1.13.3-cp27-cp27mu-manylinux1_x86_64.whl (16.6MB)\n",
      "\u001b[K    100% |████████████████████████████████| 16.7MB 71kB/s  eta 0:00:01\n",
      "\u001b[?25hRequirement already up-to-date: requests==2.18.4 in /home/ec2-user/anaconda3/envs/mxnet_p27/lib/python2.7/site-packages (from mxnet)\n",
      "Collecting graphviz==0.8.1 (from mxnet)\n",
      "  Downloading graphviz-0.8.1-py2.py3-none-any.whl\n",
      "Requirement already up-to-date: chardet<3.1.0,>=3.0.2 in /home/ec2-user/anaconda3/envs/mxnet_p27/lib/python2.7/site-packages (from requests==2.18.4->mxnet)\n",
      "Requirement already up-to-date: idna<2.7,>=2.5 in /home/ec2-user/anaconda3/envs/mxnet_p27/lib/python2.7/site-packages (from requests==2.18.4->mxnet)\n",
      "Requirement already up-to-date: urllib3<1.23,>=1.21.1 in /home/ec2-user/anaconda3/envs/mxnet_p27/lib/python2.7/site-packages (from requests==2.18.4->mxnet)\n",
      "Collecting certifi>=2017.4.17 (from requests==2.18.4->mxnet)\n",
      "  Downloading certifi-2018.1.18-py2.py3-none-any.whl (151kB)\n",
      "\u001b[K    100% |████████████████████████████████| 153kB 7.6MB/s eta 0:00:01\n",
      "\u001b[?25hInstalling collected packages: numpy, graphviz, mxnet, certifi\n",
      "  Found existing installation: numpy 1.14.0\n",
      "    Uninstalling numpy-1.14.0:\n",
      "      Successfully uninstalled numpy-1.14.0\n",
      "  Found existing installation: graphviz 0.8.2\n",
      "    Uninstalling graphviz-0.8.2:\n",
      "      Successfully uninstalled graphviz-0.8.2\n",
      "  Found existing installation: certifi 2017.11.5\n",
      "    Uninstalling certifi-2017.11.5:\n",
      "      Successfully uninstalled certifi-2017.11.5\n",
      "Successfully installed certifi-2018.1.18 graphviz-0.8.1 mxnet-1.1.0 numpy-1.13.3\n"
     ]
    }
   ],
   "source": [
    "#upgrading mxnet\n",
    "!pip install -U mxnet"
   ]
  },
  {
   "cell_type": "markdown",
   "metadata": {},
   "source": [
    "Then download the trained model from from S3."
   ]
  },
  {
   "cell_type": "code",
   "execution_count": 41,
   "metadata": {
    "collapsed": true
   },
   "outputs": [],
   "source": [
    "\n",
    "model_s3_path = linear.model_data\n",
    "model_s3_key = \"/\".join(model_s3_path.split(\"/\")[3:])\n",
    "boto3.resource('s3').Bucket(bucket).download_file(model_s3_key, 'model.tar.gz')\n"
   ]
  },
  {
   "cell_type": "code",
   "execution_count": 42,
   "metadata": {},
   "outputs": [
    {
     "name": "stdout",
     "output_type": "stream",
     "text": [
      "linearlearner-blogpost-part1.ipynb  linearlearner-blogpost-part3.ipynb\r\n",
      "linearlearner-blogpost-part2.ipynb  model.tar.gz\r\n"
     ]
    }
   ],
   "source": [
    "!ls"
   ]
  },
  {
   "cell_type": "markdown",
   "metadata": {},
   "source": [
    "Next, we extract the model from the tarball."
   ]
  },
  {
   "cell_type": "code",
   "execution_count": 43,
   "metadata": {},
   "outputs": [
    {
     "data": {
      "text/plain": [
       "['model_algo-1']"
      ]
     },
     "execution_count": 43,
     "metadata": {},
     "output_type": "execute_result"
    }
   ],
   "source": [
    "if not os.path.exists(\"model\"):\n",
    "    os.mkdir(\"model\")\n",
    "os.system('tar -zxvf model.tar.gz -C model/')\n",
    "os.listdir(\"model\")"
   ]
  },
  {
   "cell_type": "markdown",
   "metadata": {},
   "source": [
    "Linear learner model is itself a zip file called model_algo-1. Lets explore whats in the zip-"
   ]
  },
  {
   "cell_type": "code",
   "execution_count": 45,
   "metadata": {},
   "outputs": [
    {
     "data": {
      "text/plain": [
       "['manifest.json',\n",
       " 'additional-params.json',\n",
       " 'mx-mod-0000.params',\n",
       " 'model_algo-1',\n",
       " 'mx-mod-symbol.json']"
      ]
     },
     "execution_count": 45,
     "metadata": {},
     "output_type": "execute_result"
    }
   ],
   "source": [
    "os.system('unzip model/model_algo-1 -d model')\n",
    "os.listdir(\"model\")"
   ]
  },
  {
   "cell_type": "markdown",
   "metadata": {},
   "source": [
    "The model contains a params file a and a symbol file which is serialized by mxnet, along with other metadata. We are now ready to load the model into mxnet."
   ]
  },
  {
   "cell_type": "code",
   "execution_count": 46,
   "metadata": {},
   "outputs": [
    {
     "name": "stderr",
     "output_type": "stream",
     "text": [
      "/home/ec2-user/anaconda3/envs/mxnet_p27/lib/python2.7/site-packages/mxnet/module/base_module.py:53: UserWarning: \u001b[91mYou created Module with Module(..., label_names=['softmax_label']) but input with name 'softmax_label' is not found in symbol.list_arguments(). Did you mean one of:\n",
      "\tdata\n",
      "\tout_label\u001b[0m\n",
      "  warnings.warn(msg)\n"
     ]
    }
   ],
   "source": [
    "import mxnet as mx\n",
    "mod = mx.module.Module.load(\"model/mx-mod\", 0)"
   ]
  },
  {
   "cell_type": "code",
   "execution_count": 47,
   "metadata": {},
   "outputs": [
    {
     "data": {
      "text/plain": [
       "array([  5.14778037e-07,   6.77366927e-02,  -3.98861319e-02,\n",
       "         2.14127526e-02,   5.64191937e-01,   5.36445566e-02,\n",
       "        -4.14882898e-02,  -1.21941768e-01,  -1.64590880e-01,\n",
       "        -2.93201268e-01,  -5.89762866e-01,   1.64103396e-02,\n",
       "         6.63065410e-04,  -1.73284978e-01,  -6.38051331e-01,\n",
       "        -1.23316392e-01,  -2.46714443e-01,   7.47996569e-02,\n",
       "        -4.46788920e-03,   2.05700174e-02,  -2.84751415e-01,\n",
       "         3.23608547e-01,   5.39889812e-01,  -1.34267092e-01,\n",
       "         1.07920095e-01,  -3.63967977e-02,  -1.29571691e-01,\n",
       "        -4.43223298e-01,  -2.10074008e-01,   4.18556534e-04], dtype=float32)"
      ]
     },
     "execution_count": 47,
     "metadata": {},
     "output_type": "execute_result"
    }
   ],
   "source": [
    "weight = mod._arg_params['fc0_weight'].asnumpy().flatten()\n",
    "weight"
   ]
  },
  {
   "cell_type": "code",
   "execution_count": 48,
   "metadata": {},
   "outputs": [
    {
     "data": {
      "text/plain": [
       "array([-8.55558109], dtype=float32)"
      ]
     },
     "execution_count": 48,
     "metadata": {},
     "output_type": "execute_result"
    }
   ],
   "source": [
    "bias = mod._arg_params['fc0_bias'].asnumpy().flatten()\n",
    "bias"
   ]
  },
  {
   "cell_type": "code",
   "execution_count": 49,
   "metadata": {},
   "outputs": [
    {
     "name": "stderr",
     "output_type": "stream",
     "text": [
      "/home/ec2-user/anaconda3/envs/mxnet_p27/lib/python2.7/site-packages/mxnet/module/base_module.py:65: UserWarning: Data provided by label_shapes don't match names specified by label_names ([] vs. ['softmax_label'])\n",
      "  warnings.warn(msg)\n"
     ]
    }
   ],
   "source": [
    "test_data_iter = mx.io.NDArrayIter(data=val_data)\n",
    "mod.bind(test_data_iter.provide_data)\n",
    "predictions = mod.predict(test_data_iter)"
   ]
  },
  {
   "cell_type": "code",
   "execution_count": 50,
   "metadata": {},
   "outputs": [
    {
     "data": {
      "text/plain": [
       "\n",
       "[[ 0.]\n",
       " [ 0.]\n",
       " [ 0.]\n",
       " [ 0.]\n",
       " [ 0.]]\n",
       "<NDArray 5x1 @cpu(0)>"
      ]
     },
     "execution_count": 50,
     "metadata": {},
     "output_type": "execute_result"
    }
   ],
   "source": [
    "import json\n",
    "additional_params = json.load(open(\"model/additional-params.json\"))\n",
    "threshold = additional_params[\"threshold\"]\n",
    "predictions = predictions >= threshold\n",
    "predictions[0:5]"
   ]
  },
  {
   "cell_type": "code",
   "execution_count": 51,
   "metadata": {
    "collapsed": true
   },
   "outputs": [],
   "source": [
    "dot = np.dot(val_data, weight) + bias\n",
    "np_predictions = 1 / (1 + np.exp(-dot)) > threshold"
   ]
  },
  {
   "cell_type": "code",
   "execution_count": 53,
   "metadata": {},
   "outputs": [
    {
     "data": {
      "text/html": [
       "<div>\n",
       "<style>\n",
       "    .dataframe thead tr:only-child th {\n",
       "        text-align: right;\n",
       "    }\n",
       "\n",
       "    .dataframe thead th {\n",
       "        text-align: left;\n",
       "    }\n",
       "\n",
       "    .dataframe tbody tr th {\n",
       "        vertical-align: top;\n",
       "    }\n",
       "</style>\n",
       "<table border=\"1\" class=\"dataframe\">\n",
       "  <thead>\n",
       "    <tr style=\"text-align: right;\">\n",
       "      <th>predictions</th>\n",
       "      <th>False</th>\n",
       "      <th>True</th>\n",
       "    </tr>\n",
       "    <tr>\n",
       "      <th>actuals</th>\n",
       "      <th></th>\n",
       "      <th></th>\n",
       "    </tr>\n",
       "  </thead>\n",
       "  <tbody>\n",
       "    <tr>\n",
       "      <th>0.0</th>\n",
       "      <td>85266</td>\n",
       "      <td>30</td>\n",
       "    </tr>\n",
       "    <tr>\n",
       "      <th>1.0</th>\n",
       "      <td>39</td>\n",
       "      <td>108</td>\n",
       "    </tr>\n",
       "  </tbody>\n",
       "</table>\n",
       "</div>"
      ],
      "text/plain": [
       "predictions  False  True \n",
       "actuals                  \n",
       "0.0          85266     30\n",
       "1.0             39    108"
      ]
     },
     "execution_count": 53,
     "metadata": {},
     "output_type": "execute_result"
    }
   ],
   "source": [
    "pd.crosstab(test_set[1], np_predictions, rownames=['actuals'], colnames=['predictions'])"
   ]
  },
  {
   "cell_type": "markdown",
   "metadata": {
    "nbpresent": {
     "id": "94a82f75-6c54-49bd-8e92-fce009ac4422"
    }
   },
   "source": [
    "# Delete the endpoint\n",
    "If you're ready to be done with this notebook, please run the delete_endpoint line in the cell below. This will remove the hosted endpoint you created and avoid any charges you could incur from a stray instance being left on."
   ]
  },
  {
   "cell_type": "markdown",
   "metadata": {},
   "source": [
    "# What’s next \n",
    "In blog post 1, [Blog post one: Linear Regression and Binary Classification, a Friendly Introduction](linearlearner-blogpost-part1.ipynb), I provide you with a basic introduction to linear regression. I also provide references to implement your own linear regression, both from scratch and using MXNet and Gluon.\n",
    "\n",
    "In the current blog post, [blog post 2, Getting Hands-On with Linear Learner and Amazon SageMaker](linearlearner-blogpost-part2.ipynb), I download the [Visa dataset from Kaggle](https://www.kaggle.com/mlg-ulb/creditcardfraud/data) from an Amazon S3 location to my notebook instance and pre-process it to feed the data to the algorithm. We can then create a live endpoint and make predictions using trained models. \n",
    "\n",
    "NEXT: [Blog post three: Excel in tuning models using the Amazon Linear Learner Algorithm](linearlearner-blogpost-part3.ipynb). In this blog post I attempt to fine-tune the model on the Visa dataset to see whether or not the recall could be improved.\n"
   ]
  },
  {
   "cell_type": "code",
   "execution_count": 21,
   "metadata": {},
   "outputs": [
    {
     "data": {
      "image/png": "[encoded data removed]",
      "text/plain": [
       "<Figure size 1080x1080 with 1 Axes>"
      ]
     },
     "metadata": {},
     "output_type": "display_data"
    }
   ],
   "source": [
    "import matplotlib.pyplot as plt\n",
    "fraudcnt = df.Class[df.Class==1].count()\n",
    "nfc = df.Class.count() - fraudcnt\n",
    "# Pie chart, where the slices will be ordered and plotted counter-clockwise:\n",
    "labels = 'Fraud', 'Not Fraud'\n",
    "sizes = [fraudcnt, nfc]\n",
    "explode = (0, .2)  # only \"explode\" the 2nd slice (i.e. 'Hogs')\n",
    "\n",
    "fig1, ax1 = plt.subplots(figsize=(15, 15))\n",
    "\n",
    "wedges, texts, autotexts = ax1.pie(sizes, explode=explode, labels=labels, autopct='%1.1f%%', \n",
    "        shadow=False, startangle=90, textprops=dict(color=\"w\"))\n",
    "ax1.axis('equal')  # Equal aspect ratio ensures that pie is drawn as a circle.\n",
    "plt.setp(autotexts, size=24, weight=\"bold\")\n",
    "plt.setp(texts, size=24, weight=\"bold\")\n",
    "\n",
    "plt.show()"
   ]
  },
  {
   "cell_type": "code",
   "execution_count": 24,
   "metadata": {},
   "outputs": [
    {
     "ename": "AttributeError",
     "evalue": "'Series' object has no attribute 'boxplot'",
     "output_type": "error",
     "traceback": [
      "\u001b[0;31m---------------------------------------------------------------------------\u001b[0m",
      "\u001b[0;31mAttributeError\u001b[0m                            Traceback (most recent call last)",
      "\u001b[0;32m<ipython-input-24-c295c247f9fc>\u001b[0m in \u001b[0;36m<module>\u001b[0;34m()\u001b[0m\n\u001b[0;32m----> 1\u001b[0;31m \u001b[0mdf\u001b[0m\u001b[0;34m[\u001b[0m\u001b[0;34m'Class'\u001b[0m\u001b[0;34m]\u001b[0m\u001b[0;34m.\u001b[0m\u001b[0mboxplot\u001b[0m\u001b[0;34m(\u001b[0m\u001b[0;34m)\u001b[0m\u001b[0;34m\u001b[0m\u001b[0;34m\u001b[0m\u001b[0m\n\u001b[0m",
      "\u001b[0;32m~/miniconda3/lib/python3.6/site-packages/pandas/core/generic.py\u001b[0m in \u001b[0;36m__getattr__\u001b[0;34m(self, name)\u001b[0m\n\u001b[1;32m   5065\u001b[0m             \u001b[0;32mif\u001b[0m \u001b[0mself\u001b[0m\u001b[0;34m.\u001b[0m\u001b[0m_info_axis\u001b[0m\u001b[0;34m.\u001b[0m\u001b[0m_can_hold_identifiers_and_holds_name\u001b[0m\u001b[0;34m(\u001b[0m\u001b[0mname\u001b[0m\u001b[0;34m)\u001b[0m\u001b[0;34m:\u001b[0m\u001b[0;34m\u001b[0m\u001b[0;34m\u001b[0m\u001b[0m\n\u001b[1;32m   5066\u001b[0m                 \u001b[0;32mreturn\u001b[0m \u001b[0mself\u001b[0m\u001b[0;34m[\u001b[0m\u001b[0mname\u001b[0m\u001b[0;34m]\u001b[0m\u001b[0;34m\u001b[0m\u001b[0;34m\u001b[0m\u001b[0m\n\u001b[0;32m-> 5067\u001b[0;31m             \u001b[0;32mreturn\u001b[0m \u001b[0mobject\u001b[0m\u001b[0;34m.\u001b[0m\u001b[0m__getattribute__\u001b[0m\u001b[0;34m(\u001b[0m\u001b[0mself\u001b[0m\u001b[0;34m,\u001b[0m \u001b[0mname\u001b[0m\u001b[0;34m)\u001b[0m\u001b[0;34m\u001b[0m\u001b[0;34m\u001b[0m\u001b[0m\n\u001b[0m\u001b[1;32m   5068\u001b[0m \u001b[0;34m\u001b[0m\u001b[0m\n\u001b[1;32m   5069\u001b[0m     \u001b[0;32mdef\u001b[0m \u001b[0m__setattr__\u001b[0m\u001b[0;34m(\u001b[0m\u001b[0mself\u001b[0m\u001b[0;34m,\u001b[0m \u001b[0mname\u001b[0m\u001b[0;34m,\u001b[0m \u001b[0mvalue\u001b[0m\u001b[0;34m)\u001b[0m\u001b[0;34m:\u001b[0m\u001b[0;34m\u001b[0m\u001b[0;34m\u001b[0m\u001b[0m\n",
      "\u001b[0;31mAttributeError\u001b[0m: 'Series' object has no attribute 'boxplot'"
     ]
    }
   ],
   "source": []
  },
  {
   "cell_type": "code",
   "execution_count": 25,
   "metadata": {},
   "outputs": [],
   "source": [
    "import gluonts"
   ]
  },
  {
   "cell_type": "code",
   "execution_count": null,
   "metadata": {},
   "outputs": [],
   "source": [
    "from gluonts.mode"
   ]
  }
 ],
 "metadata": {
  "kernelspec": {
   "display_name": "Python 3",
   "language": "python",
   "name": "python3"
  },
  "language_info": {
   "codemirror_mode": {
    "name": "ipython",
    "version": 3
   },
   "file_extension": ".py",
   "mimetype": "text/x-python",
   "name": "python",
   "nbconvert_exporter": "python",
   "pygments_lexer": "ipython3",
   "version": "3.6.8"
  }
 },
 "nbformat": 4,
 "nbformat_minor": 2
}
